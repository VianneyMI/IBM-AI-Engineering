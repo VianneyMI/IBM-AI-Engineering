{
 "cells": [
  {
   "cell_type": "markdown",
   "metadata": {
    "button": false,
    "new_sheet": false,
    "run_control": {
     "read_only": false
    }
   },
   "source": [
    "<a href=\"https://cognitiveclass.ai\"><img src = \"https://s3-api.us-geo.objectstorage.softlayer.net/cf-courses-data/CognitiveClass/Logos/organization_logo/organization_logo.png\" width = 400> </a>\n",
    "\n",
    "<h1 align=center><font size = 5>Regression Models with Keras</font></h1>"
   ]
  },
  {
   "cell_type": "markdown",
   "metadata": {
    "button": false,
    "new_sheet": false,
    "run_control": {
     "read_only": false
    }
   },
   "source": [
    "## Introduction"
   ]
  },
  {
   "cell_type": "markdown",
   "metadata": {
    "button": false,
    "new_sheet": false,
    "run_control": {
     "read_only": false
    }
   },
   "source": [
    "As we discussed in the videos, despite the popularity of more powerful libraries such as PyToch and TensorFlow, they are not easy to use and have a steep learning curve. So, for people who are just starting to learn deep learning, there is no better library to use other than the Keras library. \n",
    "\n",
    "Keras is a high-level API for building deep learning models. It has gained favor for its ease of use and syntactic simplicity facilitating fast development. As you will see in this lab and the other labs in this course, building a very complex deep learning network can be achieved with Keras with only few lines of code. You will appreciate Keras even more, once you learn how to build deep models using PyTorch and TensorFlow in the other courses.\n",
    "\n",
    "So, in this lab, you will learn how to use the Keras library to build a regression model."
   ]
  },
  {
   "cell_type": "markdown",
   "metadata": {
    "button": false,
    "new_sheet": false,
    "run_control": {
     "read_only": false
    }
   },
   "source": [
    "## Table of Contents\n",
    "\n",
    "<div class=\"alert alert-block alert-info\" style=\"margin-top: 20px\">\n",
    "\n",
    "<font size = 3>\n",
    "    \n",
    "1. <a href=\"#item31\">Download and Clean Dataset</a>  \n",
    "2. <a href=\"#item32\">Import Keras</a>  \n",
    "3. <a href=\"#item33\">Build a Neural Network</a>  \n",
    "4. <a href=\"#item34\">Train and Test the Network</a>  \n",
    "\n",
    "</font>\n",
    "</div>"
   ]
  },
  {
   "cell_type": "markdown",
   "metadata": {
    "button": false,
    "new_sheet": false,
    "run_control": {
     "read_only": false
    }
   },
   "source": [
    "<a id=\"item31\"></a>"
   ]
  },
  {
   "cell_type": "markdown",
   "metadata": {
    "button": false,
    "new_sheet": false,
    "run_control": {
     "read_only": false
    }
   },
   "source": [
    "## Download and Clean Dataset"
   ]
  },
  {
   "cell_type": "markdown",
   "metadata": {
    "button": false,
    "new_sheet": false,
    "run_control": {
     "read_only": false
    }
   },
   "source": [
    "Let's start by importing the <em>pandas</em> and the Numpy libraries."
   ]
  },
  {
   "cell_type": "code",
   "execution_count": 1,
   "metadata": {
    "button": false,
    "new_sheet": false,
    "run_control": {
     "read_only": false
    }
   },
   "outputs": [],
   "source": [
    "import pandas as pd\n",
    "import numpy as np"
   ]
  },
  {
   "cell_type": "markdown",
   "metadata": {
    "button": false,
    "new_sheet": false,
    "run_control": {
     "read_only": false
    }
   },
   "source": [
    "We will be playing around with the same dataset that we used in the videos.\n",
    "\n",
    "<strong>The dataset is about the compressive strength of different samples of concrete based on the volumes of the different ingredients that were used to make them. Ingredients include:</strong>\n",
    "\n",
    "<strong>1. Cement</strong>\n",
    "\n",
    "<strong>2. Blast Furnace Slag</strong>\n",
    "\n",
    "<strong>3. Fly Ash</strong>\n",
    "\n",
    "<strong>4. Water</strong>\n",
    "\n",
    "<strong>5. Superplasticizer</strong>\n",
    "\n",
    "<strong>6. Coarse Aggregate</strong>\n",
    "\n",
    "<strong>7. Fine Aggregate</strong>"
   ]
  },
  {
   "cell_type": "markdown",
   "metadata": {
    "button": false,
    "new_sheet": false,
    "run_control": {
     "read_only": false
    }
   },
   "source": [
    "Let's download the data and read it into a <em>pandas</em> dataframe."
   ]
  },
  {
   "cell_type": "code",
   "execution_count": 2,
   "metadata": {
    "button": false,
    "new_sheet": false,
    "run_control": {
     "read_only": false
    }
   },
   "outputs": [
    {
     "data": {
      "text/html": [
       "<div>\n",
       "<style scoped>\n",
       "    .dataframe tbody tr th:only-of-type {\n",
       "        vertical-align: middle;\n",
       "    }\n",
       "\n",
       "    .dataframe tbody tr th {\n",
       "        vertical-align: top;\n",
       "    }\n",
       "\n",
       "    .dataframe thead th {\n",
       "        text-align: right;\n",
       "    }\n",
       "</style>\n",
       "<table border=\"1\" class=\"dataframe\">\n",
       "  <thead>\n",
       "    <tr style=\"text-align: right;\">\n",
       "      <th></th>\n",
       "      <th>Cement</th>\n",
       "      <th>Blast Furnace Slag</th>\n",
       "      <th>Fly Ash</th>\n",
       "      <th>Water</th>\n",
       "      <th>Superplasticizer</th>\n",
       "      <th>Coarse Aggregate</th>\n",
       "      <th>Fine Aggregate</th>\n",
       "      <th>Age</th>\n",
       "      <th>Strength</th>\n",
       "    </tr>\n",
       "  </thead>\n",
       "  <tbody>\n",
       "    <tr>\n",
       "      <th>0</th>\n",
       "      <td>540.0</td>\n",
       "      <td>0.0</td>\n",
       "      <td>0.0</td>\n",
       "      <td>162.0</td>\n",
       "      <td>2.5</td>\n",
       "      <td>1040.0</td>\n",
       "      <td>676.0</td>\n",
       "      <td>28</td>\n",
       "      <td>79.99</td>\n",
       "    </tr>\n",
       "    <tr>\n",
       "      <th>1</th>\n",
       "      <td>540.0</td>\n",
       "      <td>0.0</td>\n",
       "      <td>0.0</td>\n",
       "      <td>162.0</td>\n",
       "      <td>2.5</td>\n",
       "      <td>1055.0</td>\n",
       "      <td>676.0</td>\n",
       "      <td>28</td>\n",
       "      <td>61.89</td>\n",
       "    </tr>\n",
       "    <tr>\n",
       "      <th>2</th>\n",
       "      <td>332.5</td>\n",
       "      <td>142.5</td>\n",
       "      <td>0.0</td>\n",
       "      <td>228.0</td>\n",
       "      <td>0.0</td>\n",
       "      <td>932.0</td>\n",
       "      <td>594.0</td>\n",
       "      <td>270</td>\n",
       "      <td>40.27</td>\n",
       "    </tr>\n",
       "    <tr>\n",
       "      <th>3</th>\n",
       "      <td>332.5</td>\n",
       "      <td>142.5</td>\n",
       "      <td>0.0</td>\n",
       "      <td>228.0</td>\n",
       "      <td>0.0</td>\n",
       "      <td>932.0</td>\n",
       "      <td>594.0</td>\n",
       "      <td>365</td>\n",
       "      <td>41.05</td>\n",
       "    </tr>\n",
       "    <tr>\n",
       "      <th>4</th>\n",
       "      <td>198.6</td>\n",
       "      <td>132.4</td>\n",
       "      <td>0.0</td>\n",
       "      <td>192.0</td>\n",
       "      <td>0.0</td>\n",
       "      <td>978.4</td>\n",
       "      <td>825.5</td>\n",
       "      <td>360</td>\n",
       "      <td>44.30</td>\n",
       "    </tr>\n",
       "  </tbody>\n",
       "</table>\n",
       "</div>"
      ],
      "text/plain": [
       "   Cement  Blast Furnace Slag  Fly Ash  Water  Superplasticizer  \\\n",
       "0   540.0                 0.0      0.0  162.0               2.5   \n",
       "1   540.0                 0.0      0.0  162.0               2.5   \n",
       "2   332.5               142.5      0.0  228.0               0.0   \n",
       "3   332.5               142.5      0.0  228.0               0.0   \n",
       "4   198.6               132.4      0.0  192.0               0.0   \n",
       "\n",
       "   Coarse Aggregate  Fine Aggregate  Age  Strength  \n",
       "0            1040.0           676.0   28     79.99  \n",
       "1            1055.0           676.0   28     61.89  \n",
       "2             932.0           594.0  270     40.27  \n",
       "3             932.0           594.0  365     41.05  \n",
       "4             978.4           825.5  360     44.30  "
      ]
     },
     "execution_count": 2,
     "metadata": {},
     "output_type": "execute_result"
    }
   ],
   "source": [
    "concrete_data = pd.read_csv('https://s3-api.us-geo.objectstorage.softlayer.net/cf-courses-data/CognitiveClass/DL0101EN/labs/data/concrete_data.csv')\n",
    "concrete_data.head()"
   ]
  },
  {
   "cell_type": "markdown",
   "metadata": {
    "button": false,
    "new_sheet": false,
    "run_control": {
     "read_only": false
    }
   },
   "source": [
    "So the first concrete sample has 540 cubic meter of cement, 0 cubic meter of blast furnace slag, 0 cubic meter of fly ash, 162 cubic meter of water, 2.5 cubic meter of superplaticizer, 1040 cubic meter of coarse aggregate, 676 cubic meter of fine aggregate. Such a concrete mix which is 28 days old, has a compressive strength of 79.99 MPa. "
   ]
  },
  {
   "cell_type": "markdown",
   "metadata": {
    "button": false,
    "new_sheet": false,
    "run_control": {
     "read_only": false
    }
   },
   "source": [
    "#### Let's check how many data points we have."
   ]
  },
  {
   "cell_type": "code",
   "execution_count": 3,
   "metadata": {
    "button": false,
    "new_sheet": false,
    "run_control": {
     "read_only": false
    }
   },
   "outputs": [
    {
     "data": {
      "text/plain": [
       "(1030, 9)"
      ]
     },
     "execution_count": 3,
     "metadata": {},
     "output_type": "execute_result"
    }
   ],
   "source": [
    "concrete_data.shape"
   ]
  },
  {
   "cell_type": "markdown",
   "metadata": {
    "button": false,
    "new_sheet": false,
    "run_control": {
     "read_only": false
    }
   },
   "source": [
    "So, there are approximately 1000 samples to train our model on. Because of the few samples, we have to be careful not to overfit the training data."
   ]
  },
  {
   "cell_type": "markdown",
   "metadata": {
    "button": false,
    "new_sheet": false,
    "run_control": {
     "read_only": false
    }
   },
   "source": [
    "Let's check the dataset for any missing values."
   ]
  },
  {
   "cell_type": "code",
   "execution_count": 4,
   "metadata": {
    "button": false,
    "new_sheet": false,
    "run_control": {
     "read_only": false
    }
   },
   "outputs": [
    {
     "data": {
      "text/html": [
       "<div>\n",
       "<style scoped>\n",
       "    .dataframe tbody tr th:only-of-type {\n",
       "        vertical-align: middle;\n",
       "    }\n",
       "\n",
       "    .dataframe tbody tr th {\n",
       "        vertical-align: top;\n",
       "    }\n",
       "\n",
       "    .dataframe thead th {\n",
       "        text-align: right;\n",
       "    }\n",
       "</style>\n",
       "<table border=\"1\" class=\"dataframe\">\n",
       "  <thead>\n",
       "    <tr style=\"text-align: right;\">\n",
       "      <th></th>\n",
       "      <th>Cement</th>\n",
       "      <th>Blast Furnace Slag</th>\n",
       "      <th>Fly Ash</th>\n",
       "      <th>Water</th>\n",
       "      <th>Superplasticizer</th>\n",
       "      <th>Coarse Aggregate</th>\n",
       "      <th>Fine Aggregate</th>\n",
       "      <th>Age</th>\n",
       "      <th>Strength</th>\n",
       "    </tr>\n",
       "  </thead>\n",
       "  <tbody>\n",
       "    <tr>\n",
       "      <th>count</th>\n",
       "      <td>1030.000000</td>\n",
       "      <td>1030.000000</td>\n",
       "      <td>1030.000000</td>\n",
       "      <td>1030.000000</td>\n",
       "      <td>1030.000000</td>\n",
       "      <td>1030.000000</td>\n",
       "      <td>1030.000000</td>\n",
       "      <td>1030.000000</td>\n",
       "      <td>1030.000000</td>\n",
       "    </tr>\n",
       "    <tr>\n",
       "      <th>mean</th>\n",
       "      <td>281.167864</td>\n",
       "      <td>73.895825</td>\n",
       "      <td>54.188350</td>\n",
       "      <td>181.567282</td>\n",
       "      <td>6.204660</td>\n",
       "      <td>972.918932</td>\n",
       "      <td>773.580485</td>\n",
       "      <td>45.662136</td>\n",
       "      <td>35.817961</td>\n",
       "    </tr>\n",
       "    <tr>\n",
       "      <th>std</th>\n",
       "      <td>104.506364</td>\n",
       "      <td>86.279342</td>\n",
       "      <td>63.997004</td>\n",
       "      <td>21.354219</td>\n",
       "      <td>5.973841</td>\n",
       "      <td>77.753954</td>\n",
       "      <td>80.175980</td>\n",
       "      <td>63.169912</td>\n",
       "      <td>16.705742</td>\n",
       "    </tr>\n",
       "    <tr>\n",
       "      <th>min</th>\n",
       "      <td>102.000000</td>\n",
       "      <td>0.000000</td>\n",
       "      <td>0.000000</td>\n",
       "      <td>121.800000</td>\n",
       "      <td>0.000000</td>\n",
       "      <td>801.000000</td>\n",
       "      <td>594.000000</td>\n",
       "      <td>1.000000</td>\n",
       "      <td>2.330000</td>\n",
       "    </tr>\n",
       "    <tr>\n",
       "      <th>25%</th>\n",
       "      <td>192.375000</td>\n",
       "      <td>0.000000</td>\n",
       "      <td>0.000000</td>\n",
       "      <td>164.900000</td>\n",
       "      <td>0.000000</td>\n",
       "      <td>932.000000</td>\n",
       "      <td>730.950000</td>\n",
       "      <td>7.000000</td>\n",
       "      <td>23.710000</td>\n",
       "    </tr>\n",
       "    <tr>\n",
       "      <th>50%</th>\n",
       "      <td>272.900000</td>\n",
       "      <td>22.000000</td>\n",
       "      <td>0.000000</td>\n",
       "      <td>185.000000</td>\n",
       "      <td>6.400000</td>\n",
       "      <td>968.000000</td>\n",
       "      <td>779.500000</td>\n",
       "      <td>28.000000</td>\n",
       "      <td>34.445000</td>\n",
       "    </tr>\n",
       "    <tr>\n",
       "      <th>75%</th>\n",
       "      <td>350.000000</td>\n",
       "      <td>142.950000</td>\n",
       "      <td>118.300000</td>\n",
       "      <td>192.000000</td>\n",
       "      <td>10.200000</td>\n",
       "      <td>1029.400000</td>\n",
       "      <td>824.000000</td>\n",
       "      <td>56.000000</td>\n",
       "      <td>46.135000</td>\n",
       "    </tr>\n",
       "    <tr>\n",
       "      <th>max</th>\n",
       "      <td>540.000000</td>\n",
       "      <td>359.400000</td>\n",
       "      <td>200.100000</td>\n",
       "      <td>247.000000</td>\n",
       "      <td>32.200000</td>\n",
       "      <td>1145.000000</td>\n",
       "      <td>992.600000</td>\n",
       "      <td>365.000000</td>\n",
       "      <td>82.600000</td>\n",
       "    </tr>\n",
       "  </tbody>\n",
       "</table>\n",
       "</div>"
      ],
      "text/plain": [
       "            Cement  Blast Furnace Slag      Fly Ash        Water  \\\n",
       "count  1030.000000         1030.000000  1030.000000  1030.000000   \n",
       "mean    281.167864           73.895825    54.188350   181.567282   \n",
       "std     104.506364           86.279342    63.997004    21.354219   \n",
       "min     102.000000            0.000000     0.000000   121.800000   \n",
       "25%     192.375000            0.000000     0.000000   164.900000   \n",
       "50%     272.900000           22.000000     0.000000   185.000000   \n",
       "75%     350.000000          142.950000   118.300000   192.000000   \n",
       "max     540.000000          359.400000   200.100000   247.000000   \n",
       "\n",
       "       Superplasticizer  Coarse Aggregate  Fine Aggregate          Age  \\\n",
       "count       1030.000000       1030.000000     1030.000000  1030.000000   \n",
       "mean           6.204660        972.918932      773.580485    45.662136   \n",
       "std            5.973841         77.753954       80.175980    63.169912   \n",
       "min            0.000000        801.000000      594.000000     1.000000   \n",
       "25%            0.000000        932.000000      730.950000     7.000000   \n",
       "50%            6.400000        968.000000      779.500000    28.000000   \n",
       "75%           10.200000       1029.400000      824.000000    56.000000   \n",
       "max           32.200000       1145.000000      992.600000   365.000000   \n",
       "\n",
       "          Strength  \n",
       "count  1030.000000  \n",
       "mean     35.817961  \n",
       "std      16.705742  \n",
       "min       2.330000  \n",
       "25%      23.710000  \n",
       "50%      34.445000  \n",
       "75%      46.135000  \n",
       "max      82.600000  "
      ]
     },
     "execution_count": 4,
     "metadata": {},
     "output_type": "execute_result"
    }
   ],
   "source": [
    "concrete_data.describe()"
   ]
  },
  {
   "cell_type": "code",
   "execution_count": 5,
   "metadata": {
    "button": false,
    "new_sheet": false,
    "run_control": {
     "read_only": false
    }
   },
   "outputs": [
    {
     "data": {
      "text/plain": [
       "Cement                0\n",
       "Blast Furnace Slag    0\n",
       "Fly Ash               0\n",
       "Water                 0\n",
       "Superplasticizer      0\n",
       "Coarse Aggregate      0\n",
       "Fine Aggregate        0\n",
       "Age                   0\n",
       "Strength              0\n",
       "dtype: int64"
      ]
     },
     "execution_count": 5,
     "metadata": {},
     "output_type": "execute_result"
    }
   ],
   "source": [
    "concrete_data.isnull().sum()"
   ]
  },
  {
   "cell_type": "markdown",
   "metadata": {
    "button": false,
    "new_sheet": false,
    "run_control": {
     "read_only": false
    }
   },
   "source": [
    "The data looks very clean and is ready to be used to build our model."
   ]
  },
  {
   "cell_type": "markdown",
   "metadata": {
    "button": false,
    "new_sheet": false,
    "run_control": {
     "read_only": false
    }
   },
   "source": [
    "#### Split data into predictors and target"
   ]
  },
  {
   "cell_type": "markdown",
   "metadata": {},
   "source": [
    "The target variable in this problem is the concrete sample strength. Therefore, our predictors will be all the other columns."
   ]
  },
  {
   "cell_type": "code",
   "execution_count": 6,
   "metadata": {
    "button": false,
    "new_sheet": false,
    "run_control": {
     "read_only": false
    }
   },
   "outputs": [],
   "source": [
    "concrete_data_columns = concrete_data.columns\n",
    "\n",
    "predictors = concrete_data[concrete_data_columns[concrete_data_columns != 'Strength']] # all columns except Strength\n",
    "target = concrete_data['Strength'] # Strength column"
   ]
  },
  {
   "cell_type": "code",
   "execution_count": 9,
   "metadata": {},
   "outputs": [
    {
     "data": {
      "text/plain": [
       "Index(['Cement', 'Blast Furnace Slag', 'Fly Ash', 'Water', 'Superplasticizer',\n",
       "       'Coarse Aggregate', 'Fine Aggregate', 'Age', 'Strength'],\n",
       "      dtype='object')"
      ]
     },
     "execution_count": 9,
     "metadata": {},
     "output_type": "execute_result"
    }
   ],
   "source": [
    "concrete_data_columns"
   ]
  },
  {
   "cell_type": "code",
   "execution_count": 8,
   "metadata": {},
   "outputs": [
    {
     "data": {
      "text/plain": [
       "array([ True,  True,  True,  True,  True,  True,  True,  True, False])"
      ]
     },
     "execution_count": 8,
     "metadata": {},
     "output_type": "execute_result"
    }
   ],
   "source": [
    "concrete_data_columns!='Strength'"
   ]
  },
  {
   "cell_type": "code",
   "execution_count": 12,
   "metadata": {},
   "outputs": [
    {
     "ename": "IndexError",
     "evalue": "boolean index did not match indexed array along dimension 0; dimension is 9 but corresponding boolean dimension is 1",
     "output_type": "error",
     "traceback": [
      "\u001b[0;31m---------------------------------------------------------------------------\u001b[0m",
      "\u001b[0;31mIndexError\u001b[0m                                Traceback (most recent call last)",
      "\u001b[0;32m<ipython-input-12-9481eb96d6cb>\u001b[0m in \u001b[0;36m<module>\u001b[0;34m\u001b[0m\n\u001b[0;32m----> 1\u001b[0;31m \u001b[0mconcrete_data_columns\u001b[0m\u001b[0;34m[\u001b[0m\u001b[0;34m[\u001b[0m\u001b[0;32mTrue\u001b[0m\u001b[0;34m]\u001b[0m\u001b[0;34m]\u001b[0m\u001b[0;34m\u001b[0m\u001b[0;34m\u001b[0m\u001b[0m\n\u001b[0m",
      "\u001b[0;32m~/conda/envs/python/lib/python3.6/site-packages/pandas/core/indexes/base.py\u001b[0m in \u001b[0;36m__getitem__\u001b[0;34m(self, key)\u001b[0m\n\u001b[1;32m   3938\u001b[0m \u001b[0;34m\u001b[0m\u001b[0m\n\u001b[1;32m   3939\u001b[0m         \u001b[0mkey\u001b[0m \u001b[0;34m=\u001b[0m \u001b[0mcom\u001b[0m\u001b[0;34m.\u001b[0m\u001b[0mvalues_from_object\u001b[0m\u001b[0;34m(\u001b[0m\u001b[0mkey\u001b[0m\u001b[0;34m)\u001b[0m\u001b[0;34m\u001b[0m\u001b[0;34m\u001b[0m\u001b[0m\n\u001b[0;32m-> 3940\u001b[0;31m         \u001b[0mresult\u001b[0m \u001b[0;34m=\u001b[0m \u001b[0mgetitem\u001b[0m\u001b[0;34m(\u001b[0m\u001b[0mkey\u001b[0m\u001b[0;34m)\u001b[0m\u001b[0;34m\u001b[0m\u001b[0;34m\u001b[0m\u001b[0m\n\u001b[0m\u001b[1;32m   3941\u001b[0m         \u001b[0;32mif\u001b[0m \u001b[0;32mnot\u001b[0m \u001b[0mis_scalar\u001b[0m\u001b[0;34m(\u001b[0m\u001b[0mresult\u001b[0m\u001b[0;34m)\u001b[0m\u001b[0;34m:\u001b[0m\u001b[0;34m\u001b[0m\u001b[0;34m\u001b[0m\u001b[0m\n\u001b[1;32m   3942\u001b[0m             \u001b[0;32mif\u001b[0m \u001b[0mnp\u001b[0m\u001b[0;34m.\u001b[0m\u001b[0mndim\u001b[0m\u001b[0;34m(\u001b[0m\u001b[0mresult\u001b[0m\u001b[0;34m)\u001b[0m \u001b[0;34m>\u001b[0m \u001b[0;36m1\u001b[0m\u001b[0;34m:\u001b[0m\u001b[0;34m\u001b[0m\u001b[0;34m\u001b[0m\u001b[0m\n",
      "\u001b[0;31mIndexError\u001b[0m: boolean index did not match indexed array along dimension 0; dimension is 9 but corresponding boolean dimension is 1"
     ]
    }
   ],
   "source": [
    "concrete_data_columns[[True]]"
   ]
  },
  {
   "cell_type": "markdown",
   "metadata": {
    "button": false,
    "new_sheet": false,
    "run_control": {
     "read_only": false
    }
   },
   "source": [
    "<a id=\"item2\"></a>"
   ]
  },
  {
   "cell_type": "markdown",
   "metadata": {
    "button": false,
    "new_sheet": false,
    "run_control": {
     "read_only": false
    }
   },
   "source": [
    "Let's do a quick sanity check of the predictors and the target dataframes."
   ]
  },
  {
   "cell_type": "code",
   "execution_count": 13,
   "metadata": {
    "button": false,
    "new_sheet": false,
    "run_control": {
     "read_only": false
    }
   },
   "outputs": [
    {
     "data": {
      "text/html": [
       "<div>\n",
       "<style scoped>\n",
       "    .dataframe tbody tr th:only-of-type {\n",
       "        vertical-align: middle;\n",
       "    }\n",
       "\n",
       "    .dataframe tbody tr th {\n",
       "        vertical-align: top;\n",
       "    }\n",
       "\n",
       "    .dataframe thead th {\n",
       "        text-align: right;\n",
       "    }\n",
       "</style>\n",
       "<table border=\"1\" class=\"dataframe\">\n",
       "  <thead>\n",
       "    <tr style=\"text-align: right;\">\n",
       "      <th></th>\n",
       "      <th>Cement</th>\n",
       "      <th>Blast Furnace Slag</th>\n",
       "      <th>Fly Ash</th>\n",
       "      <th>Water</th>\n",
       "      <th>Superplasticizer</th>\n",
       "      <th>Coarse Aggregate</th>\n",
       "      <th>Fine Aggregate</th>\n",
       "      <th>Age</th>\n",
       "    </tr>\n",
       "  </thead>\n",
       "  <tbody>\n",
       "    <tr>\n",
       "      <th>0</th>\n",
       "      <td>540.0</td>\n",
       "      <td>0.0</td>\n",
       "      <td>0.0</td>\n",
       "      <td>162.0</td>\n",
       "      <td>2.5</td>\n",
       "      <td>1040.0</td>\n",
       "      <td>676.0</td>\n",
       "      <td>28</td>\n",
       "    </tr>\n",
       "    <tr>\n",
       "      <th>1</th>\n",
       "      <td>540.0</td>\n",
       "      <td>0.0</td>\n",
       "      <td>0.0</td>\n",
       "      <td>162.0</td>\n",
       "      <td>2.5</td>\n",
       "      <td>1055.0</td>\n",
       "      <td>676.0</td>\n",
       "      <td>28</td>\n",
       "    </tr>\n",
       "    <tr>\n",
       "      <th>2</th>\n",
       "      <td>332.5</td>\n",
       "      <td>142.5</td>\n",
       "      <td>0.0</td>\n",
       "      <td>228.0</td>\n",
       "      <td>0.0</td>\n",
       "      <td>932.0</td>\n",
       "      <td>594.0</td>\n",
       "      <td>270</td>\n",
       "    </tr>\n",
       "    <tr>\n",
       "      <th>3</th>\n",
       "      <td>332.5</td>\n",
       "      <td>142.5</td>\n",
       "      <td>0.0</td>\n",
       "      <td>228.0</td>\n",
       "      <td>0.0</td>\n",
       "      <td>932.0</td>\n",
       "      <td>594.0</td>\n",
       "      <td>365</td>\n",
       "    </tr>\n",
       "    <tr>\n",
       "      <th>4</th>\n",
       "      <td>198.6</td>\n",
       "      <td>132.4</td>\n",
       "      <td>0.0</td>\n",
       "      <td>192.0</td>\n",
       "      <td>0.0</td>\n",
       "      <td>978.4</td>\n",
       "      <td>825.5</td>\n",
       "      <td>360</td>\n",
       "    </tr>\n",
       "  </tbody>\n",
       "</table>\n",
       "</div>"
      ],
      "text/plain": [
       "   Cement  Blast Furnace Slag  Fly Ash  Water  Superplasticizer  \\\n",
       "0   540.0                 0.0      0.0  162.0               2.5   \n",
       "1   540.0                 0.0      0.0  162.0               2.5   \n",
       "2   332.5               142.5      0.0  228.0               0.0   \n",
       "3   332.5               142.5      0.0  228.0               0.0   \n",
       "4   198.6               132.4      0.0  192.0               0.0   \n",
       "\n",
       "   Coarse Aggregate  Fine Aggregate  Age  \n",
       "0            1040.0           676.0   28  \n",
       "1            1055.0           676.0   28  \n",
       "2             932.0           594.0  270  \n",
       "3             932.0           594.0  365  \n",
       "4             978.4           825.5  360  "
      ]
     },
     "execution_count": 13,
     "metadata": {},
     "output_type": "execute_result"
    }
   ],
   "source": [
    "predictors.head()"
   ]
  },
  {
   "cell_type": "code",
   "execution_count": 14,
   "metadata": {
    "button": false,
    "new_sheet": false,
    "run_control": {
     "read_only": false
    }
   },
   "outputs": [
    {
     "data": {
      "text/plain": [
       "0    79.99\n",
       "1    61.89\n",
       "2    40.27\n",
       "3    41.05\n",
       "4    44.30\n",
       "Name: Strength, dtype: float64"
      ]
     },
     "execution_count": 14,
     "metadata": {},
     "output_type": "execute_result"
    }
   ],
   "source": [
    "target.head()"
   ]
  },
  {
   "cell_type": "markdown",
   "metadata": {
    "button": false,
    "new_sheet": false,
    "run_control": {
     "read_only": false
    }
   },
   "source": [
    "Finally, the last step is to normalize the data by substracting the mean and dividing by the standard deviation."
   ]
  },
  {
   "cell_type": "code",
   "execution_count": 15,
   "metadata": {
    "button": false,
    "new_sheet": false,
    "run_control": {
     "read_only": false
    }
   },
   "outputs": [
    {
     "data": {
      "text/html": [
       "<div>\n",
       "<style scoped>\n",
       "    .dataframe tbody tr th:only-of-type {\n",
       "        vertical-align: middle;\n",
       "    }\n",
       "\n",
       "    .dataframe tbody tr th {\n",
       "        vertical-align: top;\n",
       "    }\n",
       "\n",
       "    .dataframe thead th {\n",
       "        text-align: right;\n",
       "    }\n",
       "</style>\n",
       "<table border=\"1\" class=\"dataframe\">\n",
       "  <thead>\n",
       "    <tr style=\"text-align: right;\">\n",
       "      <th></th>\n",
       "      <th>Cement</th>\n",
       "      <th>Blast Furnace Slag</th>\n",
       "      <th>Fly Ash</th>\n",
       "      <th>Water</th>\n",
       "      <th>Superplasticizer</th>\n",
       "      <th>Coarse Aggregate</th>\n",
       "      <th>Fine Aggregate</th>\n",
       "      <th>Age</th>\n",
       "    </tr>\n",
       "  </thead>\n",
       "  <tbody>\n",
       "    <tr>\n",
       "      <th>0</th>\n",
       "      <td>2.476712</td>\n",
       "      <td>-0.856472</td>\n",
       "      <td>-0.846733</td>\n",
       "      <td>-0.916319</td>\n",
       "      <td>-0.620147</td>\n",
       "      <td>0.862735</td>\n",
       "      <td>-1.217079</td>\n",
       "      <td>-0.279597</td>\n",
       "    </tr>\n",
       "    <tr>\n",
       "      <th>1</th>\n",
       "      <td>2.476712</td>\n",
       "      <td>-0.856472</td>\n",
       "      <td>-0.846733</td>\n",
       "      <td>-0.916319</td>\n",
       "      <td>-0.620147</td>\n",
       "      <td>1.055651</td>\n",
       "      <td>-1.217079</td>\n",
       "      <td>-0.279597</td>\n",
       "    </tr>\n",
       "    <tr>\n",
       "      <th>2</th>\n",
       "      <td>0.491187</td>\n",
       "      <td>0.795140</td>\n",
       "      <td>-0.846733</td>\n",
       "      <td>2.174405</td>\n",
       "      <td>-1.038638</td>\n",
       "      <td>-0.526262</td>\n",
       "      <td>-2.239829</td>\n",
       "      <td>3.551340</td>\n",
       "    </tr>\n",
       "    <tr>\n",
       "      <th>3</th>\n",
       "      <td>0.491187</td>\n",
       "      <td>0.795140</td>\n",
       "      <td>-0.846733</td>\n",
       "      <td>2.174405</td>\n",
       "      <td>-1.038638</td>\n",
       "      <td>-0.526262</td>\n",
       "      <td>-2.239829</td>\n",
       "      <td>5.055221</td>\n",
       "    </tr>\n",
       "    <tr>\n",
       "      <th>4</th>\n",
       "      <td>-0.790075</td>\n",
       "      <td>0.678079</td>\n",
       "      <td>-0.846733</td>\n",
       "      <td>0.488555</td>\n",
       "      <td>-1.038638</td>\n",
       "      <td>0.070492</td>\n",
       "      <td>0.647569</td>\n",
       "      <td>4.976069</td>\n",
       "    </tr>\n",
       "  </tbody>\n",
       "</table>\n",
       "</div>"
      ],
      "text/plain": [
       "     Cement  Blast Furnace Slag   Fly Ash     Water  Superplasticizer  \\\n",
       "0  2.476712           -0.856472 -0.846733 -0.916319         -0.620147   \n",
       "1  2.476712           -0.856472 -0.846733 -0.916319         -0.620147   \n",
       "2  0.491187            0.795140 -0.846733  2.174405         -1.038638   \n",
       "3  0.491187            0.795140 -0.846733  2.174405         -1.038638   \n",
       "4 -0.790075            0.678079 -0.846733  0.488555         -1.038638   \n",
       "\n",
       "   Coarse Aggregate  Fine Aggregate       Age  \n",
       "0          0.862735       -1.217079 -0.279597  \n",
       "1          1.055651       -1.217079 -0.279597  \n",
       "2         -0.526262       -2.239829  3.551340  \n",
       "3         -0.526262       -2.239829  5.055221  \n",
       "4          0.070492        0.647569  4.976069  "
      ]
     },
     "execution_count": 15,
     "metadata": {},
     "output_type": "execute_result"
    }
   ],
   "source": [
    "predictors_norm = (predictors - predictors.mean()) / predictors.std()\n",
    "predictors_norm.head()"
   ]
  },
  {
   "cell_type": "markdown",
   "metadata": {},
   "source": [
    "Let's save the number of predictors to *n_cols* since we will need this number when building our network."
   ]
  },
  {
   "cell_type": "code",
   "execution_count": 16,
   "metadata": {
    "button": false,
    "new_sheet": false,
    "run_control": {
     "read_only": false
    }
   },
   "outputs": [],
   "source": [
    "n_cols = predictors_norm.shape[1] # number of predictors"
   ]
  },
  {
   "cell_type": "code",
   "execution_count": 19,
   "metadata": {},
   "outputs": [
    {
     "data": {
      "text/plain": [
       "8"
      ]
     },
     "execution_count": 19,
     "metadata": {},
     "output_type": "execute_result"
    }
   ],
   "source": [
    "n_cols"
   ]
  },
  {
   "cell_type": "markdown",
   "metadata": {
    "button": false,
    "new_sheet": false,
    "run_control": {
     "read_only": false
    }
   },
   "source": [
    "<a id=\"item1\"></a>"
   ]
  },
  {
   "cell_type": "markdown",
   "metadata": {},
   "source": [
    "<a id='item32'></a>"
   ]
  },
  {
   "cell_type": "markdown",
   "metadata": {
    "button": false,
    "new_sheet": false,
    "run_control": {
     "read_only": false
    }
   },
   "source": [
    "## Import Keras"
   ]
  },
  {
   "cell_type": "markdown",
   "metadata": {
    "button": false,
    "new_sheet": false,
    "run_control": {
     "read_only": false
    }
   },
   "source": [
    "Recall from the videos that Keras normally runs on top of a low-level library such as TensorFlow. This means that to be able to use the Keras library, you will have to install TensorFlow first and when you import the Keras library, it will be explicitly displayed what backend was used to install the Keras library. In CC Labs, we used TensorFlow as the backend to install Keras, so it should clearly print that when we import Keras."
   ]
  },
  {
   "cell_type": "markdown",
   "metadata": {
    "button": false,
    "new_sheet": false,
    "run_control": {
     "read_only": false
    }
   },
   "source": [
    "#### Let's go ahead and import the Keras library"
   ]
  },
  {
   "cell_type": "code",
   "execution_count": 17,
   "metadata": {
    "button": false,
    "new_sheet": false,
    "run_control": {
     "read_only": false
    }
   },
   "outputs": [
    {
     "name": "stderr",
     "output_type": "stream",
     "text": [
      "Using TensorFlow backend.\n",
      "/home/jupyterlab/conda/envs/python/lib/python3.6/site-packages/tensorflow/python/framework/dtypes.py:519: FutureWarning: Passing (type, 1) or '1type' as a synonym of type is deprecated; in a future version of numpy, it will be understood as (type, (1,)) / '(1,)type'.\n",
      "  _np_qint8 = np.dtype([(\"qint8\", np.int8, 1)])\n",
      "/home/jupyterlab/conda/envs/python/lib/python3.6/site-packages/tensorflow/python/framework/dtypes.py:520: FutureWarning: Passing (type, 1) or '1type' as a synonym of type is deprecated; in a future version of numpy, it will be understood as (type, (1,)) / '(1,)type'.\n",
      "  _np_quint8 = np.dtype([(\"quint8\", np.uint8, 1)])\n",
      "/home/jupyterlab/conda/envs/python/lib/python3.6/site-packages/tensorflow/python/framework/dtypes.py:521: FutureWarning: Passing (type, 1) or '1type' as a synonym of type is deprecated; in a future version of numpy, it will be understood as (type, (1,)) / '(1,)type'.\n",
      "  _np_qint16 = np.dtype([(\"qint16\", np.int16, 1)])\n",
      "/home/jupyterlab/conda/envs/python/lib/python3.6/site-packages/tensorflow/python/framework/dtypes.py:522: FutureWarning: Passing (type, 1) or '1type' as a synonym of type is deprecated; in a future version of numpy, it will be understood as (type, (1,)) / '(1,)type'.\n",
      "  _np_quint16 = np.dtype([(\"quint16\", np.uint16, 1)])\n",
      "/home/jupyterlab/conda/envs/python/lib/python3.6/site-packages/tensorflow/python/framework/dtypes.py:523: FutureWarning: Passing (type, 1) or '1type' as a synonym of type is deprecated; in a future version of numpy, it will be understood as (type, (1,)) / '(1,)type'.\n",
      "  _np_qint32 = np.dtype([(\"qint32\", np.int32, 1)])\n",
      "/home/jupyterlab/conda/envs/python/lib/python3.6/site-packages/tensorflow/python/framework/dtypes.py:528: FutureWarning: Passing (type, 1) or '1type' as a synonym of type is deprecated; in a future version of numpy, it will be understood as (type, (1,)) / '(1,)type'.\n",
      "  np_resource = np.dtype([(\"resource\", np.ubyte, 1)])\n"
     ]
    }
   ],
   "source": [
    "import keras"
   ]
  },
  {
   "cell_type": "markdown",
   "metadata": {
    "button": false,
    "new_sheet": false,
    "run_control": {
     "read_only": false
    }
   },
   "source": [
    "As you can see, the TensorFlow backend was used to install the Keras library."
   ]
  },
  {
   "cell_type": "markdown",
   "metadata": {
    "button": false,
    "new_sheet": false,
    "run_control": {
     "read_only": false
    }
   },
   "source": [
    "Let's import the rest of the packages from the Keras library that we will need to build our regressoin model."
   ]
  },
  {
   "cell_type": "code",
   "execution_count": 18,
   "metadata": {
    "button": false,
    "new_sheet": false,
    "run_control": {
     "read_only": false
    }
   },
   "outputs": [],
   "source": [
    "from keras.models import Sequential\n",
    "from keras.layers import Dense"
   ]
  },
  {
   "cell_type": "markdown",
   "metadata": {},
   "source": [
    "<a id='item33'></a>"
   ]
  },
  {
   "cell_type": "markdown",
   "metadata": {
    "button": false,
    "new_sheet": false,
    "run_control": {
     "read_only": false
    }
   },
   "source": [
    "## Build a Neural Network"
   ]
  },
  {
   "cell_type": "markdown",
   "metadata": {
    "button": false,
    "new_sheet": false,
    "run_control": {
     "read_only": false
    }
   },
   "source": [
    "Let's define a function that defines our regression model for us so that we can conveniently call it to create our model."
   ]
  },
  {
   "cell_type": "code",
   "execution_count": 20,
   "metadata": {
    "button": false,
    "new_sheet": false,
    "run_control": {
     "read_only": false
    }
   },
   "outputs": [],
   "source": [
    "# define regression model\n",
    "def regression_model():\n",
    "    # create model\n",
    "    model = Sequential()\n",
    "    model.add(Dense(50, activation='relu', input_shape=(n_cols,)))\n",
    "    model.add(Dense(50, activation='relu'))\n",
    "    model.add(Dense(1))\n",
    "    \n",
    "    # compile model\n",
    "    model.compile(optimizer='adam', loss='mean_squared_error')\n",
    "    return model"
   ]
  },
  {
   "cell_type": "code",
   "execution_count": 25,
   "metadata": {},
   "outputs": [],
   "source": [
    "# define regression model\n",
    "def regression_model_custom(hidden_layers=1, nodes=10):\n",
    "    # create model\n",
    "    model = Sequential()\n",
    "    model.add(Dense(nodes, activation='relu', input_shape=(n_cols,))) #Fist Hidden Layer\n",
    "    for i in range(2,hidden_layers+1):\n",
    "        model.add(Dense(nodes, activation='relu')) #Other hidden layers if any\n",
    "    model.add(Dense(1))\n",
    "    \n",
    "    # compile model\n",
    "    model.compile(optimizer='adam', loss='mean_squared_error')\n",
    "    return model"
   ]
  },
  {
   "cell_type": "code",
   "execution_count": 32,
   "metadata": {},
   "outputs": [],
   "source": [
    "model2=regression_model_custom(3,9)"
   ]
  },
  {
   "cell_type": "code",
   "execution_count": 33,
   "metadata": {
    "scrolled": true
   },
   "outputs": [
    {
     "name": "stdout",
     "output_type": "stream",
     "text": [
      "Train on 721 samples, validate on 309 samples\n",
      "Epoch 1/200\n",
      "721/721 [==============================] - 1s 1ms/step - loss: 1646.2881 - val_loss: 1187.6024\n",
      "Epoch 2/200\n",
      "721/721 [==============================] - 0s 446us/step - loss: 1602.8204 - val_loss: 1157.1339\n",
      "Epoch 3/200\n",
      "721/721 [==============================] - 0s 419us/step - loss: 1543.8497 - val_loss: 1115.5278\n",
      "Epoch 4/200\n",
      "721/721 [==============================] - 0s 521us/step - loss: 1461.4245 - val_loss: 1058.0449\n",
      "Epoch 5/200\n",
      "721/721 [==============================] - 0s 444us/step - loss: 1345.8383 - val_loss: 979.4400\n",
      "Epoch 6/200\n",
      "721/721 [==============================] - 0s 472us/step - loss: 1185.5244 - val_loss: 876.4284\n",
      "Epoch 7/200\n",
      "721/721 [==============================] - 0s 470us/step - loss: 981.9974 - val_loss: 754.8338\n",
      "Epoch 8/200\n",
      "721/721 [==============================] - 0s 522us/step - loss: 759.3523 - val_loss: 627.7625\n",
      "Epoch 9/200\n",
      "721/721 [==============================] - 0s 562us/step - loss: 565.8397 - val_loss: 515.4034\n",
      "Epoch 10/200\n",
      "721/721 [==============================] - 0s 476us/step - loss: 438.2295 - val_loss: 426.3277\n",
      "Epoch 11/200\n",
      "721/721 [==============================] - 0s 442us/step - loss: 357.2680 - val_loss: 349.8998\n",
      "Epoch 12/200\n",
      "721/721 [==============================] - 0s 454us/step - loss: 302.4512 - val_loss: 292.7356\n",
      "Epoch 13/200\n",
      "721/721 [==============================] - 0s 493us/step - loss: 268.1386 - val_loss: 253.1599\n",
      "Epoch 14/200\n",
      "721/721 [==============================] - 0s 440us/step - loss: 243.6006 - val_loss: 228.4681\n",
      "Epoch 15/200\n",
      "721/721 [==============================] - 0s 583us/step - loss: 230.3746 - val_loss: 209.3511\n",
      "Epoch 16/200\n",
      "721/721 [==============================] - 0s 491us/step - loss: 217.3337 - val_loss: 199.5564\n",
      "Epoch 17/200\n",
      "721/721 [==============================] - 0s 471us/step - loss: 209.6213 - val_loss: 192.7324\n",
      "Epoch 18/200\n",
      "721/721 [==============================] - 0s 471us/step - loss: 202.9122 - val_loss: 183.8641\n",
      "Epoch 19/200\n",
      "721/721 [==============================] - 0s 444us/step - loss: 195.7821 - val_loss: 179.4532\n",
      "Epoch 20/200\n",
      "721/721 [==============================] - 0s 466us/step - loss: 190.3121 - val_loss: 175.0924\n",
      "Epoch 21/200\n",
      "721/721 [==============================] - 0s 577us/step - loss: 185.4288 - val_loss: 170.7813\n",
      "Epoch 22/200\n",
      "721/721 [==============================] - 0s 418us/step - loss: 181.0561 - val_loss: 165.4500\n",
      "Epoch 23/200\n",
      "721/721 [==============================] - 0s 414us/step - loss: 177.0219 - val_loss: 162.7693\n",
      "Epoch 24/200\n",
      "721/721 [==============================] - 0s 473us/step - loss: 173.7136 - val_loss: 158.2142\n",
      "Epoch 25/200\n",
      "721/721 [==============================] - 0s 494us/step - loss: 170.4430 - val_loss: 154.1124\n",
      "Epoch 26/200\n",
      "721/721 [==============================] - 0s 443us/step - loss: 166.7109 - val_loss: 150.5783\n",
      "Epoch 27/200\n",
      "721/721 [==============================] - 0s 499us/step - loss: 163.4170 - val_loss: 146.0198\n",
      "Epoch 28/200\n",
      "721/721 [==============================] - 0s 659us/step - loss: 160.7583 - val_loss: 143.5647\n",
      "Epoch 29/200\n",
      "721/721 [==============================] - 1s 695us/step - loss: 158.1072 - val_loss: 141.2853\n",
      "Epoch 30/200\n",
      "721/721 [==============================] - 0s 668us/step - loss: 155.1505 - val_loss: 136.9320\n",
      "Epoch 31/200\n",
      "721/721 [==============================] - 1s 830us/step - loss: 152.8249 - val_loss: 133.2151\n",
      "Epoch 32/200\n",
      "721/721 [==============================] - 1s 724us/step - loss: 150.6897 - val_loss: 131.2615\n",
      "Epoch 33/200\n",
      "721/721 [==============================] - 0s 446us/step - loss: 149.1272 - val_loss: 128.6708\n",
      "Epoch 34/200\n",
      "721/721 [==============================] - 0s 472us/step - loss: 146.3272 - val_loss: 126.5549\n",
      "Epoch 35/200\n",
      "721/721 [==============================] - 0s 497us/step - loss: 144.0006 - val_loss: 123.5652\n",
      "Epoch 36/200\n",
      "721/721 [==============================] - 0s 471us/step - loss: 142.0744 - val_loss: 120.4966\n",
      "Epoch 37/200\n",
      "721/721 [==============================] - 0s 490us/step - loss: 139.8026 - val_loss: 118.1367\n",
      "Epoch 38/200\n",
      "721/721 [==============================] - 0s 505us/step - loss: 138.0963 - val_loss: 116.1597\n",
      "Epoch 39/200\n",
      "721/721 [==============================] - 0s 469us/step - loss: 135.8333 - val_loss: 113.5188\n",
      "Epoch 40/200\n",
      "721/721 [==============================] - 0s 468us/step - loss: 133.6555 - val_loss: 110.7818\n",
      "Epoch 41/200\n",
      "721/721 [==============================] - 0s 468us/step - loss: 131.6340 - val_loss: 108.2403\n",
      "Epoch 42/200\n",
      "721/721 [==============================] - 0s 444us/step - loss: 129.7122 - val_loss: 107.5976\n",
      "Epoch 43/200\n",
      "721/721 [==============================] - 1s 743us/step - loss: 128.0631 - val_loss: 106.4810\n",
      "Epoch 44/200\n",
      "721/721 [==============================] - 0s 501us/step - loss: 125.9041 - val_loss: 105.4264\n",
      "Epoch 45/200\n",
      "721/721 [==============================] - 0s 522us/step - loss: 123.6720 - val_loss: 103.5462\n",
      "Epoch 46/200\n",
      "721/721 [==============================] - 0s 500us/step - loss: 121.6796 - val_loss: 101.5122\n",
      "Epoch 47/200\n",
      "721/721 [==============================] - 0s 494us/step - loss: 119.4174 - val_loss: 98.3456\n",
      "Epoch 48/200\n",
      "721/721 [==============================] - 0s 503us/step - loss: 117.5922 - val_loss: 97.9441\n",
      "Epoch 49/200\n",
      "721/721 [==============================] - 0s 439us/step - loss: 115.8044 - val_loss: 95.7323\n",
      "Epoch 50/200\n",
      "721/721 [==============================] - 0s 468us/step - loss: 113.4361 - val_loss: 95.9886\n",
      "Epoch 51/200\n",
      "721/721 [==============================] - 0s 529us/step - loss: 111.9865 - val_loss: 94.3664\n",
      "Epoch 52/200\n",
      "721/721 [==============================] - 0s 524us/step - loss: 109.8082 - val_loss: 95.6323\n",
      "Epoch 53/200\n",
      "721/721 [==============================] - 0s 501us/step - loss: 108.0591 - val_loss: 91.8531\n",
      "Epoch 54/200\n",
      "721/721 [==============================] - 0s 446us/step - loss: 106.0677 - val_loss: 93.9996\n",
      "Epoch 55/200\n",
      "721/721 [==============================] - 0s 441us/step - loss: 105.0498 - val_loss: 91.4064\n",
      "Epoch 56/200\n",
      "721/721 [==============================] - 0s 443us/step - loss: 102.2917 - val_loss: 90.8265\n",
      "Epoch 57/200\n",
      "721/721 [==============================] - 0s 471us/step - loss: 100.9569 - val_loss: 90.2013\n",
      "Epoch 58/200\n",
      "721/721 [==============================] - 0s 444us/step - loss: 99.4731 - val_loss: 88.0170\n",
      "Epoch 59/200\n",
      "721/721 [==============================] - 0s 449us/step - loss: 97.6983 - val_loss: 90.1800\n",
      "Epoch 60/200\n",
      "721/721 [==============================] - 0s 478us/step - loss: 96.2095 - val_loss: 88.4330\n",
      "Epoch 61/200\n",
      "721/721 [==============================] - 0s 496us/step - loss: 94.2699 - val_loss: 88.7673\n",
      "Epoch 62/200\n",
      "721/721 [==============================] - 0s 468us/step - loss: 92.7376 - val_loss: 88.7142\n",
      "Epoch 63/200\n",
      "721/721 [==============================] - 0s 441us/step - loss: 91.2201 - val_loss: 87.5197\n",
      "Epoch 64/200\n",
      "721/721 [==============================] - 0s 524us/step - loss: 89.7688 - val_loss: 87.7371\n",
      "Epoch 65/200\n",
      "721/721 [==============================] - 0s 389us/step - loss: 88.8674 - val_loss: 88.5327\n",
      "Epoch 66/200\n",
      "721/721 [==============================] - 0s 418us/step - loss: 87.8933 - val_loss: 84.7425\n",
      "Epoch 67/200\n",
      "721/721 [==============================] - 0s 469us/step - loss: 86.1998 - val_loss: 87.1312\n",
      "Epoch 68/200\n",
      "721/721 [==============================] - 0s 449us/step - loss: 84.4948 - val_loss: 85.1976\n",
      "Epoch 69/200\n",
      "721/721 [==============================] - 0s 491us/step - loss: 83.6767 - val_loss: 87.5054\n",
      "Epoch 70/200\n",
      "721/721 [==============================] - 0s 436us/step - loss: 82.6602 - val_loss: 85.1921\n",
      "Epoch 71/200\n",
      "721/721 [==============================] - 0s 418us/step - loss: 81.4033 - val_loss: 87.7478\n",
      "Epoch 72/200\n",
      "721/721 [==============================] - 1s 776us/step - loss: 80.6207 - val_loss: 84.5149\n",
      "Epoch 73/200\n",
      "721/721 [==============================] - 0s 439us/step - loss: 79.8594 - val_loss: 85.8920\n",
      "Epoch 74/200\n",
      "721/721 [==============================] - 0s 559us/step - loss: 78.6134 - val_loss: 85.5476\n",
      "Epoch 75/200\n",
      "721/721 [==============================] - 0s 307us/step - loss: 77.8428 - val_loss: 84.6529\n",
      "Epoch 76/200\n",
      "721/721 [==============================] - 0s 418us/step - loss: 77.0795 - val_loss: 83.9628\n",
      "Epoch 77/200\n",
      "721/721 [==============================] - 1s 745us/step - loss: 76.0779 - val_loss: 83.5034\n",
      "Epoch 78/200\n",
      "721/721 [==============================] - 0s 480us/step - loss: 75.8052 - val_loss: 85.7831\n",
      "Epoch 79/200\n",
      "721/721 [==============================] - 0s 522us/step - loss: 74.7545 - val_loss: 84.4586\n",
      "Epoch 80/200\n",
      "721/721 [==============================] - 0s 552us/step - loss: 74.5831 - val_loss: 84.4000\n",
      "Epoch 81/200\n",
      "721/721 [==============================] - 0s 500us/step - loss: 73.4334 - val_loss: 86.3485\n",
      "Epoch 82/200\n",
      "721/721 [==============================] - 0s 601us/step - loss: 72.7686 - val_loss: 82.9474\n",
      "Epoch 83/200\n",
      "721/721 [==============================] - 0s 425us/step - loss: 72.2956 - val_loss: 84.5944\n",
      "Epoch 84/200\n",
      "721/721 [==============================] - 0s 665us/step - loss: 71.7930 - val_loss: 83.0145\n",
      "Epoch 85/200\n",
      "721/721 [==============================] - 0s 554us/step - loss: 71.4363 - val_loss: 82.9167\n",
      "Epoch 86/200\n",
      "721/721 [==============================] - 0s 470us/step - loss: 70.7211 - val_loss: 81.9760\n",
      "Epoch 87/200\n",
      "721/721 [==============================] - 0s 497us/step - loss: 70.2470 - val_loss: 82.5331\n",
      "Epoch 88/200\n",
      "721/721 [==============================] - 0s 446us/step - loss: 69.7633 - val_loss: 83.1702\n",
      "Epoch 89/200\n",
      "721/721 [==============================] - 0s 504us/step - loss: 69.7123 - val_loss: 80.7944\n",
      "Epoch 90/200\n",
      "721/721 [==============================] - 0s 549us/step - loss: 68.6747 - val_loss: 82.9370\n",
      "Epoch 91/200\n",
      "721/721 [==============================] - 0s 474us/step - loss: 68.5114 - val_loss: 81.3264\n",
      "Epoch 92/200\n",
      "721/721 [==============================] - 0s 471us/step - loss: 68.0066 - val_loss: 84.2374\n",
      "Epoch 93/200\n",
      "721/721 [==============================] - 0s 686us/step - loss: 67.8887 - val_loss: 78.2543\n",
      "Epoch 94/200\n",
      "721/721 [==============================] - 0s 470us/step - loss: 67.5436 - val_loss: 81.9244\n",
      "Epoch 95/200\n",
      "721/721 [==============================] - 0s 553us/step - loss: 66.9456 - val_loss: 83.3801\n",
      "Epoch 96/200\n",
      "721/721 [==============================] - 0s 447us/step - loss: 66.3444 - val_loss: 80.7638\n",
      "Epoch 97/200\n",
      "721/721 [==============================] - 0s 524us/step - loss: 66.2433 - val_loss: 81.3271\n",
      "Epoch 98/200\n",
      "721/721 [==============================] - 0s 476us/step - loss: 65.5649 - val_loss: 81.8750\n",
      "Epoch 99/200\n",
      "721/721 [==============================] - 0s 574us/step - loss: 65.2251 - val_loss: 82.3393\n",
      "Epoch 100/200\n",
      "721/721 [==============================] - 0s 444us/step - loss: 64.9477 - val_loss: 78.9503\n",
      "Epoch 101/200\n",
      "721/721 [==============================] - 0s 415us/step - loss: 64.4304 - val_loss: 82.5019\n",
      "Epoch 102/200\n",
      "721/721 [==============================] - 0s 476us/step - loss: 64.1291 - val_loss: 81.3655\n",
      "Epoch 103/200\n",
      "721/721 [==============================] - 0s 470us/step - loss: 63.8036 - val_loss: 80.5827\n",
      "Epoch 104/200\n",
      "721/721 [==============================] - 0s 494us/step - loss: 63.6620 - val_loss: 80.2759\n",
      "Epoch 105/200\n",
      "721/721 [==============================] - 0s 445us/step - loss: 63.6261 - val_loss: 79.6565\n",
      "Epoch 106/200\n",
      "721/721 [==============================] - 0s 470us/step - loss: 63.3208 - val_loss: 82.0284\n",
      "Epoch 107/200\n",
      "721/721 [==============================] - ETA: 0s - loss: 62.77 - 0s 550us/step - loss: 63.1248 - val_loss: 81.7032\n",
      "Epoch 108/200\n",
      "721/721 [==============================] - 0s 478us/step - loss: 62.6871 - val_loss: 80.3750\n",
      "Epoch 109/200\n",
      "721/721 [==============================] - 0s 393us/step - loss: 62.4668 - val_loss: 81.8705\n",
      "Epoch 110/200\n",
      "721/721 [==============================] - 0s 473us/step - loss: 61.6954 - val_loss: 80.8771\n",
      "Epoch 111/200\n",
      "721/721 [==============================] - 0s 521us/step - loss: 61.3725 - val_loss: 79.1217\n",
      "Epoch 112/200\n",
      "721/721 [==============================] - 0s 521us/step - loss: 61.2528 - val_loss: 82.0319\n",
      "Epoch 113/200\n",
      "721/721 [==============================] - 0s 551us/step - loss: 60.9557 - val_loss: 79.6702\n",
      "Epoch 114/200\n",
      "721/721 [==============================] - 0s 419us/step - loss: 60.9278 - val_loss: 80.1627\n",
      "Epoch 115/200\n",
      "721/721 [==============================] - 0s 469us/step - loss: 60.3569 - val_loss: 80.4501\n",
      "Epoch 116/200\n",
      "721/721 [==============================] - 1s 974us/step - loss: 60.1016 - val_loss: 82.6396\n",
      "Epoch 117/200\n",
      "721/721 [==============================] - 0s 475us/step - loss: 60.0511 - val_loss: 84.2228\n",
      "Epoch 118/200\n",
      "721/721 [==============================] - 0s 498us/step - loss: 59.6844 - val_loss: 79.5660\n",
      "Epoch 119/200\n",
      "721/721 [==============================] - 0s 660us/step - loss: 59.4350 - val_loss: 82.8694\n",
      "Epoch 120/200\n",
      "721/721 [==============================] - 0s 473us/step - loss: 59.0637 - val_loss: 81.3688\n",
      "Epoch 121/200\n",
      "721/721 [==============================] - 0s 474us/step - loss: 58.8164 - val_loss: 82.5902\n",
      "Epoch 122/200\n",
      "721/721 [==============================] - 0s 491us/step - loss: 58.8961 - val_loss: 85.4943\n",
      "Epoch 123/200\n",
      "721/721 [==============================] - 0s 471us/step - loss: 58.6289 - val_loss: 82.5632\n",
      "Epoch 124/200\n",
      "721/721 [==============================] - 0s 519us/step - loss: 57.9672 - val_loss: 85.6544\n",
      "Epoch 125/200\n",
      "721/721 [==============================] - 1s 699us/step - loss: 57.6411 - val_loss: 83.4470\n",
      "Epoch 126/200\n",
      "721/721 [==============================] - 0s 435us/step - loss: 57.4980 - val_loss: 82.0816\n",
      "Epoch 127/200\n",
      "721/721 [==============================] - 0s 442us/step - loss: 57.3945 - val_loss: 83.5608\n",
      "Epoch 128/200\n",
      "721/721 [==============================] - 0s 420us/step - loss: 57.0055 - val_loss: 84.3402\n",
      "Epoch 129/200\n",
      "721/721 [==============================] - 0s 523us/step - loss: 56.9682 - val_loss: 84.8940\n",
      "Epoch 130/200\n",
      "721/721 [==============================] - 0s 497us/step - loss: 56.4229 - val_loss: 85.1281\n",
      "Epoch 131/200\n",
      "721/721 [==============================] - 0s 453us/step - loss: 56.3134 - val_loss: 80.7243\n",
      "Epoch 132/200\n",
      "721/721 [==============================] - 0s 501us/step - loss: 56.5699 - val_loss: 87.0695\n",
      "Epoch 133/200\n",
      "721/721 [==============================] - 0s 463us/step - loss: 55.8743 - val_loss: 83.5129\n",
      "Epoch 134/200\n",
      "721/721 [==============================] - 0s 445us/step - loss: 55.5562 - val_loss: 85.6239\n",
      "Epoch 135/200\n",
      "721/721 [==============================] - 0s 427us/step - loss: 55.5185 - val_loss: 84.6557\n",
      "Epoch 136/200\n",
      "721/721 [==============================] - 0s 444us/step - loss: 55.5265 - val_loss: 89.9928\n",
      "Epoch 137/200\n",
      "721/721 [==============================] - 0s 446us/step - loss: 55.4150 - val_loss: 78.0917\n",
      "Epoch 138/200\n",
      "721/721 [==============================] - 1s 856us/step - loss: 55.4754 - val_loss: 88.0644\n",
      "Epoch 139/200\n",
      "721/721 [==============================] - 0s 441us/step - loss: 54.8886 - val_loss: 84.6682\n",
      "Epoch 140/200\n",
      "721/721 [==============================] - 0s 500us/step - loss: 54.7197 - val_loss: 82.6638\n",
      "Epoch 141/200\n",
      "721/721 [==============================] - 0s 464us/step - loss: 54.8063 - val_loss: 83.3992\n",
      "Epoch 142/200\n",
      "721/721 [==============================] - 0s 610us/step - loss: 54.0031 - val_loss: 90.9733\n",
      "Epoch 143/200\n",
      "721/721 [==============================] - 1s 695us/step - loss: 54.6327 - val_loss: 81.8139\n",
      "Epoch 144/200\n",
      "721/721 [==============================] - 0s 409us/step - loss: 54.3422 - val_loss: 83.8395\n",
      "Epoch 145/200\n",
      "721/721 [==============================] - 0s 416us/step - loss: 53.3130 - val_loss: 87.3714\n",
      "Epoch 146/200\n",
      "721/721 [==============================] - 0s 437us/step - loss: 52.9766 - val_loss: 91.6641\n",
      "Epoch 147/200\n",
      "721/721 [==============================] - 0s 415us/step - loss: 52.8403 - val_loss: 85.8207\n",
      "Epoch 148/200\n",
      "721/721 [==============================] - 0s 419us/step - loss: 52.2536 - val_loss: 89.8926\n",
      "Epoch 149/200\n",
      "721/721 [==============================] - 0s 443us/step - loss: 51.9729 - val_loss: 90.0767\n",
      "Epoch 150/200\n",
      "721/721 [==============================] - 0s 506us/step - loss: 51.8988 - val_loss: 86.1888\n",
      "Epoch 151/200\n",
      "721/721 [==============================] - 0s 439us/step - loss: 51.4105 - val_loss: 86.9513\n",
      "Epoch 152/200\n",
      "721/721 [==============================] - 0s 525us/step - loss: 51.2112 - val_loss: 89.0515\n",
      "Epoch 153/200\n",
      "721/721 [==============================] - 0s 496us/step - loss: 51.4661 - val_loss: 95.3632\n",
      "Epoch 154/200\n",
      "721/721 [==============================] - 0s 466us/step - loss: 51.4012 - val_loss: 89.5176\n",
      "Epoch 155/200\n",
      "721/721 [==============================] - 0s 554us/step - loss: 50.5943 - val_loss: 90.4792\n",
      "Epoch 156/200\n",
      "721/721 [==============================] - 0s 445us/step - loss: 50.8128 - val_loss: 86.3407\n",
      "Epoch 157/200\n",
      "721/721 [==============================] - 0s 337us/step - loss: 50.2783 - val_loss: 96.6902\n",
      "Epoch 158/200\n",
      "721/721 [==============================] - 0s 381us/step - loss: 50.2957 - val_loss: 92.3044\n",
      "Epoch 159/200\n",
      "721/721 [==============================] - 0s 494us/step - loss: 50.4798 - val_loss: 85.6704\n",
      "Epoch 160/200\n",
      "721/721 [==============================] - 0s 385us/step - loss: 49.1376 - val_loss: 92.7277\n",
      "Epoch 161/200\n",
      "721/721 [==============================] - 0s 420us/step - loss: 49.2056 - val_loss: 87.1252\n",
      "Epoch 162/200\n",
      "721/721 [==============================] - 0s 435us/step - loss: 48.9098 - val_loss: 96.3358\n",
      "Epoch 163/200\n",
      "721/721 [==============================] - 0s 420us/step - loss: 49.3147 - val_loss: 89.4559\n",
      "Epoch 164/200\n",
      "721/721 [==============================] - 0s 415us/step - loss: 48.6280 - val_loss: 90.4678\n",
      "Epoch 165/200\n",
      "721/721 [==============================] - 0s 526us/step - loss: 48.4645 - val_loss: 85.1102\n",
      "Epoch 166/200\n",
      "721/721 [==============================] - 0s 470us/step - loss: 48.3862 - val_loss: 93.0060\n",
      "Epoch 167/200\n",
      "721/721 [==============================] - 0s 612us/step - loss: 47.9285 - val_loss: 90.8162\n",
      "Epoch 168/200\n",
      "721/721 [==============================] - 0s 467us/step - loss: 47.8378 - val_loss: 96.1107\n",
      "Epoch 169/200\n",
      "721/721 [==============================] - 0s 411us/step - loss: 47.6532 - val_loss: 93.5344\n",
      "Epoch 170/200\n",
      "721/721 [==============================] - 0s 441us/step - loss: 47.6494 - val_loss: 90.0612\n",
      "Epoch 171/200\n",
      "721/721 [==============================] - 0s 473us/step - loss: 46.7071 - val_loss: 91.7061\n",
      "Epoch 172/200\n",
      "721/721 [==============================] - 0s 456us/step - loss: 46.8106 - val_loss: 97.2985\n",
      "Epoch 173/200\n",
      "721/721 [==============================] - 0s 529us/step - loss: 46.5518 - val_loss: 93.2687\n",
      "Epoch 174/200\n",
      "721/721 [==============================] - 0s 585us/step - loss: 46.3322 - val_loss: 90.3115\n",
      "Epoch 175/200\n",
      "721/721 [==============================] - 0s 462us/step - loss: 45.9366 - val_loss: 92.9149\n",
      "Epoch 176/200\n",
      "721/721 [==============================] - 0s 472us/step - loss: 45.7077 - val_loss: 94.9706\n",
      "Epoch 177/200\n",
      "721/721 [==============================] - 0s 642us/step - loss: 45.4771 - val_loss: 91.2016\n",
      "Epoch 178/200\n",
      "721/721 [==============================] - 0s 518us/step - loss: 45.3763 - val_loss: 91.1714\n",
      "Epoch 179/200\n",
      "721/721 [==============================] - 0s 531us/step - loss: 45.4631 - val_loss: 98.1156\n",
      "Epoch 180/200\n",
      "721/721 [==============================] - 0s 416us/step - loss: 45.2819 - val_loss: 92.1491\n",
      "Epoch 181/200\n",
      "721/721 [==============================] - 0s 420us/step - loss: 44.8665 - val_loss: 97.8359\n",
      "Epoch 182/200\n",
      "721/721 [==============================] - 0s 412us/step - loss: 44.4582 - val_loss: 101.8568\n",
      "Epoch 183/200\n",
      "721/721 [==============================] - 0s 470us/step - loss: 44.3354 - val_loss: 98.3500\n",
      "Epoch 184/200\n",
      "721/721 [==============================] - 0s 422us/step - loss: 44.2351 - val_loss: 95.0606\n",
      "Epoch 185/200\n",
      "721/721 [==============================] - 0s 433us/step - loss: 43.8247 - val_loss: 107.4906\n",
      "Epoch 186/200\n",
      "721/721 [==============================] - 0s 529us/step - loss: 43.7881 - val_loss: 96.4765\n",
      "Epoch 187/200\n",
      "721/721 [==============================] - 0s 550us/step - loss: 43.4946 - val_loss: 105.2165\n",
      "Epoch 188/200\n",
      "721/721 [==============================] - 0s 472us/step - loss: 43.1322 - val_loss: 104.5118\n",
      "Epoch 189/200\n",
      "721/721 [==============================] - 0s 502us/step - loss: 43.1186 - val_loss: 101.7033\n",
      "Epoch 190/200\n",
      "721/721 [==============================] - 0s 578us/step - loss: 42.7161 - val_loss: 103.8728\n",
      "Epoch 191/200\n",
      "721/721 [==============================] - 0s 497us/step - loss: 42.6452 - val_loss: 99.8561\n",
      "Epoch 192/200\n",
      "721/721 [==============================] - 0s 553us/step - loss: 42.1322 - val_loss: 106.2194\n",
      "Epoch 193/200\n",
      "721/721 [==============================] - 0s 523us/step - loss: 42.0221 - val_loss: 105.0331\n",
      "Epoch 194/200\n",
      "721/721 [==============================] - 0s 528us/step - loss: 41.9297 - val_loss: 110.0218\n",
      "Epoch 195/200\n",
      "721/721 [==============================] - 0s 528us/step - loss: 41.6059 - val_loss: 105.5491\n",
      "Epoch 196/200\n",
      "721/721 [==============================] - 0s 506us/step - loss: 41.4814 - val_loss: 111.8183\n",
      "Epoch 197/200\n",
      "721/721 [==============================] - 0s 470us/step - loss: 41.7718 - val_loss: 108.5125\n",
      "Epoch 198/200\n",
      "721/721 [==============================] - 0s 500us/step - loss: 41.0433 - val_loss: 107.2718\n",
      "Epoch 199/200\n",
      "721/721 [==============================] - 0s 529us/step - loss: 40.9932 - val_loss: 111.4857\n",
      "Epoch 200/200\n",
      "721/721 [==============================] - 0s 499us/step - loss: 40.7200 - val_loss: 109.0499\n"
     ]
    },
    {
     "data": {
      "text/plain": [
       "<keras.callbacks.History at 0x7f65480b9d68>"
      ]
     },
     "execution_count": 33,
     "metadata": {},
     "output_type": "execute_result"
    }
   ],
   "source": [
    "model2.fit(predictors_norm, target, validation_split=0.3, epochs=200, verbose=1)"
   ]
  },
  {
   "cell_type": "code",
   "execution_count": 34,
   "metadata": {},
   "outputs": [
    {
     "name": "stdout",
     "output_type": "stream",
     "text": [
      "1030/1030 [==============================] - 0s 113us/step\n"
     ]
    },
    {
     "data": {
      "text/plain": [
       "60.886050770583665"
      ]
     },
     "execution_count": 34,
     "metadata": {},
     "output_type": "execute_result"
    }
   ],
   "source": [
    "model2.evaluate(predictors_norm, target, verbose=1)"
   ]
  },
  {
   "cell_type": "code",
   "execution_count": 35,
   "metadata": {},
   "outputs": [],
   "source": [
    "model3=regression_model_custom(3,50)"
   ]
  },
  {
   "cell_type": "code",
   "execution_count": 36,
   "metadata": {
    "scrolled": true
   },
   "outputs": [
    {
     "name": "stdout",
     "output_type": "stream",
     "text": [
      "Train on 721 samples, validate on 309 samples\n",
      "Epoch 1/100\n",
      "721/721 [==============================] - 1s 1ms/step - loss: 1614.6047 - val_loss: 1087.9340\n",
      "Epoch 2/100\n",
      "721/721 [==============================] - 0s 523us/step - loss: 1311.0902 - val_loss: 716.6115\n",
      "Epoch 3/100\n",
      "721/721 [==============================] - 0s 504us/step - loss: 630.3417 - val_loss: 237.4349\n",
      "Epoch 4/100\n",
      "721/721 [==============================] - 0s 493us/step - loss: 287.8904 - val_loss: 183.8961\n",
      "Epoch 5/100\n",
      "721/721 [==============================] - 0s 444us/step - loss: 225.6992 - val_loss: 167.1181\n",
      "Epoch 6/100\n",
      "721/721 [==============================] - 0s 474us/step - loss: 207.2357 - val_loss: 159.2473\n",
      "Epoch 7/100\n",
      "721/721 [==============================] - 0s 470us/step - loss: 193.2687 - val_loss: 161.1657\n",
      "Epoch 8/100\n",
      "721/721 [==============================] - 0s 580us/step - loss: 182.1758 - val_loss: 157.8774\n",
      "Epoch 9/100\n",
      "721/721 [==============================] - 0s 469us/step - loss: 175.5671 - val_loss: 157.2187\n",
      "Epoch 10/100\n",
      "721/721 [==============================] - 0s 492us/step - loss: 170.0076 - val_loss: 159.1416\n",
      "Epoch 11/100\n",
      "721/721 [==============================] - 0s 472us/step - loss: 167.2437 - val_loss: 159.4795\n",
      "Epoch 12/100\n",
      "721/721 [==============================] - 0s 608us/step - loss: 159.3678 - val_loss: 159.6974\n",
      "Epoch 13/100\n",
      "721/721 [==============================] - 0s 631us/step - loss: 152.8003 - val_loss: 155.6460\n",
      "Epoch 14/100\n",
      "721/721 [==============================] - 0s 502us/step - loss: 147.6529 - val_loss: 162.6822\n",
      "Epoch 15/100\n",
      "721/721 [==============================] - 0s 472us/step - loss: 142.8519 - val_loss: 155.3275\n",
      "Epoch 16/100\n",
      "721/721 [==============================] - 0s 561us/step - loss: 138.6155 - val_loss: 166.9864\n",
      "Epoch 17/100\n",
      "721/721 [==============================] - 0s 554us/step - loss: 134.2025 - val_loss: 152.1080\n",
      "Epoch 18/100\n",
      "721/721 [==============================] - 0s 469us/step - loss: 128.6020 - val_loss: 169.6427\n",
      "Epoch 19/100\n",
      "721/721 [==============================] - 0s 444us/step - loss: 124.5867 - val_loss: 166.9573\n",
      "Epoch 20/100\n",
      "721/721 [==============================] - 0s 475us/step - loss: 117.4011 - val_loss: 161.3813\n",
      "Epoch 21/100\n",
      "721/721 [==============================] - 0s 472us/step - loss: 111.2077 - val_loss: 161.6069\n",
      "Epoch 22/100\n",
      "721/721 [==============================] - 0s 527us/step - loss: 105.2110 - val_loss: 163.8449\n",
      "Epoch 23/100\n",
      "721/721 [==============================] - 0s 468us/step - loss: 99.2067 - val_loss: 164.3426\n",
      "Epoch 24/100\n",
      "721/721 [==============================] - 0s 464us/step - loss: 95.2931 - val_loss: 153.3396\n",
      "Epoch 25/100\n",
      "721/721 [==============================] - 0s 390us/step - loss: 86.6063 - val_loss: 168.6168\n",
      "Epoch 26/100\n",
      "721/721 [==============================] - 0s 467us/step - loss: 82.7405 - val_loss: 160.3091\n",
      "Epoch 27/100\n",
      "721/721 [==============================] - 0s 443us/step - loss: 76.1561 - val_loss: 149.4329\n",
      "Epoch 28/100\n",
      "721/721 [==============================] - 0s 526us/step - loss: 70.6490 - val_loss: 166.0217\n",
      "Epoch 29/100\n",
      "721/721 [==============================] - 0s 495us/step - loss: 66.4310 - val_loss: 151.5243\n",
      "Epoch 30/100\n",
      "721/721 [==============================] - 0s 553us/step - loss: 63.2815 - val_loss: 157.3509\n",
      "Epoch 31/100\n",
      "721/721 [==============================] - 0s 494us/step - loss: 59.3744 - val_loss: 152.7461\n",
      "Epoch 32/100\n",
      "721/721 [==============================] - 0s 473us/step - loss: 56.3376 - val_loss: 146.9748\n",
      "Epoch 33/100\n",
      "721/721 [==============================] - 0s 526us/step - loss: 53.1165 - val_loss: 139.7098\n",
      "Epoch 34/100\n",
      "721/721 [==============================] - 0s 495us/step - loss: 51.9554 - val_loss: 145.5782\n",
      "Epoch 35/100\n",
      "721/721 [==============================] - 0s 587us/step - loss: 48.4570 - val_loss: 147.6648\n",
      "Epoch 36/100\n",
      "721/721 [==============================] - 0s 522us/step - loss: 47.4327 - val_loss: 132.3244\n",
      "Epoch 37/100\n",
      "721/721 [==============================] - 0s 468us/step - loss: 45.4480 - val_loss: 146.5983\n",
      "Epoch 38/100\n",
      "721/721 [==============================] - 0s 502us/step - loss: 44.8517 - val_loss: 145.7363\n",
      "Epoch 39/100\n",
      "721/721 [==============================] - 0s 560us/step - loss: 42.9671 - val_loss: 137.3527\n",
      "Epoch 40/100\n",
      "721/721 [==============================] - 0s 578us/step - loss: 41.3787 - val_loss: 139.4819\n",
      "Epoch 41/100\n",
      "721/721 [==============================] - 0s 529us/step - loss: 41.3736 - val_loss: 142.6875\n",
      "Epoch 42/100\n",
      "721/721 [==============================] - 0s 563us/step - loss: 39.8830 - val_loss: 145.2006\n",
      "Epoch 43/100\n",
      "721/721 [==============================] - 0s 474us/step - loss: 40.5677 - val_loss: 146.7926\n",
      "Epoch 44/100\n",
      "721/721 [==============================] - 0s 445us/step - loss: 37.4167 - val_loss: 141.2120\n",
      "Epoch 45/100\n",
      "721/721 [==============================] - 0s 440us/step - loss: 36.5895 - val_loss: 155.9873\n",
      "Epoch 46/100\n",
      "721/721 [==============================] - 0s 445us/step - loss: 35.6773 - val_loss: 148.7393\n",
      "Epoch 47/100\n",
      "721/721 [==============================] - 0s 474us/step - loss: 34.6259 - val_loss: 143.0399\n",
      "Epoch 48/100\n",
      "721/721 [==============================] - 0s 386us/step - loss: 33.7755 - val_loss: 150.1966\n",
      "Epoch 49/100\n",
      "721/721 [==============================] - 0s 548us/step - loss: 34.1224 - val_loss: 156.2594\n",
      "Epoch 50/100\n",
      "721/721 [==============================] - 0s 499us/step - loss: 32.2654 - val_loss: 146.0559\n",
      "Epoch 51/100\n",
      "721/721 [==============================] - 0s 611us/step - loss: 31.8473 - val_loss: 155.0221\n",
      "Epoch 52/100\n",
      "721/721 [==============================] - 0s 531us/step - loss: 31.0286 - val_loss: 137.2401\n",
      "Epoch 53/100\n",
      "721/721 [==============================] - 0s 528us/step - loss: 32.1991 - val_loss: 138.5179\n",
      "Epoch 54/100\n",
      "721/721 [==============================] - 0s 552us/step - loss: 30.4082 - val_loss: 164.3334\n",
      "Epoch 55/100\n",
      "721/721 [==============================] - 0s 448us/step - loss: 29.2608 - val_loss: 145.8705\n",
      "Epoch 56/100\n",
      "721/721 [==============================] - 0s 471us/step - loss: 28.7565 - val_loss: 154.2237\n",
      "Epoch 57/100\n",
      "721/721 [==============================] - 0s 435us/step - loss: 28.7705 - val_loss: 131.2081\n",
      "Epoch 58/100\n",
      "721/721 [==============================] - 0s 449us/step - loss: 28.8130 - val_loss: 147.6502\n",
      "Epoch 59/100\n",
      "721/721 [==============================] - 0s 450us/step - loss: 27.4804 - val_loss: 160.7434\n",
      "Epoch 60/100\n",
      "721/721 [==============================] - 0s 521us/step - loss: 26.8218 - val_loss: 148.8497\n",
      "Epoch 61/100\n",
      "721/721 [==============================] - 0s 528us/step - loss: 26.6685 - val_loss: 149.0052\n",
      "Epoch 62/100\n",
      "721/721 [==============================] - 0s 495us/step - loss: 26.1156 - val_loss: 170.1327\n",
      "Epoch 63/100\n",
      "721/721 [==============================] - 0s 467us/step - loss: 25.7887 - val_loss: 171.1016\n",
      "Epoch 64/100\n",
      "721/721 [==============================] - 0s 479us/step - loss: 25.2275 - val_loss: 148.5079\n",
      "Epoch 65/100\n",
      "721/721 [==============================] - 0s 475us/step - loss: 24.7172 - val_loss: 151.6143\n",
      "Epoch 66/100\n",
      "721/721 [==============================] - 0s 497us/step - loss: 24.0964 - val_loss: 187.6458\n",
      "Epoch 67/100\n",
      "721/721 [==============================] - 0s 522us/step - loss: 24.1655 - val_loss: 163.3623\n",
      "Epoch 68/100\n",
      "721/721 [==============================] - 0s 471us/step - loss: 23.7088 - val_loss: 166.2086\n",
      "Epoch 69/100\n",
      "721/721 [==============================] - 0s 499us/step - loss: 23.9367 - val_loss: 160.7302\n",
      "Epoch 70/100\n",
      "721/721 [==============================] - 0s 450us/step - loss: 23.9512 - val_loss: 156.2890\n",
      "Epoch 71/100\n",
      "721/721 [==============================] - 0s 533us/step - loss: 22.7638 - val_loss: 151.6748\n",
      "Epoch 72/100\n",
      "721/721 [==============================] - 0s 468us/step - loss: 24.9142 - val_loss: 151.5654\n",
      "Epoch 73/100\n",
      "721/721 [==============================] - 0s 521us/step - loss: 22.4329 - val_loss: 165.0015\n",
      "Epoch 74/100\n",
      "721/721 [==============================] - 0s 445us/step - loss: 21.9391 - val_loss: 161.6976\n",
      "Epoch 75/100\n",
      "721/721 [==============================] - 0s 525us/step - loss: 22.0613 - val_loss: 155.2555\n",
      "Epoch 76/100\n",
      "721/721 [==============================] - 0s 471us/step - loss: 20.8991 - val_loss: 178.6941\n",
      "Epoch 77/100\n",
      "721/721 [==============================] - 0s 499us/step - loss: 20.8330 - val_loss: 165.6439\n",
      "Epoch 78/100\n",
      "721/721 [==============================] - 0s 502us/step - loss: 20.9296 - val_loss: 164.9589\n",
      "Epoch 79/100\n",
      "721/721 [==============================] - 0s 520us/step - loss: 21.0573 - val_loss: 169.2776\n",
      "Epoch 80/100\n",
      "721/721 [==============================] - 0s 530us/step - loss: 20.0138 - val_loss: 162.9843\n",
      "Epoch 81/100\n",
      "721/721 [==============================] - 0s 466us/step - loss: 20.1006 - val_loss: 182.7396\n",
      "Epoch 82/100\n",
      "721/721 [==============================] - 0s 413us/step - loss: 20.3736 - val_loss: 173.9719\n",
      "Epoch 83/100\n",
      "721/721 [==============================] - 0s 410us/step - loss: 19.7317 - val_loss: 174.1160\n",
      "Epoch 84/100\n",
      "721/721 [==============================] - 0s 390us/step - loss: 20.1950 - val_loss: 187.9366\n",
      "Epoch 85/100\n",
      "721/721 [==============================] - 0s 445us/step - loss: 19.1503 - val_loss: 165.3136\n",
      "Epoch 86/100\n",
      "721/721 [==============================] - 0s 416us/step - loss: 18.8142 - val_loss: 183.5792\n",
      "Epoch 87/100\n",
      "721/721 [==============================] - 0s 528us/step - loss: 18.3909 - val_loss: 173.2379\n",
      "Epoch 88/100\n",
      "721/721 [==============================] - 0s 611us/step - loss: 19.0331 - val_loss: 173.7433\n",
      "Epoch 89/100\n",
      "721/721 [==============================] - 0s 436us/step - loss: 18.5988 - val_loss: 170.1243\n",
      "Epoch 90/100\n",
      "721/721 [==============================] - 0s 478us/step - loss: 17.8901 - val_loss: 165.8679\n",
      "Epoch 91/100\n",
      "721/721 [==============================] - 0s 518us/step - loss: 17.7552 - val_loss: 198.1545\n",
      "Epoch 92/100\n",
      "721/721 [==============================] - 0s 447us/step - loss: 18.2244 - val_loss: 171.3154\n",
      "Epoch 93/100\n",
      "721/721 [==============================] - 0s 464us/step - loss: 17.3626 - val_loss: 168.1973\n",
      "Epoch 94/100\n",
      "721/721 [==============================] - 1s 696us/step - loss: 17.8175 - val_loss: 164.9974\n",
      "Epoch 95/100\n",
      "721/721 [==============================] - 0s 526us/step - loss: 18.1977 - val_loss: 173.9958\n",
      "Epoch 96/100\n",
      "721/721 [==============================] - 0s 499us/step - loss: 17.2296 - val_loss: 173.6957\n",
      "Epoch 97/100\n",
      "721/721 [==============================] - 0s 446us/step - loss: 17.9931 - val_loss: 178.4445\n",
      "Epoch 98/100\n",
      "721/721 [==============================] - 0s 493us/step - loss: 16.9069 - val_loss: 179.1387\n",
      "Epoch 99/100\n",
      "721/721 [==============================] - 0s 466us/step - loss: 16.7491 - val_loss: 180.8731\n",
      "Epoch 100/100\n",
      "721/721 [==============================] - 0s 552us/step - loss: 17.8490 - val_loss: 160.9153\n"
     ]
    },
    {
     "data": {
      "text/plain": [
       "<keras.callbacks.History at 0x7f65241d9dd8>"
      ]
     },
     "execution_count": 36,
     "metadata": {},
     "output_type": "execute_result"
    }
   ],
   "source": [
    "model3.fit(predictors_norm, target, validation_split=0.3, epochs=100, verbose=1)"
   ]
  },
  {
   "cell_type": "markdown",
   "metadata": {},
   "source": [
    "The above function create a model that has two hidden layers, each of 50 hidden units."
   ]
  },
  {
   "cell_type": "markdown",
   "metadata": {
    "button": false,
    "new_sheet": false,
    "run_control": {
     "read_only": false
    }
   },
   "source": [
    "<a id=\"item4\"></a>"
   ]
  },
  {
   "cell_type": "markdown",
   "metadata": {},
   "source": [
    "<a id='item34'></a>"
   ]
  },
  {
   "cell_type": "markdown",
   "metadata": {
    "button": false,
    "new_sheet": false,
    "run_control": {
     "read_only": false
    }
   },
   "source": [
    "## Train and Test the Network"
   ]
  },
  {
   "cell_type": "markdown",
   "metadata": {},
   "source": [
    "Let's call the function now to create our model."
   ]
  },
  {
   "cell_type": "code",
   "execution_count": 21,
   "metadata": {
    "button": false,
    "new_sheet": false,
    "run_control": {
     "read_only": false
    }
   },
   "outputs": [],
   "source": [
    "# build the model\n",
    "model = regression_model()"
   ]
  },
  {
   "cell_type": "markdown",
   "metadata": {},
   "source": [
    "Next, we will train and test the model at the same time using the *fit* method. We will leave out 30% of the data for validation and we will train the model for 100 epochs."
   ]
  },
  {
   "cell_type": "code",
   "execution_count": 22,
   "metadata": {
    "scrolled": true
   },
   "outputs": [
    {
     "name": "stdout",
     "output_type": "stream",
     "text": [
      "Train on 721 samples, validate on 309 samples\n",
      "Epoch 1/100\n",
      " - 1s - loss: 1637.2404 - val_loss: 1143.5952\n",
      "Epoch 2/100\n",
      " - 0s - loss: 1495.2522 - val_loss: 1018.0353\n",
      "Epoch 3/100\n",
      " - 0s - loss: 1266.9157 - val_loss: 822.6129\n",
      "Epoch 4/100\n",
      " - 0s - loss: 939.0568 - val_loss: 573.7567\n",
      "Epoch 5/100\n",
      " - 0s - loss: 573.9515 - val_loss: 348.2960\n",
      "Epoch 6/100\n",
      " - 0s - loss: 323.0325 - val_loss: 222.7910\n",
      "Epoch 7/100\n",
      " - 0s - loss: 237.3606 - val_loss: 186.1528\n",
      "Epoch 8/100\n",
      " - 0s - loss: 215.3124 - val_loss: 180.5637\n",
      "Epoch 9/100\n",
      " - 0s - loss: 203.5018 - val_loss: 173.5953\n",
      "Epoch 10/100\n",
      " - 0s - loss: 194.2803 - val_loss: 173.3927\n",
      "Epoch 11/100\n",
      " - 0s - loss: 187.2795 - val_loss: 172.6988\n",
      "Epoch 12/100\n",
      " - 0s - loss: 180.7952 - val_loss: 169.3526\n",
      "Epoch 13/100\n",
      " - 0s - loss: 175.6835 - val_loss: 167.1479\n",
      "Epoch 14/100\n",
      " - 0s - loss: 170.7183 - val_loss: 167.4790\n",
      "Epoch 15/100\n",
      " - 0s - loss: 166.8505 - val_loss: 168.1451\n",
      "Epoch 16/100\n",
      " - 0s - loss: 163.3587 - val_loss: 164.7096\n",
      "Epoch 17/100\n",
      " - 0s - loss: 159.8441 - val_loss: 164.5702\n",
      "Epoch 18/100\n",
      " - 0s - loss: 156.8636 - val_loss: 163.6222\n",
      "Epoch 19/100\n",
      " - 0s - loss: 154.2799 - val_loss: 161.6834\n",
      "Epoch 20/100\n",
      " - 0s - loss: 151.4782 - val_loss: 163.0990\n",
      "Epoch 21/100\n",
      " - 0s - loss: 149.0812 - val_loss: 163.8462\n",
      "Epoch 22/100\n",
      " - 0s - loss: 146.8033 - val_loss: 164.8120\n",
      "Epoch 23/100\n",
      " - 0s - loss: 144.5102 - val_loss: 164.3180\n",
      "Epoch 24/100\n",
      " - 0s - loss: 142.7991 - val_loss: 162.0735\n",
      "Epoch 25/100\n",
      " - 0s - loss: 141.5414 - val_loss: 166.1951\n",
      "Epoch 26/100\n",
      " - 0s - loss: 139.9465 - val_loss: 165.3508\n",
      "Epoch 27/100\n",
      " - 0s - loss: 138.4635 - val_loss: 166.9667\n",
      "Epoch 28/100\n",
      " - 0s - loss: 137.1762 - val_loss: 166.0180\n",
      "Epoch 29/100\n",
      " - 0s - loss: 135.4988 - val_loss: 165.9351\n",
      "Epoch 30/100\n",
      " - 0s - loss: 134.6502 - val_loss: 169.7385\n",
      "Epoch 31/100\n",
      " - 0s - loss: 133.0969 - val_loss: 164.6732\n",
      "Epoch 32/100\n",
      " - 0s - loss: 132.0385 - val_loss: 167.4664\n",
      "Epoch 33/100\n",
      " - 0s - loss: 130.7957 - val_loss: 170.0186\n",
      "Epoch 34/100\n",
      " - 0s - loss: 130.0018 - val_loss: 171.3512\n",
      "Epoch 35/100\n",
      " - 0s - loss: 128.3873 - val_loss: 167.7530\n",
      "Epoch 36/100\n",
      " - 0s - loss: 127.8037 - val_loss: 167.2571\n",
      "Epoch 37/100\n",
      " - 0s - loss: 126.5718 - val_loss: 169.8805\n",
      "Epoch 38/100\n",
      " - 0s - loss: 125.9203 - val_loss: 169.5962\n",
      "Epoch 39/100\n",
      " - 0s - loss: 124.4675 - val_loss: 168.9763\n",
      "Epoch 40/100\n",
      " - 0s - loss: 123.6193 - val_loss: 171.3265\n",
      "Epoch 41/100\n",
      " - 0s - loss: 122.5140 - val_loss: 169.4359\n",
      "Epoch 42/100\n",
      " - 0s - loss: 122.4210 - val_loss: 166.6757\n",
      "Epoch 43/100\n",
      " - 0s - loss: 120.7399 - val_loss: 170.2589\n",
      "Epoch 44/100\n",
      " - 0s - loss: 119.9180 - val_loss: 169.2855\n",
      "Epoch 45/100\n",
      " - 0s - loss: 118.4712 - val_loss: 168.5143\n",
      "Epoch 46/100\n",
      " - 0s - loss: 117.4567 - val_loss: 168.9537\n",
      "Epoch 47/100\n",
      " - 0s - loss: 116.8638 - val_loss: 169.5864\n",
      "Epoch 48/100\n",
      " - 0s - loss: 115.7492 - val_loss: 170.6317\n",
      "Epoch 49/100\n",
      " - 0s - loss: 114.1021 - val_loss: 167.1571\n",
      "Epoch 50/100\n",
      " - 0s - loss: 112.9991 - val_loss: 168.9084\n",
      "Epoch 51/100\n",
      " - 0s - loss: 111.6959 - val_loss: 167.4897\n",
      "Epoch 52/100\n",
      " - 0s - loss: 110.0125 - val_loss: 166.3420\n",
      "Epoch 53/100\n",
      " - 0s - loss: 108.8430 - val_loss: 168.3605\n",
      "Epoch 54/100\n",
      " - 0s - loss: 107.5114 - val_loss: 165.0045\n",
      "Epoch 55/100\n",
      " - 0s - loss: 105.5279 - val_loss: 164.4023\n",
      "Epoch 56/100\n",
      " - 0s - loss: 103.8591 - val_loss: 164.0423\n",
      "Epoch 57/100\n",
      " - 0s - loss: 102.0449 - val_loss: 165.1639\n",
      "Epoch 58/100\n",
      " - 0s - loss: 101.0692 - val_loss: 162.2989\n",
      "Epoch 59/100\n",
      " - 0s - loss: 98.6806 - val_loss: 161.4704\n",
      "Epoch 60/100\n",
      " - 0s - loss: 96.1114 - val_loss: 157.7613\n",
      "Epoch 61/100\n",
      " - 0s - loss: 93.9525 - val_loss: 158.9182\n",
      "Epoch 62/100\n",
      " - 0s - loss: 92.6205 - val_loss: 165.4255\n",
      "Epoch 63/100\n",
      " - 0s - loss: 90.5330 - val_loss: 153.1774\n",
      "Epoch 64/100\n",
      " - 0s - loss: 86.7876 - val_loss: 160.1594\n",
      "Epoch 65/100\n",
      " - 0s - loss: 84.9115 - val_loss: 151.4345\n",
      "Epoch 66/100\n",
      " - 0s - loss: 82.6099 - val_loss: 147.4566\n",
      "Epoch 67/100\n",
      " - 0s - loss: 80.1291 - val_loss: 149.7078\n",
      "Epoch 68/100\n",
      " - 0s - loss: 77.7413 - val_loss: 145.5672\n",
      "Epoch 69/100\n",
      " - 0s - loss: 75.6105 - val_loss: 140.1660\n",
      "Epoch 70/100\n",
      " - 0s - loss: 73.2200 - val_loss: 136.7556\n",
      "Epoch 71/100\n",
      " - 0s - loss: 70.9372 - val_loss: 139.1670\n",
      "Epoch 72/100\n",
      " - 0s - loss: 68.2989 - val_loss: 133.2541\n",
      "Epoch 73/100\n",
      " - 0s - loss: 65.9851 - val_loss: 140.1364\n",
      "Epoch 74/100\n",
      " - 0s - loss: 63.9792 - val_loss: 129.9612\n",
      "Epoch 75/100\n",
      " - 0s - loss: 61.9779 - val_loss: 130.0081\n",
      "Epoch 76/100\n",
      " - 0s - loss: 59.9132 - val_loss: 127.5312\n",
      "Epoch 77/100\n",
      " - 0s - loss: 58.6468 - val_loss: 127.1704\n",
      "Epoch 78/100\n",
      " - 0s - loss: 56.3982 - val_loss: 125.4883\n",
      "Epoch 79/100\n",
      " - 0s - loss: 55.4822 - val_loss: 125.8522\n",
      "Epoch 80/100\n",
      " - 0s - loss: 54.7594 - val_loss: 133.8888\n",
      "Epoch 81/100\n",
      " - 0s - loss: 52.9192 - val_loss: 117.0883\n",
      "Epoch 82/100\n",
      " - 0s - loss: 51.5070 - val_loss: 129.7022\n",
      "Epoch 83/100\n",
      " - 0s - loss: 50.3080 - val_loss: 115.2940\n",
      "Epoch 84/100\n",
      " - 0s - loss: 49.4437 - val_loss: 121.6264\n",
      "Epoch 85/100\n",
      " - 0s - loss: 47.8139 - val_loss: 118.9251\n",
      "Epoch 86/100\n",
      " - 0s - loss: 47.1781 - val_loss: 116.2610\n",
      "Epoch 87/100\n",
      " - 0s - loss: 46.4566 - val_loss: 127.6365\n",
      "Epoch 88/100\n",
      " - 0s - loss: 45.8792 - val_loss: 117.6778\n",
      "Epoch 89/100\n",
      " - 0s - loss: 44.5468 - val_loss: 118.2210\n",
      "Epoch 90/100\n",
      " - 0s - loss: 43.3453 - val_loss: 120.1846\n",
      "Epoch 91/100\n",
      " - 0s - loss: 43.3756 - val_loss: 124.1598\n",
      "Epoch 92/100\n",
      " - 0s - loss: 42.7849 - val_loss: 113.6250\n",
      "Epoch 93/100\n",
      " - 0s - loss: 41.3938 - val_loss: 121.1219\n",
      "Epoch 94/100\n",
      " - 0s - loss: 40.7501 - val_loss: 118.4389\n",
      "Epoch 95/100\n",
      " - 0s - loss: 40.1387 - val_loss: 118.3334\n",
      "Epoch 96/100\n",
      " - 0s - loss: 39.4963 - val_loss: 123.1928\n",
      "Epoch 97/100\n",
      " - 0s - loss: 38.9294 - val_loss: 123.8300\n",
      "Epoch 98/100\n",
      " - 0s - loss: 38.8670 - val_loss: 119.7388\n",
      "Epoch 99/100\n",
      " - 0s - loss: 37.7486 - val_loss: 124.2382\n",
      "Epoch 100/100\n",
      " - 0s - loss: 37.5681 - val_loss: 120.9409\n"
     ]
    },
    {
     "data": {
      "text/plain": [
       "<keras.callbacks.History at 0x7f65490c9ac8>"
      ]
     },
     "execution_count": 22,
     "metadata": {},
     "output_type": "execute_result"
    }
   ],
   "source": [
    "# fit the model\n",
    "model.fit(predictors_norm, target, validation_split=0.3, epochs=100, verbose=2)"
   ]
  },
  {
   "cell_type": "code",
   "execution_count": 23,
   "metadata": {},
   "outputs": [
    {
     "name": "stdout",
     "output_type": "stream",
     "text": [
      "1030/1030 [==============================] - 0s 90us/step\n"
     ]
    },
    {
     "data": {
      "text/plain": [
       "61.85975248466418"
      ]
     },
     "execution_count": 23,
     "metadata": {},
     "output_type": "execute_result"
    }
   ],
   "source": [
    "model.evaluate(predictors_norm, target, verbose=1)"
   ]
  },
  {
   "cell_type": "markdown",
   "metadata": {
    "button": false,
    "new_sheet": false,
    "run_control": {
     "read_only": false
    }
   },
   "source": [
    "<strong>You can refer to this [link](https://keras.io/models/sequential/) to learn about other functions that you can use for prediction or evaluation.</strong>"
   ]
  },
  {
   "cell_type": "markdown",
   "metadata": {
    "button": false,
    "new_sheet": false,
    "run_control": {
     "read_only": false
    }
   },
   "source": [
    "Feel free to vary the following and note what impact each change has on the model's performance:\n",
    "\n",
    "1. Increase or decreate number of neurons in hidden layers\n",
    "2. Add more hidden layers\n",
    "3. Increase number of epochs"
   ]
  },
  {
   "cell_type": "markdown",
   "metadata": {
    "button": false,
    "new_sheet": false,
    "run_control": {
     "read_only": false
    }
   },
   "source": [
    "### Thank you for completing this lab!\n",
    "\n",
    "This notebook was created by [Alex Aklson](https://www.linkedin.com/in/aklson/). I hope you found this lab interesting and educational. Feel free to contact me if you have any questions!"
   ]
  },
  {
   "cell_type": "markdown",
   "metadata": {
    "button": false,
    "new_sheet": false,
    "run_control": {
     "read_only": false
    }
   },
   "source": [
    "This notebook is part of a course on **Coursera** called *Introduction to Deep Learning & Neural Networks with Keras*. If you accessed this notebook outside the course, you can take this course online by clicking [here](https://cocl.us/DL0101EN_Coursera_Week3_LAB1)."
   ]
  },
  {
   "cell_type": "markdown",
   "metadata": {
    "button": false,
    "new_sheet": false,
    "run_control": {
     "read_only": false
    }
   },
   "source": [
    "<hr>\n",
    "\n",
    "Copyright &copy; 2019 [IBM Developer Skills Network](https://cognitiveclass.ai/?utm_source=bducopyrightlink&utm_medium=dswb&utm_campaign=bdu). This notebook and its source code are released under the terms of the [MIT License](https://bigdatauniversity.com/mit-license/)."
   ]
  }
 ],
 "metadata": {
  "kernelspec": {
   "display_name": "Python 3",
   "language": "python",
   "name": "python3"
  },
  "language_info": {
   "codemirror_mode": {
    "name": "ipython",
    "version": 3
   },
   "file_extension": ".py",
   "mimetype": "text/x-python",
   "name": "python",
   "nbconvert_exporter": "python",
   "pygments_lexer": "ipython3",
   "version": "3.7.4"
  }
 },
 "nbformat": 4,
 "nbformat_minor": 4
}
