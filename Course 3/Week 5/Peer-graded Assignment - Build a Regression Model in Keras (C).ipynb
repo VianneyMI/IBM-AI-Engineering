{
 "cells": [
  {
   "cell_type": "markdown",
   "metadata": {
    "button": false,
    "new_sheet": false,
    "run_control": {
     "read_only": false
    }
   },
   "source": [
    "<a id=\"item31\"></a>"
   ]
  },
  {
   "cell_type": "markdown",
   "metadata": {
    "button": false,
    "new_sheet": false,
    "run_control": {
     "read_only": false
    }
   },
   "source": [
    "## Download and Clean Dataset"
   ]
  },
  {
   "cell_type": "markdown",
   "metadata": {
    "button": false,
    "new_sheet": false,
    "run_control": {
     "read_only": false
    }
   },
   "source": [
    "Let's start by importing the <em>pandas</em> and the Numpy libraries."
   ]
  },
  {
   "cell_type": "code",
   "execution_count": 1,
   "metadata": {
    "button": false,
    "new_sheet": false,
    "run_control": {
     "read_only": false
    }
   },
   "outputs": [],
   "source": [
    "import pandas as pd\n",
    "import numpy as np"
   ]
  },
  {
   "cell_type": "markdown",
   "metadata": {
    "button": false,
    "new_sheet": false,
    "run_control": {
     "read_only": false
    }
   },
   "source": [
    "\n",
    "<strong>The dataset is about the compressive strength of different samples of concrete based on the volumes of the different ingredients that were used to make them. Ingredients include:</strong>\n",
    "\n",
    "<strong>1. Cement</strong>\n",
    "\n",
    "<strong>2. Blast Furnace Slag</strong>\n",
    "\n",
    "<strong>3. Fly Ash</strong>\n",
    "\n",
    "<strong>4. Water</strong>\n",
    "\n",
    "<strong>5. Superplasticizer</strong>\n",
    "\n",
    "<strong>6. Coarse Aggregate</strong>\n",
    "\n",
    "<strong>7. Fine Aggregate</strong>"
   ]
  },
  {
   "cell_type": "markdown",
   "metadata": {
    "button": false,
    "new_sheet": false,
    "run_control": {
     "read_only": false
    }
   },
   "source": [
    "Let's download the data and read it into a <em>pandas</em> dataframe."
   ]
  },
  {
   "cell_type": "code",
   "execution_count": 2,
   "metadata": {
    "button": false,
    "new_sheet": false,
    "run_control": {
     "read_only": false
    }
   },
   "outputs": [
    {
     "data": {
      "text/html": [
       "<div>\n",
       "<style scoped>\n",
       "    .dataframe tbody tr th:only-of-type {\n",
       "        vertical-align: middle;\n",
       "    }\n",
       "\n",
       "    .dataframe tbody tr th {\n",
       "        vertical-align: top;\n",
       "    }\n",
       "\n",
       "    .dataframe thead th {\n",
       "        text-align: right;\n",
       "    }\n",
       "</style>\n",
       "<table border=\"1\" class=\"dataframe\">\n",
       "  <thead>\n",
       "    <tr style=\"text-align: right;\">\n",
       "      <th></th>\n",
       "      <th>Cement</th>\n",
       "      <th>Blast Furnace Slag</th>\n",
       "      <th>Fly Ash</th>\n",
       "      <th>Water</th>\n",
       "      <th>Superplasticizer</th>\n",
       "      <th>Coarse Aggregate</th>\n",
       "      <th>Fine Aggregate</th>\n",
       "      <th>Age</th>\n",
       "      <th>Strength</th>\n",
       "    </tr>\n",
       "  </thead>\n",
       "  <tbody>\n",
       "    <tr>\n",
       "      <td>0</td>\n",
       "      <td>540.0</td>\n",
       "      <td>0.0</td>\n",
       "      <td>0.0</td>\n",
       "      <td>162.0</td>\n",
       "      <td>2.5</td>\n",
       "      <td>1040.0</td>\n",
       "      <td>676.0</td>\n",
       "      <td>28</td>\n",
       "      <td>79.99</td>\n",
       "    </tr>\n",
       "    <tr>\n",
       "      <td>1</td>\n",
       "      <td>540.0</td>\n",
       "      <td>0.0</td>\n",
       "      <td>0.0</td>\n",
       "      <td>162.0</td>\n",
       "      <td>2.5</td>\n",
       "      <td>1055.0</td>\n",
       "      <td>676.0</td>\n",
       "      <td>28</td>\n",
       "      <td>61.89</td>\n",
       "    </tr>\n",
       "    <tr>\n",
       "      <td>2</td>\n",
       "      <td>332.5</td>\n",
       "      <td>142.5</td>\n",
       "      <td>0.0</td>\n",
       "      <td>228.0</td>\n",
       "      <td>0.0</td>\n",
       "      <td>932.0</td>\n",
       "      <td>594.0</td>\n",
       "      <td>270</td>\n",
       "      <td>40.27</td>\n",
       "    </tr>\n",
       "    <tr>\n",
       "      <td>3</td>\n",
       "      <td>332.5</td>\n",
       "      <td>142.5</td>\n",
       "      <td>0.0</td>\n",
       "      <td>228.0</td>\n",
       "      <td>0.0</td>\n",
       "      <td>932.0</td>\n",
       "      <td>594.0</td>\n",
       "      <td>365</td>\n",
       "      <td>41.05</td>\n",
       "    </tr>\n",
       "    <tr>\n",
       "      <td>4</td>\n",
       "      <td>198.6</td>\n",
       "      <td>132.4</td>\n",
       "      <td>0.0</td>\n",
       "      <td>192.0</td>\n",
       "      <td>0.0</td>\n",
       "      <td>978.4</td>\n",
       "      <td>825.5</td>\n",
       "      <td>360</td>\n",
       "      <td>44.30</td>\n",
       "    </tr>\n",
       "  </tbody>\n",
       "</table>\n",
       "</div>"
      ],
      "text/plain": [
       "   Cement  Blast Furnace Slag  Fly Ash  Water  Superplasticizer  \\\n",
       "0   540.0                 0.0      0.0  162.0               2.5   \n",
       "1   540.0                 0.0      0.0  162.0               2.5   \n",
       "2   332.5               142.5      0.0  228.0               0.0   \n",
       "3   332.5               142.5      0.0  228.0               0.0   \n",
       "4   198.6               132.4      0.0  192.0               0.0   \n",
       "\n",
       "   Coarse Aggregate  Fine Aggregate  Age  Strength  \n",
       "0            1040.0           676.0   28     79.99  \n",
       "1            1055.0           676.0   28     61.89  \n",
       "2             932.0           594.0  270     40.27  \n",
       "3             932.0           594.0  365     41.05  \n",
       "4             978.4           825.5  360     44.30  "
      ]
     },
     "execution_count": 2,
     "metadata": {},
     "output_type": "execute_result"
    }
   ],
   "source": [
    "concrete_data = pd.read_csv('https://s3-api.us-geo.objectstorage.softlayer.net/cf-courses-data/CognitiveClass/DL0101EN/labs/data/concrete_data.csv')\n",
    "concrete_data.head()"
   ]
  },
  {
   "cell_type": "markdown",
   "metadata": {
    "button": false,
    "new_sheet": false,
    "run_control": {
     "read_only": false
    }
   },
   "source": [
    "So the first concrete sample has 540 cubic meter of cement, 0 cubic meter of blast furnace slag, 0 cubic meter of fly ash, 162 cubic meter of water, 2.5 cubic meter of superplaticizer, 1040 cubic meter of coarse aggregate, 676 cubic meter of fine aggregate. Such a concrete mix which is 28 days old, has a compressive strength of 79.99 MPa. "
   ]
  },
  {
   "cell_type": "markdown",
   "metadata": {
    "button": false,
    "new_sheet": false,
    "run_control": {
     "read_only": false
    }
   },
   "source": [
    "#### Let's check how many data points we have."
   ]
  },
  {
   "cell_type": "code",
   "execution_count": 3,
   "metadata": {
    "button": false,
    "new_sheet": false,
    "run_control": {
     "read_only": false
    }
   },
   "outputs": [
    {
     "data": {
      "text/plain": [
       "(1030, 9)"
      ]
     },
     "execution_count": 3,
     "metadata": {},
     "output_type": "execute_result"
    }
   ],
   "source": [
    "concrete_data.shape"
   ]
  },
  {
   "cell_type": "markdown",
   "metadata": {
    "button": false,
    "new_sheet": false,
    "run_control": {
     "read_only": false
    }
   },
   "source": [
    "So, there are approximately 1000 samples to train our model on. Because of the few samples, we have to be careful not to overfit the training data."
   ]
  },
  {
   "cell_type": "markdown",
   "metadata": {
    "button": false,
    "new_sheet": false,
    "run_control": {
     "read_only": false
    }
   },
   "source": [
    "Let's check the dataset for any missing values."
   ]
  },
  {
   "cell_type": "code",
   "execution_count": 4,
   "metadata": {
    "button": false,
    "new_sheet": false,
    "run_control": {
     "read_only": false
    }
   },
   "outputs": [
    {
     "data": {
      "text/html": [
       "<div>\n",
       "<style scoped>\n",
       "    .dataframe tbody tr th:only-of-type {\n",
       "        vertical-align: middle;\n",
       "    }\n",
       "\n",
       "    .dataframe tbody tr th {\n",
       "        vertical-align: top;\n",
       "    }\n",
       "\n",
       "    .dataframe thead th {\n",
       "        text-align: right;\n",
       "    }\n",
       "</style>\n",
       "<table border=\"1\" class=\"dataframe\">\n",
       "  <thead>\n",
       "    <tr style=\"text-align: right;\">\n",
       "      <th></th>\n",
       "      <th>Cement</th>\n",
       "      <th>Blast Furnace Slag</th>\n",
       "      <th>Fly Ash</th>\n",
       "      <th>Water</th>\n",
       "      <th>Superplasticizer</th>\n",
       "      <th>Coarse Aggregate</th>\n",
       "      <th>Fine Aggregate</th>\n",
       "      <th>Age</th>\n",
       "      <th>Strength</th>\n",
       "    </tr>\n",
       "  </thead>\n",
       "  <tbody>\n",
       "    <tr>\n",
       "      <td>count</td>\n",
       "      <td>1030.000000</td>\n",
       "      <td>1030.000000</td>\n",
       "      <td>1030.000000</td>\n",
       "      <td>1030.000000</td>\n",
       "      <td>1030.000000</td>\n",
       "      <td>1030.000000</td>\n",
       "      <td>1030.000000</td>\n",
       "      <td>1030.000000</td>\n",
       "      <td>1030.000000</td>\n",
       "    </tr>\n",
       "    <tr>\n",
       "      <td>mean</td>\n",
       "      <td>281.167864</td>\n",
       "      <td>73.895825</td>\n",
       "      <td>54.188350</td>\n",
       "      <td>181.567282</td>\n",
       "      <td>6.204660</td>\n",
       "      <td>972.918932</td>\n",
       "      <td>773.580485</td>\n",
       "      <td>45.662136</td>\n",
       "      <td>35.817961</td>\n",
       "    </tr>\n",
       "    <tr>\n",
       "      <td>std</td>\n",
       "      <td>104.506364</td>\n",
       "      <td>86.279342</td>\n",
       "      <td>63.997004</td>\n",
       "      <td>21.354219</td>\n",
       "      <td>5.973841</td>\n",
       "      <td>77.753954</td>\n",
       "      <td>80.175980</td>\n",
       "      <td>63.169912</td>\n",
       "      <td>16.705742</td>\n",
       "    </tr>\n",
       "    <tr>\n",
       "      <td>min</td>\n",
       "      <td>102.000000</td>\n",
       "      <td>0.000000</td>\n",
       "      <td>0.000000</td>\n",
       "      <td>121.800000</td>\n",
       "      <td>0.000000</td>\n",
       "      <td>801.000000</td>\n",
       "      <td>594.000000</td>\n",
       "      <td>1.000000</td>\n",
       "      <td>2.330000</td>\n",
       "    </tr>\n",
       "    <tr>\n",
       "      <td>25%</td>\n",
       "      <td>192.375000</td>\n",
       "      <td>0.000000</td>\n",
       "      <td>0.000000</td>\n",
       "      <td>164.900000</td>\n",
       "      <td>0.000000</td>\n",
       "      <td>932.000000</td>\n",
       "      <td>730.950000</td>\n",
       "      <td>7.000000</td>\n",
       "      <td>23.710000</td>\n",
       "    </tr>\n",
       "    <tr>\n",
       "      <td>50%</td>\n",
       "      <td>272.900000</td>\n",
       "      <td>22.000000</td>\n",
       "      <td>0.000000</td>\n",
       "      <td>185.000000</td>\n",
       "      <td>6.400000</td>\n",
       "      <td>968.000000</td>\n",
       "      <td>779.500000</td>\n",
       "      <td>28.000000</td>\n",
       "      <td>34.445000</td>\n",
       "    </tr>\n",
       "    <tr>\n",
       "      <td>75%</td>\n",
       "      <td>350.000000</td>\n",
       "      <td>142.950000</td>\n",
       "      <td>118.300000</td>\n",
       "      <td>192.000000</td>\n",
       "      <td>10.200000</td>\n",
       "      <td>1029.400000</td>\n",
       "      <td>824.000000</td>\n",
       "      <td>56.000000</td>\n",
       "      <td>46.135000</td>\n",
       "    </tr>\n",
       "    <tr>\n",
       "      <td>max</td>\n",
       "      <td>540.000000</td>\n",
       "      <td>359.400000</td>\n",
       "      <td>200.100000</td>\n",
       "      <td>247.000000</td>\n",
       "      <td>32.200000</td>\n",
       "      <td>1145.000000</td>\n",
       "      <td>992.600000</td>\n",
       "      <td>365.000000</td>\n",
       "      <td>82.600000</td>\n",
       "    </tr>\n",
       "  </tbody>\n",
       "</table>\n",
       "</div>"
      ],
      "text/plain": [
       "            Cement  Blast Furnace Slag      Fly Ash        Water  \\\n",
       "count  1030.000000         1030.000000  1030.000000  1030.000000   \n",
       "mean    281.167864           73.895825    54.188350   181.567282   \n",
       "std     104.506364           86.279342    63.997004    21.354219   \n",
       "min     102.000000            0.000000     0.000000   121.800000   \n",
       "25%     192.375000            0.000000     0.000000   164.900000   \n",
       "50%     272.900000           22.000000     0.000000   185.000000   \n",
       "75%     350.000000          142.950000   118.300000   192.000000   \n",
       "max     540.000000          359.400000   200.100000   247.000000   \n",
       "\n",
       "       Superplasticizer  Coarse Aggregate  Fine Aggregate          Age  \\\n",
       "count       1030.000000       1030.000000     1030.000000  1030.000000   \n",
       "mean           6.204660        972.918932      773.580485    45.662136   \n",
       "std            5.973841         77.753954       80.175980    63.169912   \n",
       "min            0.000000        801.000000      594.000000     1.000000   \n",
       "25%            0.000000        932.000000      730.950000     7.000000   \n",
       "50%            6.400000        968.000000      779.500000    28.000000   \n",
       "75%           10.200000       1029.400000      824.000000    56.000000   \n",
       "max           32.200000       1145.000000      992.600000   365.000000   \n",
       "\n",
       "          Strength  \n",
       "count  1030.000000  \n",
       "mean     35.817961  \n",
       "std      16.705742  \n",
       "min       2.330000  \n",
       "25%      23.710000  \n",
       "50%      34.445000  \n",
       "75%      46.135000  \n",
       "max      82.600000  "
      ]
     },
     "execution_count": 4,
     "metadata": {},
     "output_type": "execute_result"
    }
   ],
   "source": [
    "concrete_data.describe()"
   ]
  },
  {
   "cell_type": "code",
   "execution_count": 5,
   "metadata": {
    "button": false,
    "new_sheet": false,
    "run_control": {
     "read_only": false
    }
   },
   "outputs": [
    {
     "data": {
      "text/plain": [
       "Cement                0\n",
       "Blast Furnace Slag    0\n",
       "Fly Ash               0\n",
       "Water                 0\n",
       "Superplasticizer      0\n",
       "Coarse Aggregate      0\n",
       "Fine Aggregate        0\n",
       "Age                   0\n",
       "Strength              0\n",
       "dtype: int64"
      ]
     },
     "execution_count": 5,
     "metadata": {},
     "output_type": "execute_result"
    }
   ],
   "source": [
    "concrete_data.isnull().sum()"
   ]
  },
  {
   "cell_type": "markdown",
   "metadata": {
    "button": false,
    "new_sheet": false,
    "run_control": {
     "read_only": false
    }
   },
   "source": [
    "The data looks very clean and is ready to be used to build our model."
   ]
  },
  {
   "cell_type": "markdown",
   "metadata": {
    "button": false,
    "new_sheet": false,
    "run_control": {
     "read_only": false
    }
   },
   "source": [
    "#### Split data into predictors and target"
   ]
  },
  {
   "cell_type": "markdown",
   "metadata": {},
   "source": [
    "The target variable in this problem is the concrete sample strength. Therefore, our predictors will be all the other columns."
   ]
  },
  {
   "cell_type": "code",
   "execution_count": 6,
   "metadata": {
    "button": false,
    "new_sheet": false,
    "run_control": {
     "read_only": false
    }
   },
   "outputs": [],
   "source": [
    "concrete_data_columns = concrete_data.columns\n",
    "\n",
    "predictors = concrete_data[concrete_data_columns[concrete_data_columns != 'Strength']] # all columns except Strength\n",
    "target = concrete_data['Strength'] # Strength column"
   ]
  },
  {
   "cell_type": "markdown",
   "metadata": {
    "button": false,
    "new_sheet": false,
    "run_control": {
     "read_only": false
    }
   },
   "source": [
    "<a id=\"item2\"></a>"
   ]
  },
  {
   "cell_type": "markdown",
   "metadata": {
    "button": false,
    "new_sheet": false,
    "run_control": {
     "read_only": false
    }
   },
   "source": [
    "Let's do a quick sanity check of the predictors and the target dataframes."
   ]
  },
  {
   "cell_type": "code",
   "execution_count": 7,
   "metadata": {
    "button": false,
    "new_sheet": false,
    "run_control": {
     "read_only": false
    }
   },
   "outputs": [
    {
     "data": {
      "text/html": [
       "<div>\n",
       "<style scoped>\n",
       "    .dataframe tbody tr th:only-of-type {\n",
       "        vertical-align: middle;\n",
       "    }\n",
       "\n",
       "    .dataframe tbody tr th {\n",
       "        vertical-align: top;\n",
       "    }\n",
       "\n",
       "    .dataframe thead th {\n",
       "        text-align: right;\n",
       "    }\n",
       "</style>\n",
       "<table border=\"1\" class=\"dataframe\">\n",
       "  <thead>\n",
       "    <tr style=\"text-align: right;\">\n",
       "      <th></th>\n",
       "      <th>Cement</th>\n",
       "      <th>Blast Furnace Slag</th>\n",
       "      <th>Fly Ash</th>\n",
       "      <th>Water</th>\n",
       "      <th>Superplasticizer</th>\n",
       "      <th>Coarse Aggregate</th>\n",
       "      <th>Fine Aggregate</th>\n",
       "      <th>Age</th>\n",
       "    </tr>\n",
       "  </thead>\n",
       "  <tbody>\n",
       "    <tr>\n",
       "      <td>0</td>\n",
       "      <td>540.0</td>\n",
       "      <td>0.0</td>\n",
       "      <td>0.0</td>\n",
       "      <td>162.0</td>\n",
       "      <td>2.5</td>\n",
       "      <td>1040.0</td>\n",
       "      <td>676.0</td>\n",
       "      <td>28</td>\n",
       "    </tr>\n",
       "    <tr>\n",
       "      <td>1</td>\n",
       "      <td>540.0</td>\n",
       "      <td>0.0</td>\n",
       "      <td>0.0</td>\n",
       "      <td>162.0</td>\n",
       "      <td>2.5</td>\n",
       "      <td>1055.0</td>\n",
       "      <td>676.0</td>\n",
       "      <td>28</td>\n",
       "    </tr>\n",
       "    <tr>\n",
       "      <td>2</td>\n",
       "      <td>332.5</td>\n",
       "      <td>142.5</td>\n",
       "      <td>0.0</td>\n",
       "      <td>228.0</td>\n",
       "      <td>0.0</td>\n",
       "      <td>932.0</td>\n",
       "      <td>594.0</td>\n",
       "      <td>270</td>\n",
       "    </tr>\n",
       "    <tr>\n",
       "      <td>3</td>\n",
       "      <td>332.5</td>\n",
       "      <td>142.5</td>\n",
       "      <td>0.0</td>\n",
       "      <td>228.0</td>\n",
       "      <td>0.0</td>\n",
       "      <td>932.0</td>\n",
       "      <td>594.0</td>\n",
       "      <td>365</td>\n",
       "    </tr>\n",
       "    <tr>\n",
       "      <td>4</td>\n",
       "      <td>198.6</td>\n",
       "      <td>132.4</td>\n",
       "      <td>0.0</td>\n",
       "      <td>192.0</td>\n",
       "      <td>0.0</td>\n",
       "      <td>978.4</td>\n",
       "      <td>825.5</td>\n",
       "      <td>360</td>\n",
       "    </tr>\n",
       "  </tbody>\n",
       "</table>\n",
       "</div>"
      ],
      "text/plain": [
       "   Cement  Blast Furnace Slag  Fly Ash  Water  Superplasticizer  \\\n",
       "0   540.0                 0.0      0.0  162.0               2.5   \n",
       "1   540.0                 0.0      0.0  162.0               2.5   \n",
       "2   332.5               142.5      0.0  228.0               0.0   \n",
       "3   332.5               142.5      0.0  228.0               0.0   \n",
       "4   198.6               132.4      0.0  192.0               0.0   \n",
       "\n",
       "   Coarse Aggregate  Fine Aggregate  Age  \n",
       "0            1040.0           676.0   28  \n",
       "1            1055.0           676.0   28  \n",
       "2             932.0           594.0  270  \n",
       "3             932.0           594.0  365  \n",
       "4             978.4           825.5  360  "
      ]
     },
     "execution_count": 7,
     "metadata": {},
     "output_type": "execute_result"
    }
   ],
   "source": [
    "predictors.head()"
   ]
  },
  {
   "cell_type": "code",
   "execution_count": 8,
   "metadata": {
    "button": false,
    "new_sheet": false,
    "run_control": {
     "read_only": false
    }
   },
   "outputs": [
    {
     "data": {
      "text/plain": [
       "0    79.99\n",
       "1    61.89\n",
       "2    40.27\n",
       "3    41.05\n",
       "4    44.30\n",
       "Name: Strength, dtype: float64"
      ]
     },
     "execution_count": 8,
     "metadata": {},
     "output_type": "execute_result"
    }
   ],
   "source": [
    "target.head()"
   ]
  },
  {
   "cell_type": "markdown",
   "metadata": {},
   "source": [
    "### Normalization of data"
   ]
  },
  {
   "cell_type": "markdown",
   "metadata": {
    "button": false,
    "new_sheet": false,
    "run_control": {
     "read_only": false
    }
   },
   "source": [
    "Finally, the last step is to normalize the data by substracting the mean and dividing by the standard deviation."
   ]
  },
  {
   "cell_type": "code",
   "execution_count": 9,
   "metadata": {
    "button": false,
    "new_sheet": false,
    "run_control": {
     "read_only": false
    }
   },
   "outputs": [
    {
     "data": {
      "text/html": [
       "<div>\n",
       "<style scoped>\n",
       "    .dataframe tbody tr th:only-of-type {\n",
       "        vertical-align: middle;\n",
       "    }\n",
       "\n",
       "    .dataframe tbody tr th {\n",
       "        vertical-align: top;\n",
       "    }\n",
       "\n",
       "    .dataframe thead th {\n",
       "        text-align: right;\n",
       "    }\n",
       "</style>\n",
       "<table border=\"1\" class=\"dataframe\">\n",
       "  <thead>\n",
       "    <tr style=\"text-align: right;\">\n",
       "      <th></th>\n",
       "      <th>Cement</th>\n",
       "      <th>Blast Furnace Slag</th>\n",
       "      <th>Fly Ash</th>\n",
       "      <th>Water</th>\n",
       "      <th>Superplasticizer</th>\n",
       "      <th>Coarse Aggregate</th>\n",
       "      <th>Fine Aggregate</th>\n",
       "      <th>Age</th>\n",
       "    </tr>\n",
       "  </thead>\n",
       "  <tbody>\n",
       "    <tr>\n",
       "      <td>0</td>\n",
       "      <td>2.476712</td>\n",
       "      <td>-0.856472</td>\n",
       "      <td>-0.846733</td>\n",
       "      <td>-0.916319</td>\n",
       "      <td>-0.620147</td>\n",
       "      <td>0.862735</td>\n",
       "      <td>-1.217079</td>\n",
       "      <td>-0.279597</td>\n",
       "    </tr>\n",
       "    <tr>\n",
       "      <td>1</td>\n",
       "      <td>2.476712</td>\n",
       "      <td>-0.856472</td>\n",
       "      <td>-0.846733</td>\n",
       "      <td>-0.916319</td>\n",
       "      <td>-0.620147</td>\n",
       "      <td>1.055651</td>\n",
       "      <td>-1.217079</td>\n",
       "      <td>-0.279597</td>\n",
       "    </tr>\n",
       "    <tr>\n",
       "      <td>2</td>\n",
       "      <td>0.491187</td>\n",
       "      <td>0.795140</td>\n",
       "      <td>-0.846733</td>\n",
       "      <td>2.174405</td>\n",
       "      <td>-1.038638</td>\n",
       "      <td>-0.526262</td>\n",
       "      <td>-2.239829</td>\n",
       "      <td>3.551340</td>\n",
       "    </tr>\n",
       "    <tr>\n",
       "      <td>3</td>\n",
       "      <td>0.491187</td>\n",
       "      <td>0.795140</td>\n",
       "      <td>-0.846733</td>\n",
       "      <td>2.174405</td>\n",
       "      <td>-1.038638</td>\n",
       "      <td>-0.526262</td>\n",
       "      <td>-2.239829</td>\n",
       "      <td>5.055221</td>\n",
       "    </tr>\n",
       "    <tr>\n",
       "      <td>4</td>\n",
       "      <td>-0.790075</td>\n",
       "      <td>0.678079</td>\n",
       "      <td>-0.846733</td>\n",
       "      <td>0.488555</td>\n",
       "      <td>-1.038638</td>\n",
       "      <td>0.070492</td>\n",
       "      <td>0.647569</td>\n",
       "      <td>4.976069</td>\n",
       "    </tr>\n",
       "  </tbody>\n",
       "</table>\n",
       "</div>"
      ],
      "text/plain": [
       "     Cement  Blast Furnace Slag   Fly Ash     Water  Superplasticizer  \\\n",
       "0  2.476712           -0.856472 -0.846733 -0.916319         -0.620147   \n",
       "1  2.476712           -0.856472 -0.846733 -0.916319         -0.620147   \n",
       "2  0.491187            0.795140 -0.846733  2.174405         -1.038638   \n",
       "3  0.491187            0.795140 -0.846733  2.174405         -1.038638   \n",
       "4 -0.790075            0.678079 -0.846733  0.488555         -1.038638   \n",
       "\n",
       "   Coarse Aggregate  Fine Aggregate       Age  \n",
       "0          0.862735       -1.217079 -0.279597  \n",
       "1          1.055651       -1.217079 -0.279597  \n",
       "2         -0.526262       -2.239829  3.551340  \n",
       "3         -0.526262       -2.239829  5.055221  \n",
       "4          0.070492        0.647569  4.976069  "
      ]
     },
     "execution_count": 9,
     "metadata": {},
     "output_type": "execute_result"
    }
   ],
   "source": [
    "predictors_norm = (predictors - predictors.mean()) / predictors.std()\n",
    "predictors_norm.head()"
   ]
  },
  {
   "cell_type": "markdown",
   "metadata": {},
   "source": [
    "Let's save the number of predictors to *n_cols* since we will need this number when building our network."
   ]
  },
  {
   "cell_type": "code",
   "execution_count": 10,
   "metadata": {
    "button": false,
    "new_sheet": false,
    "run_control": {
     "read_only": false
    }
   },
   "outputs": [
    {
     "name": "stdout",
     "output_type": "stream",
     "text": [
      "8\n"
     ]
    }
   ],
   "source": [
    "n_cols = predictors_norm.shape[1] # number of predictors\n",
    "print(n_cols)"
   ]
  },
  {
   "cell_type": "markdown",
   "metadata": {},
   "source": [
    "### Split the data into training and testing sets"
   ]
  },
  {
   "cell_type": "markdown",
   "metadata": {},
   "source": [
    "let's import `train_test_split` from the `sklearn`"
   ]
  },
  {
   "cell_type": "code",
   "execution_count": 11,
   "metadata": {},
   "outputs": [],
   "source": [
    "from sklearn.model_selection import train_test_split\n",
    "X_train, X_test, y_train, y_test = train_test_split(predictors_norm, target, test_size=0.30, random_state=42)"
   ]
  },
  {
   "cell_type": "markdown",
   "metadata": {
    "button": false,
    "new_sheet": false,
    "run_control": {
     "read_only": false
    }
   },
   "source": [
    "<a id=\"item1\"></a>"
   ]
  },
  {
   "cell_type": "markdown",
   "metadata": {},
   "source": [
    "<a id='item32'></a>"
   ]
  },
  {
   "cell_type": "markdown",
   "metadata": {
    "button": false,
    "new_sheet": false,
    "run_control": {
     "read_only": false
    }
   },
   "source": [
    "## Import Keras"
   ]
  },
  {
   "cell_type": "markdown",
   "metadata": {
    "button": false,
    "new_sheet": false,
    "run_control": {
     "read_only": false
    }
   },
   "source": [
    "Recall from the videos that Keras normally runs on top of a low-level library such as TensorFlow. This means that to be able to use the Keras library, you will have to install TensorFlow first and when you import the Keras library, it will be explicitly displayed what backend was used to install the Keras library. In CC Labs, we used TensorFlow as the backend to install Keras, so it should clearly print that when we import Keras."
   ]
  },
  {
   "cell_type": "markdown",
   "metadata": {
    "button": false,
    "new_sheet": false,
    "run_control": {
     "read_only": false
    }
   },
   "source": [
    "#### Let's go ahead and import the Keras library"
   ]
  },
  {
   "cell_type": "code",
   "execution_count": 12,
   "metadata": {
    "button": false,
    "new_sheet": false,
    "run_control": {
     "read_only": false
    }
   },
   "outputs": [
    {
     "name": "stderr",
     "output_type": "stream",
     "text": [
      "Using TensorFlow backend.\n"
     ]
    }
   ],
   "source": [
    "import keras"
   ]
  },
  {
   "cell_type": "markdown",
   "metadata": {
    "button": false,
    "new_sheet": false,
    "run_control": {
     "read_only": false
    }
   },
   "source": [
    "As you can see, the TensorFlow backend was used to install the Keras library."
   ]
  },
  {
   "cell_type": "markdown",
   "metadata": {
    "button": false,
    "new_sheet": false,
    "run_control": {
     "read_only": false
    }
   },
   "source": [
    "Let's import the rest of the packages from the Keras library that we will need to build our regressoin model."
   ]
  },
  {
   "cell_type": "code",
   "execution_count": 13,
   "metadata": {
    "button": false,
    "new_sheet": false,
    "run_control": {
     "read_only": false
    }
   },
   "outputs": [],
   "source": [
    "from keras.models import Sequential\n",
    "from keras.layers import Dense"
   ]
  },
  {
   "cell_type": "markdown",
   "metadata": {},
   "source": [
    "<a id='item33'></a>"
   ]
  },
  {
   "cell_type": "markdown",
   "metadata": {
    "button": false,
    "new_sheet": false,
    "run_control": {
     "read_only": false
    }
   },
   "source": [
    "## Build a Neural Network"
   ]
  },
  {
   "cell_type": "markdown",
   "metadata": {
    "button": false,
    "new_sheet": false,
    "run_control": {
     "read_only": false
    }
   },
   "source": [
    "Let's define a function that defines our regression model for us so that we can conveniently call it to create our model."
   ]
  },
  {
   "cell_type": "code",
   "execution_count": 14,
   "metadata": {
    "button": false,
    "new_sheet": false,
    "run_control": {
     "read_only": false
    }
   },
   "outputs": [],
   "source": [
    "# define regression model\n",
    "def regression_model():\n",
    "    # create model\n",
    "    model = Sequential()\n",
    "    model.add(Dense(10, activation='relu', input_shape=(n_cols,)))\n",
    "    model.add(Dense(1))\n",
    "    \n",
    "    # compile model\n",
    "    model.compile(optimizer='adam', loss='mean_squared_error')\n",
    "    return model"
   ]
  },
  {
   "cell_type": "markdown",
   "metadata": {},
   "source": [
    "The above function create a model that one hidden layer of 10 hidden units."
   ]
  },
  {
   "cell_type": "markdown",
   "metadata": {
    "button": false,
    "new_sheet": false,
    "run_control": {
     "read_only": false
    }
   },
   "source": [
    "<a id=\"item4\"></a>"
   ]
  },
  {
   "cell_type": "markdown",
   "metadata": {},
   "source": [
    "<a id='item34'></a>"
   ]
  },
  {
   "cell_type": "markdown",
   "metadata": {
    "button": false,
    "new_sheet": false,
    "run_control": {
     "read_only": false
    }
   },
   "source": [
    "## Train and Test the Network"
   ]
  },
  {
   "cell_type": "markdown",
   "metadata": {},
   "source": [
    "Let's call the function now to create our model."
   ]
  },
  {
   "cell_type": "code",
   "execution_count": 15,
   "metadata": {
    "button": false,
    "new_sheet": false,
    "run_control": {
     "read_only": false
    }
   },
   "outputs": [],
   "source": [
    "# build the model\n",
    "model = regression_model()"
   ]
  },
  {
   "cell_type": "markdown",
   "metadata": {},
   "source": [
    "Next, we will train and test the model at the same time using the *fit* method. We will leave out 30% of the data for validation and we will train the model for 100 epochs."
   ]
  },
  {
   "cell_type": "code",
   "execution_count": 16,
   "metadata": {},
   "outputs": [
    {
     "name": "stdout",
     "output_type": "stream",
     "text": [
      "Train on 721 samples, validate on 309 samples\n",
      "Epoch 1/100\n",
      " - 0s - loss: 1603.7927 - val_loss: 1150.6177\n",
      "Epoch 2/100\n",
      " - 0s - loss: 1580.7934 - val_loss: 1137.6873\n",
      "Epoch 3/100\n",
      " - 0s - loss: 1557.0257 - val_loss: 1124.1964\n",
      "Epoch 4/100\n",
      " - 0s - loss: 1531.8328 - val_loss: 1110.1509\n",
      "Epoch 5/100\n",
      " - 0s - loss: 1504.9854 - val_loss: 1095.2274\n",
      "Epoch 6/100\n",
      " - 0s - loss: 1477.3671 - val_loss: 1079.4499\n",
      "Epoch 7/100\n",
      " - 0s - loss: 1447.4419 - val_loss: 1063.3305\n",
      "Epoch 8/100\n",
      " - 0s - loss: 1417.0983 - val_loss: 1046.0415\n",
      "Epoch 9/100\n",
      " - 0s - loss: 1384.8569 - val_loss: 1028.4264\n",
      "Epoch 10/100\n",
      " - 0s - loss: 1351.6269 - val_loss: 1009.6252\n",
      "Epoch 11/100\n",
      " - 0s - loss: 1317.1078 - val_loss: 990.6822\n",
      "Epoch 12/100\n",
      " - 0s - loss: 1282.1568 - val_loss: 970.4101\n",
      "Epoch 13/100\n",
      " - 0s - loss: 1245.1436 - val_loss: 950.5448\n",
      "Epoch 14/100\n",
      " - 0s - loss: 1208.2306 - val_loss: 929.5075\n",
      "Epoch 15/100\n",
      " - 0s - loss: 1170.2500 - val_loss: 908.1382\n",
      "Epoch 16/100\n",
      " - 0s - loss: 1131.2546 - val_loss: 886.6438\n",
      "Epoch 17/100\n",
      " - 0s - loss: 1093.0819 - val_loss: 864.1832\n",
      "Epoch 18/100\n",
      " - 0s - loss: 1053.3588 - val_loss: 841.9705\n",
      "Epoch 19/100\n",
      " - 0s - loss: 1014.2630 - val_loss: 819.2446\n",
      "Epoch 20/100\n",
      " - 0s - loss: 974.6535 - val_loss: 797.0716\n",
      "Epoch 21/100\n",
      " - 0s - loss: 935.4603 - val_loss: 773.9010\n",
      "Epoch 22/100\n",
      " - 0s - loss: 896.5688 - val_loss: 750.0156\n",
      "Epoch 23/100\n",
      " - 0s - loss: 857.8000 - val_loss: 726.8001\n",
      "Epoch 24/100\n",
      " - 0s - loss: 820.0898 - val_loss: 703.2741\n",
      "Epoch 25/100\n",
      " - 0s - loss: 782.6104 - val_loss: 680.2701\n",
      "Epoch 26/100\n",
      " - 0s - loss: 746.3645 - val_loss: 657.2385\n",
      "Epoch 27/100\n",
      " - 0s - loss: 711.1611 - val_loss: 634.2785\n",
      "Epoch 28/100\n",
      " - 0s - loss: 676.6358 - val_loss: 612.1552\n",
      "Epoch 29/100\n",
      " - 0s - loss: 644.0855 - val_loss: 590.8219\n",
      "Epoch 30/100\n",
      " - 0s - loss: 612.6008 - val_loss: 569.2621\n",
      "Epoch 31/100\n",
      " - 0s - loss: 581.7256 - val_loss: 548.2595\n",
      "Epoch 32/100\n",
      " - 0s - loss: 553.0955 - val_loss: 528.0244\n",
      "Epoch 33/100\n",
      " - 0s - loss: 525.7254 - val_loss: 509.1218\n",
      "Epoch 34/100\n",
      " - 0s - loss: 500.3285 - val_loss: 490.3123\n",
      "Epoch 35/100\n",
      " - 0s - loss: 476.0758 - val_loss: 472.7078\n",
      "Epoch 36/100\n",
      " - 0s - loss: 453.4941 - val_loss: 455.2088\n",
      "Epoch 37/100\n",
      " - 0s - loss: 432.6117 - val_loss: 438.9770\n",
      "Epoch 38/100\n",
      " - 0s - loss: 412.8512 - val_loss: 423.6338\n",
      "Epoch 39/100\n",
      " - 0s - loss: 394.8567 - val_loss: 408.3767\n",
      "Epoch 40/100\n",
      " - 0s - loss: 377.8077 - val_loss: 394.2555\n",
      "Epoch 41/100\n",
      " - 0s - loss: 362.2619 - val_loss: 381.1705\n",
      "Epoch 42/100\n",
      " - 0s - loss: 348.3215 - val_loss: 368.3126\n",
      "Epoch 43/100\n",
      " - 0s - loss: 335.0443 - val_loss: 356.7407\n",
      "Epoch 44/100\n",
      " - 0s - loss: 323.1919 - val_loss: 345.4598\n",
      "Epoch 45/100\n",
      " - 0s - loss: 312.3369 - val_loss: 335.1165\n",
      "Epoch 46/100\n",
      " - 0s - loss: 302.4414 - val_loss: 326.2592\n",
      "Epoch 47/100\n",
      " - 0s - loss: 293.7641 - val_loss: 316.7488\n",
      "Epoch 48/100\n",
      " - 0s - loss: 285.4258 - val_loss: 308.8278\n",
      "Epoch 49/100\n",
      " - 0s - loss: 277.9887 - val_loss: 301.4239\n",
      "Epoch 50/100\n",
      " - 0s - loss: 271.4796 - val_loss: 293.9826\n",
      "Epoch 51/100\n",
      " - 0s - loss: 265.0463 - val_loss: 287.1892\n",
      "Epoch 52/100\n",
      " - 0s - loss: 259.4069 - val_loss: 281.3499\n",
      "Epoch 53/100\n",
      " - 0s - loss: 254.1274 - val_loss: 275.6602\n",
      "Epoch 54/100\n",
      " - 0s - loss: 249.5017 - val_loss: 269.8633\n",
      "Epoch 55/100\n",
      " - 0s - loss: 244.7489 - val_loss: 265.4169\n",
      "Epoch 56/100\n",
      " - 0s - loss: 240.7710 - val_loss: 260.8124\n",
      "Epoch 57/100\n",
      " - 0s - loss: 236.8439 - val_loss: 256.0415\n",
      "Epoch 58/100\n",
      " - 0s - loss: 233.2110 - val_loss: 251.8566\n",
      "Epoch 59/100\n",
      " - 0s - loss: 229.9432 - val_loss: 248.0749\n",
      "Epoch 60/100\n",
      " - 0s - loss: 226.7613 - val_loss: 244.6542\n",
      "Epoch 61/100\n",
      " - 0s - loss: 223.7093 - val_loss: 241.2783\n",
      "Epoch 62/100\n",
      " - 0s - loss: 220.7914 - val_loss: 237.7754\n",
      "Epoch 63/100\n",
      " - 0s - loss: 218.1217 - val_loss: 235.0569\n",
      "Epoch 64/100\n",
      " - 0s - loss: 215.5142 - val_loss: 232.1362\n",
      "Epoch 65/100\n",
      " - 0s - loss: 213.1424 - val_loss: 229.2173\n",
      "Epoch 66/100\n",
      " - 0s - loss: 210.6772 - val_loss: 226.8763\n",
      "Epoch 67/100\n",
      " - 0s - loss: 208.4392 - val_loss: 224.4645\n",
      "Epoch 68/100\n",
      " - 0s - loss: 206.2543 - val_loss: 221.8725\n",
      "Epoch 69/100\n",
      " - 0s - loss: 204.1889 - val_loss: 219.6116\n",
      "Epoch 70/100\n",
      " - 0s - loss: 202.1851 - val_loss: 217.5156\n",
      "Epoch 71/100\n",
      " - 0s - loss: 200.2587 - val_loss: 214.9119\n",
      "Epoch 72/100\n",
      " - 0s - loss: 198.3726 - val_loss: 213.0505\n",
      "Epoch 73/100\n",
      " - 0s - loss: 196.5393 - val_loss: 211.0282\n",
      "Epoch 74/100\n",
      " - 0s - loss: 194.8526 - val_loss: 208.8976\n",
      "Epoch 75/100\n",
      " - 0s - loss: 193.1604 - val_loss: 206.6579\n",
      "Epoch 76/100\n",
      " - 0s - loss: 191.5873 - val_loss: 205.1086\n",
      "Epoch 77/100\n",
      " - 0s - loss: 189.9579 - val_loss: 203.0299\n",
      "Epoch 78/100\n",
      " - 0s - loss: 188.4043 - val_loss: 201.4557\n",
      "Epoch 79/100\n",
      " - 0s - loss: 186.8722 - val_loss: 199.5135\n",
      "Epoch 80/100\n",
      " - 0s - loss: 185.5148 - val_loss: 198.0939\n",
      "Epoch 81/100\n",
      " - 0s - loss: 184.0772 - val_loss: 196.6680\n",
      "Epoch 82/100\n",
      " - 0s - loss: 182.6216 - val_loss: 194.4358\n",
      "Epoch 83/100\n",
      " - 0s - loss: 181.0844 - val_loss: 193.0173\n",
      "Epoch 84/100\n",
      " - 0s - loss: 179.7424 - val_loss: 191.6124\n",
      "Epoch 85/100\n",
      " - 0s - loss: 178.3336 - val_loss: 190.2986\n",
      "Epoch 86/100\n",
      " - 0s - loss: 177.0967 - val_loss: 188.8788\n",
      "Epoch 87/100\n",
      " - 0s - loss: 175.7455 - val_loss: 187.1836\n",
      "Epoch 88/100\n",
      " - 0s - loss: 174.5653 - val_loss: 185.7728\n",
      "Epoch 89/100\n",
      " - 0s - loss: 173.3906 - val_loss: 184.4170\n",
      "Epoch 90/100\n",
      " - 0s - loss: 171.9992 - val_loss: 183.2866\n",
      "Epoch 91/100\n",
      " - 0s - loss: 170.8188 - val_loss: 181.6930\n",
      "Epoch 92/100\n",
      " - 0s - loss: 169.5688 - val_loss: 180.6572\n",
      "Epoch 93/100\n",
      " - 0s - loss: 168.3760 - val_loss: 179.1871\n",
      "Epoch 94/100\n",
      " - 0s - loss: 167.1597 - val_loss: 177.7299\n",
      "Epoch 95/100\n",
      " - 0s - loss: 166.0144 - val_loss: 176.1465\n",
      "Epoch 96/100\n",
      " - 0s - loss: 164.7818 - val_loss: 174.6016\n",
      "Epoch 97/100\n",
      " - 0s - loss: 163.6034 - val_loss: 173.9045\n",
      "Epoch 98/100\n",
      " - 0s - loss: 162.5358 - val_loss: 172.0473\n",
      "Epoch 99/100\n",
      " - 0s - loss: 161.5125 - val_loss: 170.5215\n",
      "Epoch 100/100\n",
      " - 0s - loss: 160.2727 - val_loss: 169.3581\n"
     ]
    },
    {
     "data": {
      "text/plain": [
       "<keras.callbacks.callbacks.History at 0x220dfdb9c88>"
      ]
     },
     "execution_count": 16,
     "metadata": {},
     "output_type": "execute_result"
    }
   ],
   "source": [
    "# fit the model\n",
    "model.fit(predictors_norm, target, validation_split=0.3, epochs=100, verbose=2)"
   ]
  },
  {
   "cell_type": "code",
   "execution_count": 17,
   "metadata": {},
   "outputs": [
    {
     "name": "stdout",
     "output_type": "stream",
     "text": [
      "309/309 [==============================] - 0s 27us/step\n"
     ]
    },
    {
     "data": {
      "text/plain": [
       "154.23022628833561"
      ]
     },
     "execution_count": 17,
     "metadata": {},
     "output_type": "execute_result"
    }
   ],
   "source": [
    "model.evaluate(X_test,y_test, verbose=1)"
   ]
  },
  {
   "cell_type": "markdown",
   "metadata": {},
   "source": [
    "   Now we need to compute the mean squared error between the predicted concrete strength and the actual concrete strength."
   ]
  },
  {
   "cell_type": "markdown",
   "metadata": {},
   "source": [
    "   Let's import the mean_squared_error function from Scikit-learn."
   ]
  },
  {
   "cell_type": "code",
   "execution_count": 18,
   "metadata": {},
   "outputs": [],
   "source": [
    "from sklearn.metrics import mean_squared_error"
   ]
  },
  {
   "cell_type": "code",
   "execution_count": 19,
   "metadata": {},
   "outputs": [],
   "source": [
    "y_pred = model.predict(X_test)"
   ]
  },
  {
   "cell_type": "code",
   "execution_count": 20,
   "metadata": {},
   "outputs": [
    {
     "data": {
      "text/plain": [
       "array([[53.774673 ],\n",
       "       [44.948288 ],\n",
       "       [63.50659  ],\n",
       "       [44.35504  ],\n",
       "       [21.074451 ],\n",
       "       [25.763252 ],\n",
       "       [14.619875 ],\n",
       "       [50.983826 ],\n",
       "       [33.56835  ],\n",
       "       [34.97419  ],\n",
       "       [22.500927 ],\n",
       "       [20.879028 ],\n",
       "       [73.6152   ],\n",
       "       [46.578354 ],\n",
       "       [32.95408  ],\n",
       "       [42.91245  ],\n",
       "       [17.562462 ],\n",
       "       [25.154303 ],\n",
       "       [16.512577 ],\n",
       "       [23.903444 ],\n",
       "       [32.875393 ],\n",
       "       [32.48267  ],\n",
       "       [31.934048 ],\n",
       "       [27.057    ],\n",
       "       [33.187775 ],\n",
       "       [37.486187 ],\n",
       "       [ 9.540255 ],\n",
       "       [37.174416 ],\n",
       "       [50.744686 ],\n",
       "       [18.781693 ],\n",
       "       [36.5395   ],\n",
       "       [28.302425 ],\n",
       "       [44.34806  ],\n",
       "       [54.398018 ],\n",
       "       [22.000849 ],\n",
       "       [35.906906 ],\n",
       "       [32.05563  ],\n",
       "       [26.55257  ],\n",
       "       [19.185535 ],\n",
       "       [33.26503  ],\n",
       "       [14.740544 ],\n",
       "       [16.23128  ],\n",
       "       [24.362679 ],\n",
       "       [46.270554 ],\n",
       "       [15.727529 ],\n",
       "       [50.874886 ],\n",
       "       [53.168873 ],\n",
       "       [60.919014 ],\n",
       "       [14.826346 ],\n",
       "       [21.263954 ],\n",
       "       [33.56181  ],\n",
       "       [31.412083 ],\n",
       "       [15.960654 ],\n",
       "       [31.810287 ],\n",
       "       [43.927902 ],\n",
       "       [43.339417 ],\n",
       "       [32.022717 ],\n",
       "       [13.502647 ],\n",
       "       [36.318245 ],\n",
       "       [15.936499 ],\n",
       "       [26.286404 ],\n",
       "       [23.750927 ],\n",
       "       [25.016722 ],\n",
       "       [54.312134 ],\n",
       "       [20.590364 ],\n",
       "       [30.448029 ],\n",
       "       [18.653194 ],\n",
       "       [19.42124  ],\n",
       "       [14.853712 ],\n",
       "       [20.99739  ],\n",
       "       [16.30071  ],\n",
       "       [16.28923  ],\n",
       "       [ 8.8340435],\n",
       "       [22.420038 ],\n",
       "       [17.508413 ],\n",
       "       [12.633163 ],\n",
       "       [53.535564 ],\n",
       "       [51.732967 ],\n",
       "       [45.749912 ],\n",
       "       [20.853115 ],\n",
       "       [38.06904  ],\n",
       "       [41.69421  ],\n",
       "       [27.552574 ],\n",
       "       [19.967203 ],\n",
       "       [65.725426 ],\n",
       "       [44.35504  ],\n",
       "       [23.342432 ],\n",
       "       [16.7403   ],\n",
       "       [27.644592 ],\n",
       "       [16.832758 ],\n",
       "       [22.681532 ],\n",
       "       [61.49352  ],\n",
       "       [31.27359  ],\n",
       "       [36.98108  ],\n",
       "       [23.52837  ],\n",
       "       [46.70523  ],\n",
       "       [33.654892 ],\n",
       "       [19.014816 ],\n",
       "       [27.175076 ],\n",
       "       [23.061628 ],\n",
       "       [28.23861  ],\n",
       "       [25.638462 ],\n",
       "       [47.86454  ],\n",
       "       [26.167416 ],\n",
       "       [86.38691  ],\n",
       "       [12.428846 ],\n",
       "       [41.215706 ],\n",
       "       [20.265587 ],\n",
       "       [43.51045  ],\n",
       "       [51.90103  ],\n",
       "       [60.85428  ],\n",
       "       [39.28074  ],\n",
       "       [34.800674 ],\n",
       "       [35.301247 ],\n",
       "       [43.216618 ],\n",
       "       [54.100853 ],\n",
       "       [19.081608 ],\n",
       "       [29.688389 ],\n",
       "       [48.573853 ],\n",
       "       [23.646618 ],\n",
       "       [30.27826  ],\n",
       "       [16.43692  ],\n",
       "       [48.14231  ],\n",
       "       [22.493315 ],\n",
       "       [23.608839 ],\n",
       "       [31.86456  ],\n",
       "       [56.31421  ],\n",
       "       [49.862846 ],\n",
       "       [28.58382  ],\n",
       "       [16.242687 ],\n",
       "       [13.324303 ],\n",
       "       [34.643837 ],\n",
       "       [11.498852 ],\n",
       "       [54.379944 ],\n",
       "       [15.472939 ],\n",
       "       [56.212402 ],\n",
       "       [16.262945 ],\n",
       "       [31.630297 ],\n",
       "       [28.03843  ],\n",
       "       [31.184925 ],\n",
       "       [35.165092 ],\n",
       "       [22.95791  ],\n",
       "       [31.848845 ],\n",
       "       [20.073645 ],\n",
       "       [33.28443  ],\n",
       "       [23.476503 ],\n",
       "       [26.638742 ],\n",
       "       [25.277264 ],\n",
       "       [18.85824  ],\n",
       "       [15.388173 ],\n",
       "       [36.18947  ],\n",
       "       [30.99109  ],\n",
       "       [41.039227 ],\n",
       "       [33.758434 ],\n",
       "       [42.981712 ],\n",
       "       [22.435442 ],\n",
       "       [17.122772 ],\n",
       "       [75.15543  ],\n",
       "       [44.948296 ],\n",
       "       [33.40035  ],\n",
       "       [17.172256 ],\n",
       "       [62.685104 ],\n",
       "       [27.29715  ],\n",
       "       [47.73783  ],\n",
       "       [49.325104 ],\n",
       "       [49.068523 ],\n",
       "       [41.705345 ],\n",
       "       [20.520128 ],\n",
       "       [47.090378 ],\n",
       "       [40.27479  ],\n",
       "       [37.466087 ],\n",
       "       [24.584042 ],\n",
       "       [23.603132 ],\n",
       "       [24.302155 ],\n",
       "       [33.27974  ],\n",
       "       [18.660519 ],\n",
       "       [19.280005 ],\n",
       "       [46.875263 ],\n",
       "       [33.511806 ],\n",
       "       [37.150528 ],\n",
       "       [18.293207 ],\n",
       "       [21.918678 ],\n",
       "       [51.722214 ],\n",
       "       [36.418507 ],\n",
       "       [46.449043 ],\n",
       "       [44.540382 ],\n",
       "       [18.383266 ],\n",
       "       [37.762375 ],\n",
       "       [37.605606 ],\n",
       "       [13.040501 ],\n",
       "       [40.458694 ],\n",
       "       [42.399323 ],\n",
       "       [42.607555 ],\n",
       "       [41.40929  ],\n",
       "       [51.730156 ],\n",
       "       [32.912655 ],\n",
       "       [49.54031  ],\n",
       "       [31.333069 ],\n",
       "       [14.145001 ],\n",
       "       [22.990372 ],\n",
       "       [32.65054  ],\n",
       "       [54.100853 ],\n",
       "       [17.613104 ],\n",
       "       [43.947243 ],\n",
       "       [48.45848  ],\n",
       "       [26.120495 ],\n",
       "       [25.612251 ],\n",
       "       [40.84074  ],\n",
       "       [34.706024 ],\n",
       "       [18.533203 ],\n",
       "       [33.23559  ],\n",
       "       [35.614708 ],\n",
       "       [23.61345  ],\n",
       "       [23.110193 ],\n",
       "       [25.83271  ],\n",
       "       [14.898502 ],\n",
       "       [28.218084 ],\n",
       "       [24.495718 ],\n",
       "       [19.568995 ],\n",
       "       [48.346127 ],\n",
       "       [34.28526  ],\n",
       "       [37.046997 ],\n",
       "       [45.53507  ],\n",
       "       [15.078234 ],\n",
       "       [37.059845 ],\n",
       "       [33.01964  ],\n",
       "       [22.969559 ],\n",
       "       [10.26424  ],\n",
       "       [33.966663 ],\n",
       "       [21.077185 ],\n",
       "       [14.191238 ],\n",
       "       [27.22298  ],\n",
       "       [28.29652  ],\n",
       "       [28.631042 ],\n",
       "       [34.653164 ],\n",
       "       [34.008453 ],\n",
       "       [41.156464 ],\n",
       "       [36.546898 ],\n",
       "       [37.17405  ],\n",
       "       [26.539358 ],\n",
       "       [34.869926 ],\n",
       "       [36.692833 ],\n",
       "       [71.767815 ],\n",
       "       [ 9.57468  ],\n",
       "       [67.5947   ],\n",
       "       [18.057833 ],\n",
       "       [57.539574 ],\n",
       "       [15.642396 ],\n",
       "       [44.989017 ],\n",
       "       [57.489502 ],\n",
       "       [18.133709 ],\n",
       "       [45.329    ],\n",
       "       [28.162395 ],\n",
       "       [33.504932 ],\n",
       "       [44.22122  ],\n",
       "       [29.29557  ],\n",
       "       [24.563122 ],\n",
       "       [41.70933  ],\n",
       "       [30.182413 ],\n",
       "       [16.803381 ],\n",
       "       [20.547865 ],\n",
       "       [37.441345 ],\n",
       "       [21.049183 ],\n",
       "       [17.30489  ],\n",
       "       [13.960627 ],\n",
       "       [42.12361  ],\n",
       "       [48.838554 ],\n",
       "       [51.004105 ],\n",
       "       [51.498795 ],\n",
       "       [64.07243  ],\n",
       "       [30.808292 ],\n",
       "       [22.559237 ],\n",
       "       [42.722523 ],\n",
       "       [20.52236  ],\n",
       "       [22.020649 ],\n",
       "       [49.325104 ],\n",
       "       [46.08366  ],\n",
       "       [34.726128 ],\n",
       "       [47.14247  ],\n",
       "       [17.184519 ],\n",
       "       [24.90483  ],\n",
       "       [40.169853 ],\n",
       "       [15.815365 ],\n",
       "       [30.82247  ],\n",
       "       [13.250507 ],\n",
       "       [26.082724 ],\n",
       "       [29.935219 ],\n",
       "       [16.941776 ],\n",
       "       [43.059216 ],\n",
       "       [60.081116 ],\n",
       "       [35.747482 ],\n",
       "       [17.635902 ],\n",
       "       [28.26254  ],\n",
       "       [24.367996 ],\n",
       "       [22.404045 ],\n",
       "       [35.06155  ],\n",
       "       [18.814156 ],\n",
       "       [38.521515 ],\n",
       "       [26.56176  ],\n",
       "       [25.449226 ],\n",
       "       [30.738401 ],\n",
       "       [17.234417 ],\n",
       "       [52.923256 ],\n",
       "       [61.59076  ],\n",
       "       [15.055753 ],\n",
       "       [21.900074 ],\n",
       "       [31.681166 ],\n",
       "       [38.21334  ],\n",
       "       [38.848305 ]], dtype=float32)"
      ]
     },
     "execution_count": 20,
     "metadata": {},
     "output_type": "execute_result"
    }
   ],
   "source": [
    "y_pred"
   ]
  },
  {
   "cell_type": "code",
   "execution_count": 21,
   "metadata": {},
   "outputs": [
    {
     "name": "stdout",
     "output_type": "stream",
     "text": [
      "mse:  154.23022948236525\n"
     ]
    }
   ],
   "source": [
    "mse = mean_squared_error(y_test, y_pred)\n",
    "print('mse: ', mse)"
   ]
  },
  {
   "cell_type": "markdown",
   "metadata": {},
   "source": [
    "Let's create a list of 50 mean squared errors and report mean and the standard deviation of the mean squared errors."
   ]
  },
  {
   "cell_type": "code",
   "execution_count": 22,
   "metadata": {},
   "outputs": [
    {
     "name": "stdout",
     "output_type": "stream",
     "text": [
      "mse 1:  96.0993934557276\n",
      "mse 2:  79.56151080825954\n",
      "mse 3:  74.07896404821896\n",
      "mse 4:  71.91631670214211\n",
      "mse 5:  70.28211563999213\n",
      "mse 6:  70.17010316570986\n",
      "mse 7:  69.81546240254127\n",
      "mse 8:  69.58942292346151\n",
      "mse 9:  69.40679392151077\n",
      "mse 10:  69.90222286483616\n",
      "mse 11:  69.22785313924153\n",
      "mse 12:  69.29306682105204\n",
      "mse 13:  69.50471144741022\n",
      "mse 14:  69.4231158753429\n",
      "mse 15:  69.42239610739897\n",
      "mse 16:  69.34406570632095\n",
      "mse 17:  69.05443929777176\n",
      "mse 18:  69.22501417734091\n",
      "mse 19:  69.48181279500325\n",
      "mse 20:  69.16611189363844\n",
      "mse 21:  69.12804343708125\n",
      "mse 22:  68.99314477914359\n",
      "mse 23:  69.13348335587091\n",
      "mse 24:  69.14918734109132\n",
      "mse 25:  69.09194231496274\n",
      "mse 26:  68.98234958093143\n",
      "mse 27:  69.27858135383877\n",
      "mse 28:  69.07535241876991\n",
      "mse 29:  69.27334270045209\n",
      "mse 30:  69.02938621792593\n",
      "mse 31:  69.34685383028197\n",
      "mse 32:  69.16655685523567\n",
      "mse 33:  69.43408119176969\n",
      "mse 34:  69.05792305461797\n",
      "mse 35:  69.11284363385543\n",
      "mse 36:  68.914045796811\n",
      "mse 37:  69.13508775087622\n",
      "mse 38:  68.89255313811564\n",
      "mse 39:  69.10776316077964\n",
      "mse 40:  69.16763897003865\n",
      "mse 41:  69.32058244229906\n",
      "mse 42:  68.92941297759516\n",
      "mse 43:  68.97798755485263\n",
      "mse 44:  69.24023842425794\n",
      "mse 45:  69.17798349078033\n",
      "mse 46:  69.31095502291683\n",
      "mse 47:  69.08296436939425\n",
      "mse 48:  68.99525270184267\n",
      "mse 49:  69.11776053172485\n",
      "mse 50:  68.97494994475232\n",
      "Mean :  70.15126341649227\n",
      "Standard Deviation :  4.052429191995384\n"
     ]
    }
   ],
   "source": [
    "n = 50\n",
    "epochs = 100\n",
    "mean_squared_errors = []\n",
    "for i in range(0, n):\n",
    "    X_train, X_test, y_train, y_test = train_test_split(predictors_norm, target, test_size=0.30, random_state=42)\n",
    "    model.fit(X_train, y_train, epochs=epochs, verbose=0)\n",
    "    mse = model.evaluate(X_test, y_test, verbose=0)\n",
    "    print(\"mse \" +str(i+1)+\": \", mse)\n",
    "    y_pred = model.predict(X_test)\n",
    "    mean_square_error = mean_squared_error(y_test, y_pred)\n",
    "    mean_squared_errors.append(mean_square_error)\n",
    "    \n",
    "mean_squared_errors = np.array(mean_squared_errors)\n",
    "mean = np.mean(mean_squared_errors)\n",
    "standard_deviation = np.std(mean_squared_errors)   \n",
    "\n",
    "print(\"Mean : \", mean)\n",
    "print(\"Standard Deviation : \", standard_deviation)"
   ]
  },
  {
   "cell_type": "code",
   "execution_count": 23,
   "metadata": {},
   "outputs": [
    {
     "name": "stdout",
     "output_type": "stream",
     "text": [
      "Below are the mean and standard deviation of 50 mean squared errors of normalized data for 100 epochs\n",
      "Mean :  70.15126341649227\n",
      "Standard Deviation :  4.052429191995384\n"
     ]
    }
   ],
   "source": [
    "print('Below are the mean and standard deviation of 50 mean squared errors of normalized data for 100 epochs')\n",
    "print(\"Mean : \", mean)\n",
    "print(\"Standard Deviation : \", standard_deviation)"
   ]
  },
  {
   "cell_type": "code",
   "execution_count": 24,
   "metadata": {},
   "outputs": [
    {
     "name": "stdout",
     "output_type": "stream",
     "text": [
      "mean squared errors:  [96.09939568 79.56151237 74.07896564 71.91631827 70.28211789 70.17010454\n",
      " 69.81546261 69.58942346 69.40679577 69.90222365 69.22785449 69.29306562\n",
      " 69.50471092 69.4231171  69.42239676 69.34406566 69.05443898 69.22501508\n",
      " 69.48181303 69.16611277 69.12804231 68.99314616 69.13348549 69.14918872\n",
      " 69.09194264 68.98234879 69.27858193 69.07535222 69.27334222 69.02938645\n",
      " 69.34685332 69.16655692 69.43408289 69.05792364 69.11284311 68.91404738\n",
      " 69.13508795 68.89255225 69.10776252 69.16763935 69.32058191 68.929416\n",
      " 68.97798714 69.24023851 69.17798452 69.31095476 69.08296686 68.99525295\n",
      " 69.1177615  68.97495013]\n"
     ]
    }
   ],
   "source": [
    "print('mean squared errors: ', mean_squared_errors)"
   ]
  },
  {
   "cell_type": "markdown",
   "metadata": {},
   "source": [
    "The `mean` with predictors_norm data of 50 mean squared errors in part B for 100 epochs is 70 while it was 51 in part B  for 50 epochs."
   ]
  }
 ],
 "metadata": {
  "kernelspec": {
   "display_name": "Python 3",
   "language": "python",
   "name": "python3"
  },
  "language_info": {
   "codemirror_mode": {
    "name": "ipython",
    "version": 3
   },
   "file_extension": ".py",
   "mimetype": "text/x-python",
   "name": "python",
   "nbconvert_exporter": "python",
   "pygments_lexer": "ipython3",
   "version": "3.7.4"
  }
 },
 "nbformat": 4,
 "nbformat_minor": 4
}
