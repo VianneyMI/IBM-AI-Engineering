{
 "cells": [
  {
   "cell_type": "markdown",
   "metadata": {
    "button": false,
    "new_sheet": false,
    "run_control": {
     "read_only": false
    }
   },
   "source": [
    "<a id=\"item31\"></a>"
   ]
  },
  {
   "cell_type": "markdown",
   "metadata": {
    "button": false,
    "new_sheet": false,
    "run_control": {
     "read_only": false
    }
   },
   "source": [
    "## Download and Clean Dataset"
   ]
  },
  {
   "cell_type": "markdown",
   "metadata": {
    "button": false,
    "new_sheet": false,
    "run_control": {
     "read_only": false
    }
   },
   "source": [
    "Let's start by importing the <em>pandas</em> and the Numpy libraries."
   ]
  },
  {
   "cell_type": "code",
   "execution_count": 1,
   "metadata": {
    "button": false,
    "new_sheet": false,
    "run_control": {
     "read_only": false
    }
   },
   "outputs": [],
   "source": [
    "import pandas as pd\n",
    "import numpy as np"
   ]
  },
  {
   "cell_type": "markdown",
   "metadata": {
    "button": false,
    "new_sheet": false,
    "run_control": {
     "read_only": false
    }
   },
   "source": [
    "\n",
    "<strong>The dataset is about the compressive strength of different samples of concrete based on the volumes of the different ingredients that were used to make them. Ingredients include:</strong>\n",
    "\n",
    "<strong>1. Cement</strong>\n",
    "\n",
    "<strong>2. Blast Furnace Slag</strong>\n",
    "\n",
    "<strong>3. Fly Ash</strong>\n",
    "\n",
    "<strong>4. Water</strong>\n",
    "\n",
    "<strong>5. Superplasticizer</strong>\n",
    "\n",
    "<strong>6. Coarse Aggregate</strong>\n",
    "\n",
    "<strong>7. Fine Aggregate</strong>"
   ]
  },
  {
   "cell_type": "markdown",
   "metadata": {
    "button": false,
    "new_sheet": false,
    "run_control": {
     "read_only": false
    }
   },
   "source": [
    "Let's download the data and read it into a <em>pandas</em> dataframe."
   ]
  },
  {
   "cell_type": "code",
   "execution_count": 2,
   "metadata": {
    "button": false,
    "new_sheet": false,
    "run_control": {
     "read_only": false
    }
   },
   "outputs": [
    {
     "data": {
      "text/html": [
       "<div>\n",
       "<style scoped>\n",
       "    .dataframe tbody tr th:only-of-type {\n",
       "        vertical-align: middle;\n",
       "    }\n",
       "\n",
       "    .dataframe tbody tr th {\n",
       "        vertical-align: top;\n",
       "    }\n",
       "\n",
       "    .dataframe thead th {\n",
       "        text-align: right;\n",
       "    }\n",
       "</style>\n",
       "<table border=\"1\" class=\"dataframe\">\n",
       "  <thead>\n",
       "    <tr style=\"text-align: right;\">\n",
       "      <th></th>\n",
       "      <th>Cement</th>\n",
       "      <th>Blast Furnace Slag</th>\n",
       "      <th>Fly Ash</th>\n",
       "      <th>Water</th>\n",
       "      <th>Superplasticizer</th>\n",
       "      <th>Coarse Aggregate</th>\n",
       "      <th>Fine Aggregate</th>\n",
       "      <th>Age</th>\n",
       "      <th>Strength</th>\n",
       "    </tr>\n",
       "  </thead>\n",
       "  <tbody>\n",
       "    <tr>\n",
       "      <td>0</td>\n",
       "      <td>540.0</td>\n",
       "      <td>0.0</td>\n",
       "      <td>0.0</td>\n",
       "      <td>162.0</td>\n",
       "      <td>2.5</td>\n",
       "      <td>1040.0</td>\n",
       "      <td>676.0</td>\n",
       "      <td>28</td>\n",
       "      <td>79.99</td>\n",
       "    </tr>\n",
       "    <tr>\n",
       "      <td>1</td>\n",
       "      <td>540.0</td>\n",
       "      <td>0.0</td>\n",
       "      <td>0.0</td>\n",
       "      <td>162.0</td>\n",
       "      <td>2.5</td>\n",
       "      <td>1055.0</td>\n",
       "      <td>676.0</td>\n",
       "      <td>28</td>\n",
       "      <td>61.89</td>\n",
       "    </tr>\n",
       "    <tr>\n",
       "      <td>2</td>\n",
       "      <td>332.5</td>\n",
       "      <td>142.5</td>\n",
       "      <td>0.0</td>\n",
       "      <td>228.0</td>\n",
       "      <td>0.0</td>\n",
       "      <td>932.0</td>\n",
       "      <td>594.0</td>\n",
       "      <td>270</td>\n",
       "      <td>40.27</td>\n",
       "    </tr>\n",
       "    <tr>\n",
       "      <td>3</td>\n",
       "      <td>332.5</td>\n",
       "      <td>142.5</td>\n",
       "      <td>0.0</td>\n",
       "      <td>228.0</td>\n",
       "      <td>0.0</td>\n",
       "      <td>932.0</td>\n",
       "      <td>594.0</td>\n",
       "      <td>365</td>\n",
       "      <td>41.05</td>\n",
       "    </tr>\n",
       "    <tr>\n",
       "      <td>4</td>\n",
       "      <td>198.6</td>\n",
       "      <td>132.4</td>\n",
       "      <td>0.0</td>\n",
       "      <td>192.0</td>\n",
       "      <td>0.0</td>\n",
       "      <td>978.4</td>\n",
       "      <td>825.5</td>\n",
       "      <td>360</td>\n",
       "      <td>44.30</td>\n",
       "    </tr>\n",
       "  </tbody>\n",
       "</table>\n",
       "</div>"
      ],
      "text/plain": [
       "   Cement  Blast Furnace Slag  Fly Ash  Water  Superplasticizer  \\\n",
       "0   540.0                 0.0      0.0  162.0               2.5   \n",
       "1   540.0                 0.0      0.0  162.0               2.5   \n",
       "2   332.5               142.5      0.0  228.0               0.0   \n",
       "3   332.5               142.5      0.0  228.0               0.0   \n",
       "4   198.6               132.4      0.0  192.0               0.0   \n",
       "\n",
       "   Coarse Aggregate  Fine Aggregate  Age  Strength  \n",
       "0            1040.0           676.0   28     79.99  \n",
       "1            1055.0           676.0   28     61.89  \n",
       "2             932.0           594.0  270     40.27  \n",
       "3             932.0           594.0  365     41.05  \n",
       "4             978.4           825.5  360     44.30  "
      ]
     },
     "execution_count": 2,
     "metadata": {},
     "output_type": "execute_result"
    }
   ],
   "source": [
    "concrete_data = pd.read_csv('https://s3-api.us-geo.objectstorage.softlayer.net/cf-courses-data/CognitiveClass/DL0101EN/labs/data/concrete_data.csv')\n",
    "concrete_data.head()"
   ]
  },
  {
   "cell_type": "markdown",
   "metadata": {
    "button": false,
    "new_sheet": false,
    "run_control": {
     "read_only": false
    }
   },
   "source": [
    "So the first concrete sample has 540 cubic meter of cement, 0 cubic meter of blast furnace slag, 0 cubic meter of fly ash, 162 cubic meter of water, 2.5 cubic meter of superplaticizer, 1040 cubic meter of coarse aggregate, 676 cubic meter of fine aggregate. Such a concrete mix which is 28 days old, has a compressive strength of 79.99 MPa. "
   ]
  },
  {
   "cell_type": "markdown",
   "metadata": {
    "button": false,
    "new_sheet": false,
    "run_control": {
     "read_only": false
    }
   },
   "source": [
    "#### Let's check how many data points we have."
   ]
  },
  {
   "cell_type": "code",
   "execution_count": 3,
   "metadata": {
    "button": false,
    "new_sheet": false,
    "run_control": {
     "read_only": false
    }
   },
   "outputs": [
    {
     "data": {
      "text/plain": [
       "(1030, 9)"
      ]
     },
     "execution_count": 3,
     "metadata": {},
     "output_type": "execute_result"
    }
   ],
   "source": [
    "concrete_data.shape"
   ]
  },
  {
   "cell_type": "markdown",
   "metadata": {
    "button": false,
    "new_sheet": false,
    "run_control": {
     "read_only": false
    }
   },
   "source": [
    "So, there are approximately 1000 samples to train our model on. Because of the few samples, we have to be careful not to overfit the training data."
   ]
  },
  {
   "cell_type": "markdown",
   "metadata": {
    "button": false,
    "new_sheet": false,
    "run_control": {
     "read_only": false
    }
   },
   "source": [
    "Let's check the dataset for any missing values."
   ]
  },
  {
   "cell_type": "code",
   "execution_count": 4,
   "metadata": {
    "button": false,
    "new_sheet": false,
    "run_control": {
     "read_only": false
    }
   },
   "outputs": [
    {
     "data": {
      "text/html": [
       "<div>\n",
       "<style scoped>\n",
       "    .dataframe tbody tr th:only-of-type {\n",
       "        vertical-align: middle;\n",
       "    }\n",
       "\n",
       "    .dataframe tbody tr th {\n",
       "        vertical-align: top;\n",
       "    }\n",
       "\n",
       "    .dataframe thead th {\n",
       "        text-align: right;\n",
       "    }\n",
       "</style>\n",
       "<table border=\"1\" class=\"dataframe\">\n",
       "  <thead>\n",
       "    <tr style=\"text-align: right;\">\n",
       "      <th></th>\n",
       "      <th>Cement</th>\n",
       "      <th>Blast Furnace Slag</th>\n",
       "      <th>Fly Ash</th>\n",
       "      <th>Water</th>\n",
       "      <th>Superplasticizer</th>\n",
       "      <th>Coarse Aggregate</th>\n",
       "      <th>Fine Aggregate</th>\n",
       "      <th>Age</th>\n",
       "      <th>Strength</th>\n",
       "    </tr>\n",
       "  </thead>\n",
       "  <tbody>\n",
       "    <tr>\n",
       "      <td>count</td>\n",
       "      <td>1030.000000</td>\n",
       "      <td>1030.000000</td>\n",
       "      <td>1030.000000</td>\n",
       "      <td>1030.000000</td>\n",
       "      <td>1030.000000</td>\n",
       "      <td>1030.000000</td>\n",
       "      <td>1030.000000</td>\n",
       "      <td>1030.000000</td>\n",
       "      <td>1030.000000</td>\n",
       "    </tr>\n",
       "    <tr>\n",
       "      <td>mean</td>\n",
       "      <td>281.167864</td>\n",
       "      <td>73.895825</td>\n",
       "      <td>54.188350</td>\n",
       "      <td>181.567282</td>\n",
       "      <td>6.204660</td>\n",
       "      <td>972.918932</td>\n",
       "      <td>773.580485</td>\n",
       "      <td>45.662136</td>\n",
       "      <td>35.817961</td>\n",
       "    </tr>\n",
       "    <tr>\n",
       "      <td>std</td>\n",
       "      <td>104.506364</td>\n",
       "      <td>86.279342</td>\n",
       "      <td>63.997004</td>\n",
       "      <td>21.354219</td>\n",
       "      <td>5.973841</td>\n",
       "      <td>77.753954</td>\n",
       "      <td>80.175980</td>\n",
       "      <td>63.169912</td>\n",
       "      <td>16.705742</td>\n",
       "    </tr>\n",
       "    <tr>\n",
       "      <td>min</td>\n",
       "      <td>102.000000</td>\n",
       "      <td>0.000000</td>\n",
       "      <td>0.000000</td>\n",
       "      <td>121.800000</td>\n",
       "      <td>0.000000</td>\n",
       "      <td>801.000000</td>\n",
       "      <td>594.000000</td>\n",
       "      <td>1.000000</td>\n",
       "      <td>2.330000</td>\n",
       "    </tr>\n",
       "    <tr>\n",
       "      <td>25%</td>\n",
       "      <td>192.375000</td>\n",
       "      <td>0.000000</td>\n",
       "      <td>0.000000</td>\n",
       "      <td>164.900000</td>\n",
       "      <td>0.000000</td>\n",
       "      <td>932.000000</td>\n",
       "      <td>730.950000</td>\n",
       "      <td>7.000000</td>\n",
       "      <td>23.710000</td>\n",
       "    </tr>\n",
       "    <tr>\n",
       "      <td>50%</td>\n",
       "      <td>272.900000</td>\n",
       "      <td>22.000000</td>\n",
       "      <td>0.000000</td>\n",
       "      <td>185.000000</td>\n",
       "      <td>6.400000</td>\n",
       "      <td>968.000000</td>\n",
       "      <td>779.500000</td>\n",
       "      <td>28.000000</td>\n",
       "      <td>34.445000</td>\n",
       "    </tr>\n",
       "    <tr>\n",
       "      <td>75%</td>\n",
       "      <td>350.000000</td>\n",
       "      <td>142.950000</td>\n",
       "      <td>118.300000</td>\n",
       "      <td>192.000000</td>\n",
       "      <td>10.200000</td>\n",
       "      <td>1029.400000</td>\n",
       "      <td>824.000000</td>\n",
       "      <td>56.000000</td>\n",
       "      <td>46.135000</td>\n",
       "    </tr>\n",
       "    <tr>\n",
       "      <td>max</td>\n",
       "      <td>540.000000</td>\n",
       "      <td>359.400000</td>\n",
       "      <td>200.100000</td>\n",
       "      <td>247.000000</td>\n",
       "      <td>32.200000</td>\n",
       "      <td>1145.000000</td>\n",
       "      <td>992.600000</td>\n",
       "      <td>365.000000</td>\n",
       "      <td>82.600000</td>\n",
       "    </tr>\n",
       "  </tbody>\n",
       "</table>\n",
       "</div>"
      ],
      "text/plain": [
       "            Cement  Blast Furnace Slag      Fly Ash        Water  \\\n",
       "count  1030.000000         1030.000000  1030.000000  1030.000000   \n",
       "mean    281.167864           73.895825    54.188350   181.567282   \n",
       "std     104.506364           86.279342    63.997004    21.354219   \n",
       "min     102.000000            0.000000     0.000000   121.800000   \n",
       "25%     192.375000            0.000000     0.000000   164.900000   \n",
       "50%     272.900000           22.000000     0.000000   185.000000   \n",
       "75%     350.000000          142.950000   118.300000   192.000000   \n",
       "max     540.000000          359.400000   200.100000   247.000000   \n",
       "\n",
       "       Superplasticizer  Coarse Aggregate  Fine Aggregate          Age  \\\n",
       "count       1030.000000       1030.000000     1030.000000  1030.000000   \n",
       "mean           6.204660        972.918932      773.580485    45.662136   \n",
       "std            5.973841         77.753954       80.175980    63.169912   \n",
       "min            0.000000        801.000000      594.000000     1.000000   \n",
       "25%            0.000000        932.000000      730.950000     7.000000   \n",
       "50%            6.400000        968.000000      779.500000    28.000000   \n",
       "75%           10.200000       1029.400000      824.000000    56.000000   \n",
       "max           32.200000       1145.000000      992.600000   365.000000   \n",
       "\n",
       "          Strength  \n",
       "count  1030.000000  \n",
       "mean     35.817961  \n",
       "std      16.705742  \n",
       "min       2.330000  \n",
       "25%      23.710000  \n",
       "50%      34.445000  \n",
       "75%      46.135000  \n",
       "max      82.600000  "
      ]
     },
     "execution_count": 4,
     "metadata": {},
     "output_type": "execute_result"
    }
   ],
   "source": [
    "concrete_data.describe()"
   ]
  },
  {
   "cell_type": "code",
   "execution_count": 5,
   "metadata": {
    "button": false,
    "new_sheet": false,
    "run_control": {
     "read_only": false
    }
   },
   "outputs": [
    {
     "data": {
      "text/plain": [
       "Cement                0\n",
       "Blast Furnace Slag    0\n",
       "Fly Ash               0\n",
       "Water                 0\n",
       "Superplasticizer      0\n",
       "Coarse Aggregate      0\n",
       "Fine Aggregate        0\n",
       "Age                   0\n",
       "Strength              0\n",
       "dtype: int64"
      ]
     },
     "execution_count": 5,
     "metadata": {},
     "output_type": "execute_result"
    }
   ],
   "source": [
    "concrete_data.isnull().sum()"
   ]
  },
  {
   "cell_type": "markdown",
   "metadata": {
    "button": false,
    "new_sheet": false,
    "run_control": {
     "read_only": false
    }
   },
   "source": [
    "The data looks very clean and is ready to be used to build our model."
   ]
  },
  {
   "cell_type": "markdown",
   "metadata": {
    "button": false,
    "new_sheet": false,
    "run_control": {
     "read_only": false
    }
   },
   "source": [
    "#### Split data into predictors and target"
   ]
  },
  {
   "cell_type": "markdown",
   "metadata": {},
   "source": [
    "The target variable in this problem is the concrete sample strength. Therefore, our predictors will be all the other columns."
   ]
  },
  {
   "cell_type": "code",
   "execution_count": 6,
   "metadata": {
    "button": false,
    "new_sheet": false,
    "run_control": {
     "read_only": false
    }
   },
   "outputs": [],
   "source": [
    "concrete_data_columns = concrete_data.columns\n",
    "\n",
    "predictors = concrete_data[concrete_data_columns[concrete_data_columns != 'Strength']] # all columns except Strength\n",
    "target = concrete_data['Strength'] # Strength column"
   ]
  },
  {
   "cell_type": "markdown",
   "metadata": {
    "button": false,
    "new_sheet": false,
    "run_control": {
     "read_only": false
    }
   },
   "source": [
    "<a id=\"item2\"></a>"
   ]
  },
  {
   "cell_type": "markdown",
   "metadata": {
    "button": false,
    "new_sheet": false,
    "run_control": {
     "read_only": false
    }
   },
   "source": [
    "Let's do a quick sanity check of the predictors and the target dataframes."
   ]
  },
  {
   "cell_type": "code",
   "execution_count": 7,
   "metadata": {
    "button": false,
    "new_sheet": false,
    "run_control": {
     "read_only": false
    }
   },
   "outputs": [
    {
     "data": {
      "text/html": [
       "<div>\n",
       "<style scoped>\n",
       "    .dataframe tbody tr th:only-of-type {\n",
       "        vertical-align: middle;\n",
       "    }\n",
       "\n",
       "    .dataframe tbody tr th {\n",
       "        vertical-align: top;\n",
       "    }\n",
       "\n",
       "    .dataframe thead th {\n",
       "        text-align: right;\n",
       "    }\n",
       "</style>\n",
       "<table border=\"1\" class=\"dataframe\">\n",
       "  <thead>\n",
       "    <tr style=\"text-align: right;\">\n",
       "      <th></th>\n",
       "      <th>Cement</th>\n",
       "      <th>Blast Furnace Slag</th>\n",
       "      <th>Fly Ash</th>\n",
       "      <th>Water</th>\n",
       "      <th>Superplasticizer</th>\n",
       "      <th>Coarse Aggregate</th>\n",
       "      <th>Fine Aggregate</th>\n",
       "      <th>Age</th>\n",
       "    </tr>\n",
       "  </thead>\n",
       "  <tbody>\n",
       "    <tr>\n",
       "      <td>0</td>\n",
       "      <td>540.0</td>\n",
       "      <td>0.0</td>\n",
       "      <td>0.0</td>\n",
       "      <td>162.0</td>\n",
       "      <td>2.5</td>\n",
       "      <td>1040.0</td>\n",
       "      <td>676.0</td>\n",
       "      <td>28</td>\n",
       "    </tr>\n",
       "    <tr>\n",
       "      <td>1</td>\n",
       "      <td>540.0</td>\n",
       "      <td>0.0</td>\n",
       "      <td>0.0</td>\n",
       "      <td>162.0</td>\n",
       "      <td>2.5</td>\n",
       "      <td>1055.0</td>\n",
       "      <td>676.0</td>\n",
       "      <td>28</td>\n",
       "    </tr>\n",
       "    <tr>\n",
       "      <td>2</td>\n",
       "      <td>332.5</td>\n",
       "      <td>142.5</td>\n",
       "      <td>0.0</td>\n",
       "      <td>228.0</td>\n",
       "      <td>0.0</td>\n",
       "      <td>932.0</td>\n",
       "      <td>594.0</td>\n",
       "      <td>270</td>\n",
       "    </tr>\n",
       "    <tr>\n",
       "      <td>3</td>\n",
       "      <td>332.5</td>\n",
       "      <td>142.5</td>\n",
       "      <td>0.0</td>\n",
       "      <td>228.0</td>\n",
       "      <td>0.0</td>\n",
       "      <td>932.0</td>\n",
       "      <td>594.0</td>\n",
       "      <td>365</td>\n",
       "    </tr>\n",
       "    <tr>\n",
       "      <td>4</td>\n",
       "      <td>198.6</td>\n",
       "      <td>132.4</td>\n",
       "      <td>0.0</td>\n",
       "      <td>192.0</td>\n",
       "      <td>0.0</td>\n",
       "      <td>978.4</td>\n",
       "      <td>825.5</td>\n",
       "      <td>360</td>\n",
       "    </tr>\n",
       "  </tbody>\n",
       "</table>\n",
       "</div>"
      ],
      "text/plain": [
       "   Cement  Blast Furnace Slag  Fly Ash  Water  Superplasticizer  \\\n",
       "0   540.0                 0.0      0.0  162.0               2.5   \n",
       "1   540.0                 0.0      0.0  162.0               2.5   \n",
       "2   332.5               142.5      0.0  228.0               0.0   \n",
       "3   332.5               142.5      0.0  228.0               0.0   \n",
       "4   198.6               132.4      0.0  192.0               0.0   \n",
       "\n",
       "   Coarse Aggregate  Fine Aggregate  Age  \n",
       "0            1040.0           676.0   28  \n",
       "1            1055.0           676.0   28  \n",
       "2             932.0           594.0  270  \n",
       "3             932.0           594.0  365  \n",
       "4             978.4           825.5  360  "
      ]
     },
     "execution_count": 7,
     "metadata": {},
     "output_type": "execute_result"
    }
   ],
   "source": [
    "predictors.head()"
   ]
  },
  {
   "cell_type": "code",
   "execution_count": 8,
   "metadata": {
    "button": false,
    "new_sheet": false,
    "run_control": {
     "read_only": false
    }
   },
   "outputs": [
    {
     "data": {
      "text/plain": [
       "0    79.99\n",
       "1    61.89\n",
       "2    40.27\n",
       "3    41.05\n",
       "4    44.30\n",
       "Name: Strength, dtype: float64"
      ]
     },
     "execution_count": 8,
     "metadata": {},
     "output_type": "execute_result"
    }
   ],
   "source": [
    "target.head()"
   ]
  },
  {
   "cell_type": "markdown",
   "metadata": {},
   "source": [
    "### Normalization of data"
   ]
  },
  {
   "cell_type": "markdown",
   "metadata": {
    "button": false,
    "new_sheet": false,
    "run_control": {
     "read_only": false
    }
   },
   "source": [
    "Finally, the last step is to normalize the data by substracting the mean and dividing by the standard deviation."
   ]
  },
  {
   "cell_type": "code",
   "execution_count": 9,
   "metadata": {
    "button": false,
    "new_sheet": false,
    "run_control": {
     "read_only": false
    }
   },
   "outputs": [
    {
     "data": {
      "text/html": [
       "<div>\n",
       "<style scoped>\n",
       "    .dataframe tbody tr th:only-of-type {\n",
       "        vertical-align: middle;\n",
       "    }\n",
       "\n",
       "    .dataframe tbody tr th {\n",
       "        vertical-align: top;\n",
       "    }\n",
       "\n",
       "    .dataframe thead th {\n",
       "        text-align: right;\n",
       "    }\n",
       "</style>\n",
       "<table border=\"1\" class=\"dataframe\">\n",
       "  <thead>\n",
       "    <tr style=\"text-align: right;\">\n",
       "      <th></th>\n",
       "      <th>Cement</th>\n",
       "      <th>Blast Furnace Slag</th>\n",
       "      <th>Fly Ash</th>\n",
       "      <th>Water</th>\n",
       "      <th>Superplasticizer</th>\n",
       "      <th>Coarse Aggregate</th>\n",
       "      <th>Fine Aggregate</th>\n",
       "      <th>Age</th>\n",
       "    </tr>\n",
       "  </thead>\n",
       "  <tbody>\n",
       "    <tr>\n",
       "      <td>0</td>\n",
       "      <td>2.476712</td>\n",
       "      <td>-0.856472</td>\n",
       "      <td>-0.846733</td>\n",
       "      <td>-0.916319</td>\n",
       "      <td>-0.620147</td>\n",
       "      <td>0.862735</td>\n",
       "      <td>-1.217079</td>\n",
       "      <td>-0.279597</td>\n",
       "    </tr>\n",
       "    <tr>\n",
       "      <td>1</td>\n",
       "      <td>2.476712</td>\n",
       "      <td>-0.856472</td>\n",
       "      <td>-0.846733</td>\n",
       "      <td>-0.916319</td>\n",
       "      <td>-0.620147</td>\n",
       "      <td>1.055651</td>\n",
       "      <td>-1.217079</td>\n",
       "      <td>-0.279597</td>\n",
       "    </tr>\n",
       "    <tr>\n",
       "      <td>2</td>\n",
       "      <td>0.491187</td>\n",
       "      <td>0.795140</td>\n",
       "      <td>-0.846733</td>\n",
       "      <td>2.174405</td>\n",
       "      <td>-1.038638</td>\n",
       "      <td>-0.526262</td>\n",
       "      <td>-2.239829</td>\n",
       "      <td>3.551340</td>\n",
       "    </tr>\n",
       "    <tr>\n",
       "      <td>3</td>\n",
       "      <td>0.491187</td>\n",
       "      <td>0.795140</td>\n",
       "      <td>-0.846733</td>\n",
       "      <td>2.174405</td>\n",
       "      <td>-1.038638</td>\n",
       "      <td>-0.526262</td>\n",
       "      <td>-2.239829</td>\n",
       "      <td>5.055221</td>\n",
       "    </tr>\n",
       "    <tr>\n",
       "      <td>4</td>\n",
       "      <td>-0.790075</td>\n",
       "      <td>0.678079</td>\n",
       "      <td>-0.846733</td>\n",
       "      <td>0.488555</td>\n",
       "      <td>-1.038638</td>\n",
       "      <td>0.070492</td>\n",
       "      <td>0.647569</td>\n",
       "      <td>4.976069</td>\n",
       "    </tr>\n",
       "  </tbody>\n",
       "</table>\n",
       "</div>"
      ],
      "text/plain": [
       "     Cement  Blast Furnace Slag   Fly Ash     Water  Superplasticizer  \\\n",
       "0  2.476712           -0.856472 -0.846733 -0.916319         -0.620147   \n",
       "1  2.476712           -0.856472 -0.846733 -0.916319         -0.620147   \n",
       "2  0.491187            0.795140 -0.846733  2.174405         -1.038638   \n",
       "3  0.491187            0.795140 -0.846733  2.174405         -1.038638   \n",
       "4 -0.790075            0.678079 -0.846733  0.488555         -1.038638   \n",
       "\n",
       "   Coarse Aggregate  Fine Aggregate       Age  \n",
       "0          0.862735       -1.217079 -0.279597  \n",
       "1          1.055651       -1.217079 -0.279597  \n",
       "2         -0.526262       -2.239829  3.551340  \n",
       "3         -0.526262       -2.239829  5.055221  \n",
       "4          0.070492        0.647569  4.976069  "
      ]
     },
     "execution_count": 9,
     "metadata": {},
     "output_type": "execute_result"
    }
   ],
   "source": [
    "predictors_norm = (predictors - predictors.mean()) / predictors.std()\n",
    "predictors_norm.head()"
   ]
  },
  {
   "cell_type": "markdown",
   "metadata": {},
   "source": [
    "Let's save the number of predictors to *n_cols* since we will need this number when building our network."
   ]
  },
  {
   "cell_type": "code",
   "execution_count": 10,
   "metadata": {
    "button": false,
    "new_sheet": false,
    "run_control": {
     "read_only": false
    }
   },
   "outputs": [
    {
     "name": "stdout",
     "output_type": "stream",
     "text": [
      "8\n"
     ]
    }
   ],
   "source": [
    "n_cols = predictors_norm.shape[1] # number of predictors\n",
    "print(n_cols)"
   ]
  },
  {
   "cell_type": "markdown",
   "metadata": {},
   "source": [
    "### Split the data into training and testing sets"
   ]
  },
  {
   "cell_type": "markdown",
   "metadata": {},
   "source": [
    "let's import `train_test_split` from the `sklearn`"
   ]
  },
  {
   "cell_type": "code",
   "execution_count": 11,
   "metadata": {},
   "outputs": [],
   "source": [
    "from sklearn.model_selection import train_test_split\n",
    "X_train, X_test, y_train, y_test = train_test_split(predictors_norm, target, test_size=0.30, random_state=42)"
   ]
  },
  {
   "cell_type": "markdown",
   "metadata": {
    "button": false,
    "new_sheet": false,
    "run_control": {
     "read_only": false
    }
   },
   "source": [
    "<a id=\"item1\"></a>"
   ]
  },
  {
   "cell_type": "markdown",
   "metadata": {},
   "source": [
    "<a id='item32'></a>"
   ]
  },
  {
   "cell_type": "markdown",
   "metadata": {
    "button": false,
    "new_sheet": false,
    "run_control": {
     "read_only": false
    }
   },
   "source": [
    "## Import Keras"
   ]
  },
  {
   "cell_type": "markdown",
   "metadata": {
    "button": false,
    "new_sheet": false,
    "run_control": {
     "read_only": false
    }
   },
   "source": [
    "Recall from the videos that Keras normally runs on top of a low-level library such as TensorFlow. This means that to be able to use the Keras library, you will have to install TensorFlow first and when you import the Keras library, it will be explicitly displayed what backend was used to install the Keras library. In CC Labs, we used TensorFlow as the backend to install Keras, so it should clearly print that when we import Keras."
   ]
  },
  {
   "cell_type": "markdown",
   "metadata": {
    "button": false,
    "new_sheet": false,
    "run_control": {
     "read_only": false
    }
   },
   "source": [
    "#### Let's go ahead and import the Keras library"
   ]
  },
  {
   "cell_type": "code",
   "execution_count": 12,
   "metadata": {
    "button": false,
    "new_sheet": false,
    "run_control": {
     "read_only": false
    }
   },
   "outputs": [
    {
     "name": "stderr",
     "output_type": "stream",
     "text": [
      "Using TensorFlow backend.\n"
     ]
    }
   ],
   "source": [
    "import keras"
   ]
  },
  {
   "cell_type": "markdown",
   "metadata": {
    "button": false,
    "new_sheet": false,
    "run_control": {
     "read_only": false
    }
   },
   "source": [
    "As you can see, the TensorFlow backend was used to install the Keras library."
   ]
  },
  {
   "cell_type": "markdown",
   "metadata": {
    "button": false,
    "new_sheet": false,
    "run_control": {
     "read_only": false
    }
   },
   "source": [
    "Let's import the rest of the packages from the Keras library that we will need to build our regressoin model."
   ]
  },
  {
   "cell_type": "code",
   "execution_count": 13,
   "metadata": {
    "button": false,
    "new_sheet": false,
    "run_control": {
     "read_only": false
    }
   },
   "outputs": [],
   "source": [
    "from keras.models import Sequential\n",
    "from keras.layers import Dense"
   ]
  },
  {
   "cell_type": "markdown",
   "metadata": {},
   "source": [
    "<a id='item33'></a>"
   ]
  },
  {
   "cell_type": "markdown",
   "metadata": {
    "button": false,
    "new_sheet": false,
    "run_control": {
     "read_only": false
    }
   },
   "source": [
    "## Build a Neural Network"
   ]
  },
  {
   "cell_type": "markdown",
   "metadata": {
    "button": false,
    "new_sheet": false,
    "run_control": {
     "read_only": false
    }
   },
   "source": [
    "Let's define a function that defines our regression model for us so that we can conveniently call it to create our model."
   ]
  },
  {
   "cell_type": "code",
   "execution_count": 14,
   "metadata": {
    "button": false,
    "new_sheet": false,
    "run_control": {
     "read_only": false
    }
   },
   "outputs": [],
   "source": [
    "# define regression model\n",
    "def regression_model():\n",
    "    # create model\n",
    "    model = Sequential()\n",
    "    model.add(Dense(10, activation='relu', input_shape=(n_cols,)))\n",
    "    model.add(Dense(10, activation='relu'))\n",
    "    model.add(Dense(10, activation='relu'))\n",
    "    model.add(Dense(1))\n",
    "    \n",
    "    # compile model\n",
    "    model.compile(optimizer='adam', loss='mean_squared_error')\n",
    "    return model"
   ]
  },
  {
   "cell_type": "markdown",
   "metadata": {},
   "source": [
    "The above function create a model that has three hidden layers, each of 10 hidden units."
   ]
  },
  {
   "cell_type": "markdown",
   "metadata": {
    "button": false,
    "new_sheet": false,
    "run_control": {
     "read_only": false
    }
   },
   "source": [
    "<a id=\"item4\"></a>"
   ]
  },
  {
   "cell_type": "markdown",
   "metadata": {},
   "source": [
    "<a id='item34'></a>"
   ]
  },
  {
   "cell_type": "markdown",
   "metadata": {
    "button": false,
    "new_sheet": false,
    "run_control": {
     "read_only": false
    }
   },
   "source": [
    "## Train and Test the Network"
   ]
  },
  {
   "cell_type": "markdown",
   "metadata": {},
   "source": [
    "Let's call the function now to create our model."
   ]
  },
  {
   "cell_type": "code",
   "execution_count": 15,
   "metadata": {
    "button": false,
    "new_sheet": false,
    "run_control": {
     "read_only": false
    }
   },
   "outputs": [],
   "source": [
    "# build the model\n",
    "model = regression_model()"
   ]
  },
  {
   "cell_type": "markdown",
   "metadata": {},
   "source": [
    "Next, we will train and test the model at the same time using the *fit* method. We will leave out 30% of the data for validation and we will train the model for 100 epochs."
   ]
  },
  {
   "cell_type": "code",
   "execution_count": 16,
   "metadata": {},
   "outputs": [
    {
     "name": "stdout",
     "output_type": "stream",
     "text": [
      "Train on 721 samples, validate on 309 samples\n",
      "Epoch 1/50\n",
      " - 1s - loss: 1668.1176 - val_loss: 1195.0188\n",
      "Epoch 2/50\n",
      " - 0s - loss: 1636.1871 - val_loss: 1159.8586\n",
      "Epoch 3/50\n",
      " - 0s - loss: 1584.3494 - val_loss: 1099.8286\n",
      "Epoch 4/50\n",
      " - 0s - loss: 1499.3044 - val_loss: 1007.0664\n",
      "Epoch 5/50\n",
      " - 0s - loss: 1369.5083 - val_loss: 866.6372\n",
      "Epoch 6/50\n",
      " - 0s - loss: 1176.4759 - val_loss: 684.0180\n",
      "Epoch 7/50\n",
      " - 0s - loss: 938.1720 - val_loss: 488.6310\n",
      "Epoch 8/50\n",
      " - 0s - loss: 690.8218 - val_loss: 328.6202\n",
      "Epoch 9/50\n",
      " - 0s - loss: 494.1730 - val_loss: 240.3371\n",
      "Epoch 10/50\n",
      " - 0s - loss: 383.5754 - val_loss: 204.4718\n",
      "Epoch 11/50\n",
      " - 0s - loss: 331.5479 - val_loss: 190.2490\n",
      "Epoch 12/50\n",
      " - 0s - loss: 298.7475 - val_loss: 185.9808\n",
      "Epoch 13/50\n",
      " - 0s - loss: 275.9404 - val_loss: 179.3193\n",
      "Epoch 14/50\n",
      " - 0s - loss: 259.0850 - val_loss: 176.3881\n",
      "Epoch 15/50\n",
      " - 0s - loss: 244.8036 - val_loss: 171.5628\n",
      "Epoch 16/50\n",
      " - 0s - loss: 233.7600 - val_loss: 168.8559\n",
      "Epoch 17/50\n",
      " - 0s - loss: 225.3934 - val_loss: 165.4893\n",
      "Epoch 18/50\n",
      " - 0s - loss: 216.7573 - val_loss: 160.9025\n",
      "Epoch 19/50\n",
      " - 0s - loss: 209.8778 - val_loss: 157.8029\n",
      "Epoch 20/50\n",
      " - 0s - loss: 203.7052 - val_loss: 153.6579\n",
      "Epoch 21/50\n",
      " - 0s - loss: 198.4277 - val_loss: 150.5200\n",
      "Epoch 22/50\n",
      " - 0s - loss: 192.9729 - val_loss: 146.2473\n",
      "Epoch 23/50\n",
      " - 0s - loss: 188.1115 - val_loss: 143.2289\n",
      "Epoch 24/50\n",
      " - 0s - loss: 183.7663 - val_loss: 140.1979\n",
      "Epoch 25/50\n",
      " - 0s - loss: 180.2364 - val_loss: 138.2573\n",
      "Epoch 26/50\n",
      " - 0s - loss: 176.6995 - val_loss: 134.9727\n",
      "Epoch 27/50\n",
      " - 0s - loss: 173.3385 - val_loss: 132.1360\n",
      "Epoch 28/50\n",
      " - 0s - loss: 170.1307 - val_loss: 130.0736\n",
      "Epoch 29/50\n",
      " - 0s - loss: 167.6276 - val_loss: 128.8392\n",
      "Epoch 30/50\n",
      " - 0s - loss: 164.8739 - val_loss: 125.9617\n",
      "Epoch 31/50\n",
      " - 0s - loss: 162.4161 - val_loss: 124.0937\n",
      "Epoch 32/50\n",
      " - 0s - loss: 160.2721 - val_loss: 123.1304\n",
      "Epoch 33/50\n",
      " - 0s - loss: 158.6604 - val_loss: 120.9145\n",
      "Epoch 34/50\n",
      " - 0s - loss: 155.9314 - val_loss: 117.9996\n",
      "Epoch 35/50\n",
      " - 0s - loss: 154.1949 - val_loss: 117.0334\n",
      "Epoch 36/50\n",
      " - 0s - loss: 152.3808 - val_loss: 116.6830\n",
      "Epoch 37/50\n",
      " - 0s - loss: 150.0168 - val_loss: 114.5279\n",
      "Epoch 38/50\n",
      " - 0s - loss: 148.4342 - val_loss: 113.8951\n",
      "Epoch 39/50\n",
      " - 0s - loss: 146.9342 - val_loss: 111.6735\n",
      "Epoch 40/50\n",
      " - 0s - loss: 145.0720 - val_loss: 111.2288\n",
      "Epoch 41/50\n",
      " - 0s - loss: 143.5078 - val_loss: 110.2734\n",
      "Epoch 42/50\n",
      " - 0s - loss: 142.0420 - val_loss: 109.7332\n",
      "Epoch 43/50\n",
      " - 0s - loss: 140.3281 - val_loss: 108.1003\n",
      "Epoch 44/50\n",
      " - 0s - loss: 138.7265 - val_loss: 107.7639\n",
      "Epoch 45/50\n",
      " - 0s - loss: 137.2732 - val_loss: 105.3941\n",
      "Epoch 46/50\n",
      " - 0s - loss: 136.3406 - val_loss: 105.4784\n",
      "Epoch 47/50\n",
      " - 0s - loss: 134.2563 - val_loss: 104.5508\n",
      "Epoch 48/50\n",
      " - 0s - loss: 132.9707 - val_loss: 103.6522\n",
      "Epoch 49/50\n",
      " - 0s - loss: 132.8160 - val_loss: 103.5551\n",
      "Epoch 50/50\n",
      " - 0s - loss: 130.2366 - val_loss: 101.8824\n"
     ]
    },
    {
     "data": {
      "text/plain": [
       "<keras.callbacks.callbacks.History at 0x1b35140e2c8>"
      ]
     },
     "execution_count": 16,
     "metadata": {},
     "output_type": "execute_result"
    }
   ],
   "source": [
    "# fit the model\n",
    "model.fit(predictors_norm, target, validation_split=0.3, epochs=50, verbose=2)"
   ]
  },
  {
   "cell_type": "code",
   "execution_count": 17,
   "metadata": {},
   "outputs": [
    {
     "name": "stdout",
     "output_type": "stream",
     "text": [
      "309/309 [==============================] - 0s 36us/step\n"
     ]
    },
    {
     "data": {
      "text/plain": [
       "115.33065494673151"
      ]
     },
     "execution_count": 17,
     "metadata": {},
     "output_type": "execute_result"
    }
   ],
   "source": [
    "model.evaluate(X_test,y_test, verbose=1)"
   ]
  },
  {
   "cell_type": "markdown",
   "metadata": {},
   "source": [
    "   Now we need to compute the mean squared error between the predicted concrete strength and the actual concrete strength."
   ]
  },
  {
   "cell_type": "markdown",
   "metadata": {},
   "source": [
    "   Let's import the mean_squared_error function from Scikit-learn."
   ]
  },
  {
   "cell_type": "code",
   "execution_count": 18,
   "metadata": {},
   "outputs": [],
   "source": [
    "from sklearn.metrics import mean_squared_error"
   ]
  },
  {
   "cell_type": "code",
   "execution_count": 19,
   "metadata": {},
   "outputs": [],
   "source": [
    "y_pred = model.predict(X_test)"
   ]
  },
  {
   "cell_type": "code",
   "execution_count": 20,
   "metadata": {},
   "outputs": [
    {
     "data": {
      "text/plain": [
       "array([[54.90538  ],\n",
       "       [49.014217 ],\n",
       "       [67.30542  ],\n",
       "       [48.580784 ],\n",
       "       [31.246977 ],\n",
       "       [35.47047  ],\n",
       "       [24.062439 ],\n",
       "       [50.31472  ],\n",
       "       [29.834429 ],\n",
       "       [31.946722 ],\n",
       "       [23.09238  ],\n",
       "       [23.402786 ],\n",
       "       [69.096535 ],\n",
       "       [48.75457  ],\n",
       "       [30.38541  ],\n",
       "       [39.19153  ],\n",
       "       [29.809925 ],\n",
       "       [23.869684 ],\n",
       "       [27.530308 ],\n",
       "       [29.09488  ],\n",
       "       [31.376404 ],\n",
       "       [35.737045 ],\n",
       "       [34.43791  ],\n",
       "       [24.59634  ],\n",
       "       [31.745306 ],\n",
       "       [33.46974  ],\n",
       "       [16.64486  ],\n",
       "       [39.182674 ],\n",
       "       [48.342976 ],\n",
       "       [21.299839 ],\n",
       "       [39.45981  ],\n",
       "       [28.250652 ],\n",
       "       [41.22976  ],\n",
       "       [54.10766  ],\n",
       "       [27.492577 ],\n",
       "       [35.566097 ],\n",
       "       [29.386143 ],\n",
       "       [32.414658 ],\n",
       "       [19.891844 ],\n",
       "       [36.92704  ],\n",
       "       [20.123266 ],\n",
       "       [20.381027 ],\n",
       "       [24.175024 ],\n",
       "       [47.26065  ],\n",
       "       [21.947807 ],\n",
       "       [52.854725 ],\n",
       "       [52.525394 ],\n",
       "       [55.382347 ],\n",
       "       [18.949333 ],\n",
       "       [19.510757 ],\n",
       "       [37.514366 ],\n",
       "       [29.521826 ],\n",
       "       [38.196392 ],\n",
       "       [30.521542 ],\n",
       "       [45.514305 ],\n",
       "       [46.696648 ],\n",
       "       [28.441559 ],\n",
       "       [19.30611  ],\n",
       "       [35.02303  ],\n",
       "       [20.23027  ],\n",
       "       [32.101543 ],\n",
       "       [25.217413 ],\n",
       "       [33.706757 ],\n",
       "       [55.485485 ],\n",
       "       [19.834728 ],\n",
       "       [28.608696 ],\n",
       "       [31.808575 ],\n",
       "       [19.027462 ],\n",
       "       [25.773235 ],\n",
       "       [24.42567  ],\n",
       "       [19.308023 ],\n",
       "       [17.883533 ],\n",
       "       [15.224794 ],\n",
       "       [23.021126 ],\n",
       "       [23.767336 ],\n",
       "       [20.384666 ],\n",
       "       [55.433144 ],\n",
       "       [50.79493  ],\n",
       "       [51.494938 ],\n",
       "       [19.322927 ],\n",
       "       [38.00921  ],\n",
       "       [43.00966  ],\n",
       "       [26.161854 ],\n",
       "       [26.433178 ],\n",
       "       [61.951767 ],\n",
       "       [48.580784 ],\n",
       "       [33.48703  ],\n",
       "       [27.45735  ],\n",
       "       [27.397423 ],\n",
       "       [22.87586  ],\n",
       "       [25.981464 ],\n",
       "       [57.339283 ],\n",
       "       [30.020393 ],\n",
       "       [42.977623 ],\n",
       "       [33.685253 ],\n",
       "       [46.895233 ],\n",
       "       [31.928759 ],\n",
       "       [23.15442  ],\n",
       "       [27.641594 ],\n",
       "       [22.141272 ],\n",
       "       [30.22329  ],\n",
       "       [32.56301  ],\n",
       "       [43.010536 ],\n",
       "       [28.874758 ],\n",
       "       [78.89661  ],\n",
       "       [18.709469 ],\n",
       "       [41.207115 ],\n",
       "       [24.97523  ],\n",
       "       [38.757435 ],\n",
       "       [53.877243 ],\n",
       "       [58.515446 ],\n",
       "       [37.931057 ],\n",
       "       [33.767185 ],\n",
       "       [33.008083 ],\n",
       "       [44.532585 ],\n",
       "       [55.514755 ],\n",
       "       [21.998692 ],\n",
       "       [44.149384 ],\n",
       "       [48.47284  ],\n",
       "       [33.74881  ],\n",
       "       [28.923492 ],\n",
       "       [20.427551 ],\n",
       "       [44.142014 ],\n",
       "       [24.10274  ],\n",
       "       [32.18316  ],\n",
       "       [32.854454 ],\n",
       "       [56.714943 ],\n",
       "       [49.855694 ],\n",
       "       [30.242908 ],\n",
       "       [29.417315 ],\n",
       "       [19.1745   ],\n",
       "       [31.954832 ],\n",
       "       [18.256613 ],\n",
       "       [56.14362  ],\n",
       "       [19.553585 ],\n",
       "       [50.8164   ],\n",
       "       [21.808636 ],\n",
       "       [36.93489  ],\n",
       "       [28.056864 ],\n",
       "       [38.885628 ],\n",
       "       [32.829678 ],\n",
       "       [36.304474 ],\n",
       "       [29.66143  ],\n",
       "       [20.726776 ],\n",
       "       [40.476578 ],\n",
       "       [29.521906 ],\n",
       "       [31.04968  ],\n",
       "       [21.775017 ],\n",
       "       [19.80651  ],\n",
       "       [20.673166 ],\n",
       "       [33.766598 ],\n",
       "       [34.077953 ],\n",
       "       [42.617905 ],\n",
       "       [31.654882 ],\n",
       "       [44.56047  ],\n",
       "       [32.374718 ],\n",
       "       [28.254902 ],\n",
       "       [77.84053  ],\n",
       "       [49.014217 ],\n",
       "       [37.549194 ],\n",
       "       [15.8495655],\n",
       "       [57.89075  ],\n",
       "       [29.004387 ],\n",
       "       [46.472557 ],\n",
       "       [49.644455 ],\n",
       "       [52.729458 ],\n",
       "       [41.645382 ],\n",
       "       [24.527206 ],\n",
       "       [46.589085 ],\n",
       "       [36.248585 ],\n",
       "       [36.37316  ],\n",
       "       [22.379467 ],\n",
       "       [22.610771 ],\n",
       "       [38.836952 ],\n",
       "       [43.147877 ],\n",
       "       [21.24875  ],\n",
       "       [17.789337 ],\n",
       "       [44.33422  ],\n",
       "       [37.7642   ],\n",
       "       [35.234344 ],\n",
       "       [36.62399  ],\n",
       "       [23.935139 ],\n",
       "       [53.69857  ],\n",
       "       [34.591778 ],\n",
       "       [43.542778 ],\n",
       "       [45.417023 ],\n",
       "       [22.191296 ],\n",
       "       [36.132412 ],\n",
       "       [41.078445 ],\n",
       "       [17.985283 ],\n",
       "       [41.94877  ],\n",
       "       [39.94857  ],\n",
       "       [43.20066  ],\n",
       "       [47.861652 ],\n",
       "       [47.853382 ],\n",
       "       [31.057482 ],\n",
       "       [47.616955 ],\n",
       "       [34.051186 ],\n",
       "       [24.628254 ],\n",
       "       [24.861282 ],\n",
       "       [34.737957 ],\n",
       "       [55.514755 ],\n",
       "       [21.619686 ],\n",
       "       [48.60063  ],\n",
       "       [54.667206 ],\n",
       "       [25.711782 ],\n",
       "       [34.564907 ],\n",
       "       [49.117912 ],\n",
       "       [32.87226  ],\n",
       "       [31.650143 ],\n",
       "       [31.058199 ],\n",
       "       [32.577526 ],\n",
       "       [31.737408 ],\n",
       "       [30.362757 ],\n",
       "       [25.383135 ],\n",
       "       [22.511875 ],\n",
       "       [25.212292 ],\n",
       "       [29.87445  ],\n",
       "       [22.45108  ],\n",
       "       [51.289764 ],\n",
       "       [38.349342 ],\n",
       "       [47.552994 ],\n",
       "       [48.045532 ],\n",
       "       [19.623549 ],\n",
       "       [39.07016  ],\n",
       "       [32.038136 ],\n",
       "       [26.70491  ],\n",
       "       [29.100517 ],\n",
       "       [31.157576 ],\n",
       "       [32.724426 ],\n",
       "       [20.86826  ],\n",
       "       [27.30989  ],\n",
       "       [30.565496 ],\n",
       "       [30.262194 ],\n",
       "       [30.936077 ],\n",
       "       [32.640884 ],\n",
       "       [42.798424 ],\n",
       "       [37.118862 ],\n",
       "       [34.406487 ],\n",
       "       [26.068748 ],\n",
       "       [34.31654  ],\n",
       "       [36.78841  ],\n",
       "       [71.01281  ],\n",
       "       [30.600594 ],\n",
       "       [63.59066  ],\n",
       "       [35.25866  ],\n",
       "       [61.391293 ],\n",
       "       [23.188402 ],\n",
       "       [45.94479  ],\n",
       "       [53.94525  ],\n",
       "       [25.736359 ],\n",
       "       [40.608406 ],\n",
       "       [36.767967 ],\n",
       "       [31.139187 ],\n",
       "       [39.6156   ],\n",
       "       [26.898876 ],\n",
       "       [23.02053  ],\n",
       "       [36.48654  ],\n",
       "       [30.75865  ],\n",
       "       [21.160044 ],\n",
       "       [22.43562  ],\n",
       "       [42.144424 ],\n",
       "       [22.575762 ],\n",
       "       [29.898531 ],\n",
       "       [22.407722 ],\n",
       "       [47.37717  ],\n",
       "       [47.725044 ],\n",
       "       [52.104874 ],\n",
       "       [52.46592  ],\n",
       "       [54.093483 ],\n",
       "       [27.34716  ],\n",
       "       [24.60925  ],\n",
       "       [40.761005 ],\n",
       "       [22.329062 ],\n",
       "       [32.495102 ],\n",
       "       [49.644455 ],\n",
       "       [48.32113  ],\n",
       "       [30.670095 ],\n",
       "       [47.40676  ],\n",
       "       [28.216797 ],\n",
       "       [24.879868 ],\n",
       "       [38.720818 ],\n",
       "       [19.762758 ],\n",
       "       [32.95862  ],\n",
       "       [23.339668 ],\n",
       "       [27.78923  ],\n",
       "       [31.555132 ],\n",
       "       [22.472385 ],\n",
       "       [49.4504   ],\n",
       "       [55.49746  ],\n",
       "       [34.477886 ],\n",
       "       [23.621494 ],\n",
       "       [31.228527 ],\n",
       "       [27.090836 ],\n",
       "       [25.83491  ],\n",
       "       [33.64357  ],\n",
       "       [22.525852 ],\n",
       "       [31.946333 ],\n",
       "       [27.21082  ],\n",
       "       [28.359467 ],\n",
       "       [32.08967  ],\n",
       "       [16.557127 ],\n",
       "       [51.110733 ],\n",
       "       [62.049095 ],\n",
       "       [23.562706 ],\n",
       "       [25.118528 ],\n",
       "       [29.865362 ],\n",
       "       [39.29783  ],\n",
       "       [41.51544  ]], dtype=float32)"
      ]
     },
     "execution_count": 20,
     "metadata": {},
     "output_type": "execute_result"
    }
   ],
   "source": [
    "y_pred"
   ]
  },
  {
   "cell_type": "code",
   "execution_count": 21,
   "metadata": {},
   "outputs": [
    {
     "name": "stdout",
     "output_type": "stream",
     "text": [
      "mse:  115.33065696564404\n"
     ]
    }
   ],
   "source": [
    "mse = mean_squared_error(y_test, y_pred)\n",
    "print('mse: ', mse)"
   ]
  },
  {
   "cell_type": "markdown",
   "metadata": {},
   "source": [
    "Let's create a list of 50 mean squared errors and report mean and the standard deviation of the mean squared errors."
   ]
  },
  {
   "cell_type": "code",
   "execution_count": 22,
   "metadata": {},
   "outputs": [
    {
     "name": "stdout",
     "output_type": "stream",
     "text": [
      "mse 1:  73.5371558673945\n",
      "mse 2:  52.414789884993176\n",
      "mse 3:  50.335600349895394\n",
      "mse 4:  38.27787804217786\n",
      "mse 5:  43.630825808133125\n",
      "mse 6:  40.128428314110224\n",
      "mse 7:  40.88536527318862\n",
      "mse 8:  35.51020978415282\n",
      "mse 9:  36.04054683697648\n",
      "mse 10:  31.621793802502086\n",
      "mse 11:  33.6104108507965\n",
      "mse 12:  33.27687330770647\n",
      "mse 13:  35.06964666866562\n",
      "mse 14:  39.7074046860235\n",
      "mse 15:  34.65724141389421\n",
      "mse 16:  26.10369811320382\n",
      "mse 17:  29.559300660315454\n",
      "mse 18:  33.48379878936076\n",
      "mse 19:  28.047822186861996\n",
      "mse 20:  31.738841917908307\n",
      "mse 21:  35.43041264432148\n",
      "mse 22:  30.27265977087916\n",
      "mse 23:  29.024348842287527\n",
      "mse 24:  34.56836822040644\n",
      "mse 25:  26.024196458094327\n",
      "mse 26:  29.00008157156046\n",
      "mse 27:  35.255320589133454\n",
      "mse 28:  27.347859256090082\n",
      "mse 29:  32.06199912654544\n",
      "mse 30:  25.175706635015295\n",
      "mse 31:  27.0077102006832\n",
      "mse 32:  31.474947339894317\n",
      "mse 33:  28.987984703582466\n",
      "mse 34:  26.355035318911654\n",
      "mse 35:  31.59087053317468\n",
      "mse 36:  24.586560795608076\n",
      "mse 37:  27.760332450125983\n",
      "mse 38:  30.001020413000607\n",
      "mse 39:  29.429049883845554\n",
      "mse 40:  26.513981643232327\n",
      "mse 41:  30.162148657740126\n",
      "mse 42:  26.980936105968883\n",
      "mse 43:  29.400282989427883\n",
      "mse 44:  34.84454803713703\n",
      "mse 45:  24.07200348492965\n",
      "mse 46:  26.423083203510174\n",
      "mse 47:  25.912973126161447\n",
      "mse 48:  27.851920840809647\n",
      "mse 49:  29.911968015158447\n",
      "mse 50:  28.576443490087023\n",
      "Mean :  32.792847370116995\n",
      "Standard Deviation :  8.337224925941959\n"
     ]
    }
   ],
   "source": [
    "n = 50\n",
    "epochs = 50\n",
    "mean_squared_errors = []\n",
    "for i in range(0, n):\n",
    "    X_train, X_test, y_train, y_test = train_test_split(predictors_norm, target, test_size=0.30)\n",
    "    model.fit(X_train, y_train, epochs=epochs, verbose=0)\n",
    "    mse = model.evaluate(X_test, y_test, verbose=0)\n",
    "    print(\"mse \" +str(i+1)+\": \", mse)\n",
    "    y_pred = model.predict(X_test)\n",
    "    mean_square_error = mean_squared_error(y_test, y_pred)\n",
    "    mean_squared_errors.append(mean_square_error)\n",
    "    \n",
    "mean_squared_errors = np.array(mean_squared_errors)\n",
    "mean = np.mean(mean_squared_errors)\n",
    "standard_deviation = np.std(mean_squared_errors)   \n",
    "\n",
    "print(\"Mean : \", mean)\n",
    "print(\"Standard Deviation : \", standard_deviation)"
   ]
  },
  {
   "cell_type": "code",
   "execution_count": 23,
   "metadata": {},
   "outputs": [
    {
     "name": "stdout",
     "output_type": "stream",
     "text": [
      "Below are the mean and standard deviation of 50 mean squared errors of normalized data for 50 epochs\n",
      "Mean :  32.792847370116995\n",
      "Standard Deviation :  8.337224925941959\n"
     ]
    }
   ],
   "source": [
    "print('Below are the mean and standard deviation of 50 mean squared errors of normalized data for 50 epochs')\n",
    "print(\"Mean : \", mean)\n",
    "print(\"Standard Deviation : \", standard_deviation)"
   ]
  },
  {
   "cell_type": "code",
   "execution_count": 24,
   "metadata": {},
   "outputs": [
    {
     "name": "stdout",
     "output_type": "stream",
     "text": [
      "mean squared errors:  [73.53715307 52.41478884 50.33560044 38.27787585 43.63082578 40.12842777\n",
      " 40.8853652  35.51020886 36.04054662 31.62179467 33.61041155 33.27687326\n",
      " 35.06964647 39.70740447 34.65724181 26.10369817 29.55930021 33.48379743\n",
      " 28.04782109 31.73884167 35.43041335 30.2726591  29.02435046 34.56836876\n",
      " 26.024197   29.00008141 35.25531972 27.34785834 32.06199821 25.17570633\n",
      " 27.00770903 31.47494786 28.98798308 26.35503334 31.59086932 24.58655989\n",
      " 27.76033246 30.00101984 29.42904888 26.51398168 30.16214728 26.98093639\n",
      " 29.40028322 34.84454746 24.07200343 26.42308395 25.91297253 27.85192072\n",
      " 29.91196857 28.57644369]\n"
     ]
    }
   ],
   "source": [
    "print('mean squared errors: ', mean_squared_errors)"
   ]
  },
  {
   "cell_type": "markdown",
   "metadata": {},
   "source": [
    "The `mean` of 50 mean squared errors in part D is 32 while it was 51 in part B for 50 epochs."
   ]
  }
 ],
 "metadata": {
  "kernelspec": {
   "display_name": "Python 3",
   "language": "python",
   "name": "python3"
  },
  "language_info": {
   "codemirror_mode": {
    "name": "ipython",
    "version": 3
   },
   "file_extension": ".py",
   "mimetype": "text/x-python",
   "name": "python",
   "nbconvert_exporter": "python",
   "pygments_lexer": "ipython3",
   "version": "3.7.4"
  }
 },
 "nbformat": 4,
 "nbformat_minor": 4
}
