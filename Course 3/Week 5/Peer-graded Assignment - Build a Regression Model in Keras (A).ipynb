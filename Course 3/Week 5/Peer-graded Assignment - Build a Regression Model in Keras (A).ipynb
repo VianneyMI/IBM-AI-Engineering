{
 "cells": [
  {
   "cell_type": "markdown",
   "metadata": {},
   "source": [
    "### part A: **Build a baseline model**"
   ]
  },
  {
   "cell_type": "markdown",
   "metadata": {},
   "source": [
    "importing numpy and pandas libraries"
   ]
  },
  {
   "cell_type": "code",
   "execution_count": 1,
   "metadata": {},
   "outputs": [],
   "source": [
    "import numpy as np\n",
    "import pandas as pd"
   ]
  },
  {
   "cell_type": "markdown",
   "metadata": {},
   "source": [
    "Let's read the data into a pandas dataframe."
   ]
  },
  {
   "cell_type": "code",
   "execution_count": 2,
   "metadata": {},
   "outputs": [
    {
     "data": {
      "text/html": [
       "<div>\n",
       "<style scoped>\n",
       "    .dataframe tbody tr th:only-of-type {\n",
       "        vertical-align: middle;\n",
       "    }\n",
       "\n",
       "    .dataframe tbody tr th {\n",
       "        vertical-align: top;\n",
       "    }\n",
       "\n",
       "    .dataframe thead th {\n",
       "        text-align: right;\n",
       "    }\n",
       "</style>\n",
       "<table border=\"1\" class=\"dataframe\">\n",
       "  <thead>\n",
       "    <tr style=\"text-align: right;\">\n",
       "      <th></th>\n",
       "      <th>Cement</th>\n",
       "      <th>Blast Furnace Slag</th>\n",
       "      <th>Fly Ash</th>\n",
       "      <th>Water</th>\n",
       "      <th>Superplasticizer</th>\n",
       "      <th>Coarse Aggregate</th>\n",
       "      <th>Fine Aggregate</th>\n",
       "      <th>Age</th>\n",
       "      <th>Strength</th>\n",
       "    </tr>\n",
       "  </thead>\n",
       "  <tbody>\n",
       "    <tr>\n",
       "      <td>0</td>\n",
       "      <td>540.0</td>\n",
       "      <td>0.0</td>\n",
       "      <td>0.0</td>\n",
       "      <td>162.0</td>\n",
       "      <td>2.5</td>\n",
       "      <td>1040.0</td>\n",
       "      <td>676.0</td>\n",
       "      <td>28</td>\n",
       "      <td>79.99</td>\n",
       "    </tr>\n",
       "    <tr>\n",
       "      <td>1</td>\n",
       "      <td>540.0</td>\n",
       "      <td>0.0</td>\n",
       "      <td>0.0</td>\n",
       "      <td>162.0</td>\n",
       "      <td>2.5</td>\n",
       "      <td>1055.0</td>\n",
       "      <td>676.0</td>\n",
       "      <td>28</td>\n",
       "      <td>61.89</td>\n",
       "    </tr>\n",
       "    <tr>\n",
       "      <td>2</td>\n",
       "      <td>332.5</td>\n",
       "      <td>142.5</td>\n",
       "      <td>0.0</td>\n",
       "      <td>228.0</td>\n",
       "      <td>0.0</td>\n",
       "      <td>932.0</td>\n",
       "      <td>594.0</td>\n",
       "      <td>270</td>\n",
       "      <td>40.27</td>\n",
       "    </tr>\n",
       "    <tr>\n",
       "      <td>3</td>\n",
       "      <td>332.5</td>\n",
       "      <td>142.5</td>\n",
       "      <td>0.0</td>\n",
       "      <td>228.0</td>\n",
       "      <td>0.0</td>\n",
       "      <td>932.0</td>\n",
       "      <td>594.0</td>\n",
       "      <td>365</td>\n",
       "      <td>41.05</td>\n",
       "    </tr>\n",
       "    <tr>\n",
       "      <td>4</td>\n",
       "      <td>198.6</td>\n",
       "      <td>132.4</td>\n",
       "      <td>0.0</td>\n",
       "      <td>192.0</td>\n",
       "      <td>0.0</td>\n",
       "      <td>978.4</td>\n",
       "      <td>825.5</td>\n",
       "      <td>360</td>\n",
       "      <td>44.30</td>\n",
       "    </tr>\n",
       "  </tbody>\n",
       "</table>\n",
       "</div>"
      ],
      "text/plain": [
       "   Cement  Blast Furnace Slag  Fly Ash  Water  Superplasticizer  \\\n",
       "0   540.0                 0.0      0.0  162.0               2.5   \n",
       "1   540.0                 0.0      0.0  162.0               2.5   \n",
       "2   332.5               142.5      0.0  228.0               0.0   \n",
       "3   332.5               142.5      0.0  228.0               0.0   \n",
       "4   198.6               132.4      0.0  192.0               0.0   \n",
       "\n",
       "   Coarse Aggregate  Fine Aggregate  Age  Strength  \n",
       "0            1040.0           676.0   28     79.99  \n",
       "1            1055.0           676.0   28     61.89  \n",
       "2             932.0           594.0  270     40.27  \n",
       "3             932.0           594.0  365     41.05  \n",
       "4             978.4           825.5  360     44.30  "
      ]
     },
     "execution_count": 2,
     "metadata": {},
     "output_type": "execute_result"
    }
   ],
   "source": [
    "data = pd.read_csv('concrete_data.csv')\n",
    "data.head()"
   ]
  },
  {
   "cell_type": "code",
   "execution_count": null,
   "metadata": {},
   "outputs": [],
   "source": []
  },
  {
   "cell_type": "markdown",
   "metadata": {},
   "source": [
    "##### split data into training and test sets"
   ]
  },
  {
   "cell_type": "code",
   "execution_count": 3,
   "metadata": {},
   "outputs": [],
   "source": [
    "data_columns = data.columns\n",
    "\n",
    "predictors = data[data_columns[data_columns != 'Strength']] # all columns except Strength\n",
    "target = data['Strength'] # only Strength column"
   ]
  },
  {
   "cell_type": "code",
   "execution_count": 4,
   "metadata": {},
   "outputs": [
    {
     "data": {
      "text/html": [
       "<div>\n",
       "<style scoped>\n",
       "    .dataframe tbody tr th:only-of-type {\n",
       "        vertical-align: middle;\n",
       "    }\n",
       "\n",
       "    .dataframe tbody tr th {\n",
       "        vertical-align: top;\n",
       "    }\n",
       "\n",
       "    .dataframe thead th {\n",
       "        text-align: right;\n",
       "    }\n",
       "</style>\n",
       "<table border=\"1\" class=\"dataframe\">\n",
       "  <thead>\n",
       "    <tr style=\"text-align: right;\">\n",
       "      <th></th>\n",
       "      <th>Cement</th>\n",
       "      <th>Blast Furnace Slag</th>\n",
       "      <th>Fly Ash</th>\n",
       "      <th>Water</th>\n",
       "      <th>Superplasticizer</th>\n",
       "      <th>Coarse Aggregate</th>\n",
       "      <th>Fine Aggregate</th>\n",
       "      <th>Age</th>\n",
       "    </tr>\n",
       "  </thead>\n",
       "  <tbody>\n",
       "    <tr>\n",
       "      <td>0</td>\n",
       "      <td>540.0</td>\n",
       "      <td>0.0</td>\n",
       "      <td>0.0</td>\n",
       "      <td>162.0</td>\n",
       "      <td>2.5</td>\n",
       "      <td>1040.0</td>\n",
       "      <td>676.0</td>\n",
       "      <td>28</td>\n",
       "    </tr>\n",
       "    <tr>\n",
       "      <td>1</td>\n",
       "      <td>540.0</td>\n",
       "      <td>0.0</td>\n",
       "      <td>0.0</td>\n",
       "      <td>162.0</td>\n",
       "      <td>2.5</td>\n",
       "      <td>1055.0</td>\n",
       "      <td>676.0</td>\n",
       "      <td>28</td>\n",
       "    </tr>\n",
       "    <tr>\n",
       "      <td>2</td>\n",
       "      <td>332.5</td>\n",
       "      <td>142.5</td>\n",
       "      <td>0.0</td>\n",
       "      <td>228.0</td>\n",
       "      <td>0.0</td>\n",
       "      <td>932.0</td>\n",
       "      <td>594.0</td>\n",
       "      <td>270</td>\n",
       "    </tr>\n",
       "    <tr>\n",
       "      <td>3</td>\n",
       "      <td>332.5</td>\n",
       "      <td>142.5</td>\n",
       "      <td>0.0</td>\n",
       "      <td>228.0</td>\n",
       "      <td>0.0</td>\n",
       "      <td>932.0</td>\n",
       "      <td>594.0</td>\n",
       "      <td>365</td>\n",
       "    </tr>\n",
       "    <tr>\n",
       "      <td>4</td>\n",
       "      <td>198.6</td>\n",
       "      <td>132.4</td>\n",
       "      <td>0.0</td>\n",
       "      <td>192.0</td>\n",
       "      <td>0.0</td>\n",
       "      <td>978.4</td>\n",
       "      <td>825.5</td>\n",
       "      <td>360</td>\n",
       "    </tr>\n",
       "  </tbody>\n",
       "</table>\n",
       "</div>"
      ],
      "text/plain": [
       "   Cement  Blast Furnace Slag  Fly Ash  Water  Superplasticizer  \\\n",
       "0   540.0                 0.0      0.0  162.0               2.5   \n",
       "1   540.0                 0.0      0.0  162.0               2.5   \n",
       "2   332.5               142.5      0.0  228.0               0.0   \n",
       "3   332.5               142.5      0.0  228.0               0.0   \n",
       "4   198.6               132.4      0.0  192.0               0.0   \n",
       "\n",
       "   Coarse Aggregate  Fine Aggregate  Age  \n",
       "0            1040.0           676.0   28  \n",
       "1            1055.0           676.0   28  \n",
       "2             932.0           594.0  270  \n",
       "3             932.0           594.0  365  \n",
       "4             978.4           825.5  360  "
      ]
     },
     "execution_count": 4,
     "metadata": {},
     "output_type": "execute_result"
    }
   ],
   "source": [
    "predictors.head()"
   ]
  },
  {
   "cell_type": "code",
   "execution_count": 5,
   "metadata": {},
   "outputs": [
    {
     "data": {
      "text/plain": [
       "0    79.99\n",
       "1    61.89\n",
       "2    40.27\n",
       "3    41.05\n",
       "4    44.30\n",
       "Name: Strength, dtype: float64"
      ]
     },
     "execution_count": 5,
     "metadata": {},
     "output_type": "execute_result"
    }
   ],
   "source": [
    "target.head()"
   ]
  },
  {
   "cell_type": "code",
   "execution_count": 6,
   "metadata": {},
   "outputs": [],
   "source": [
    "from sklearn.model_selection import train_test_split\n",
    "X_train, X_test, y_train, y_test = train_test_split(predictors, target, test_size=0.30, random_state=42)"
   ]
  },
  {
   "cell_type": "code",
   "execution_count": 7,
   "metadata": {},
   "outputs": [
    {
     "name": "stdout",
     "output_type": "stream",
     "text": [
      "8\n"
     ]
    }
   ],
   "source": [
    "n_cols = predictors.shape[1] # number of predictors\n",
    "print(n_cols)"
   ]
  },
  {
   "cell_type": "markdown",
   "metadata": {},
   "source": [
    "### Building a Regression Model"
   ]
  },
  {
   "cell_type": "markdown",
   "metadata": {},
   "source": [
    "importing keras library"
   ]
  },
  {
   "cell_type": "code",
   "execution_count": 8,
   "metadata": {},
   "outputs": [
    {
     "name": "stderr",
     "output_type": "stream",
     "text": [
      "Using TensorFlow backend.\n"
     ]
    }
   ],
   "source": [
    "import keras "
   ]
  },
  {
   "cell_type": "markdown",
   "metadata": {},
   "source": [
    "Let's import the rest of the packages from the Keras library that we will need to build our regressoin model."
   ]
  },
  {
   "cell_type": "code",
   "execution_count": 9,
   "metadata": {},
   "outputs": [],
   "source": [
    "from keras.models import Sequential\n",
    "from keras.layers import Dense"
   ]
  },
  {
   "cell_type": "markdown",
   "metadata": {},
   "source": [
    "Let's define a function that defines our regression model for us so that we can conveniently call it to create our model."
   ]
  },
  {
   "cell_type": "code",
   "execution_count": 10,
   "metadata": {},
   "outputs": [],
   "source": [
    "# define regression model\n",
    "def regression_model():\n",
    "    # create model\n",
    "    model = Sequential()\n",
    "    model.add(Dense(10, activation='relu', input_shape=(n_cols,)))\n",
    "    model.add(Dense(1))\n",
    "    \n",
    "    # compile model\n",
    "    model.compile(optimizer='adam', loss='mean_squared_error') # adam optimizer \n",
    "    return model"
   ]
  },
  {
   "cell_type": "markdown",
   "metadata": {},
   "source": [
    "### Train and Evaluate the Network"
   ]
  },
  {
   "cell_type": "code",
   "execution_count": 11,
   "metadata": {},
   "outputs": [],
   "source": [
    "# build the model\n",
    "model = regression_model()"
   ]
  },
  {
   "cell_type": "markdown",
   "metadata": {},
   "source": [
    "Next, we will train and test the model at the same time using the fit method. We will leave out 30% of the data for validation and we will train the model for 50 epochs."
   ]
  },
  {
   "cell_type": "code",
   "execution_count": 12,
   "metadata": {},
   "outputs": [
    {
     "name": "stdout",
     "output_type": "stream",
     "text": [
      "Train on 721 samples, validate on 309 samples\n",
      "Epoch 1/50\n",
      " - 0s - loss: 13795.2434 - val_loss: 9676.8000\n",
      "Epoch 2/50\n",
      " - 0s - loss: 5170.4318 - val_loss: 7715.2289\n",
      "Epoch 3/50\n",
      " - 0s - loss: 4681.2597 - val_loss: 7376.8979\n",
      "Epoch 4/50\n",
      " - 0s - loss: 4406.4818 - val_loss: 6987.5006\n",
      "Epoch 5/50\n",
      " - 0s - loss: 4154.2408 - val_loss: 6563.5857\n",
      "Epoch 6/50\n",
      " - 0s - loss: 3923.3313 - val_loss: 6128.3593\n",
      "Epoch 7/50\n",
      " - 0s - loss: 3701.9551 - val_loss: 5771.1440\n",
      "Epoch 8/50\n",
      " - 0s - loss: 3500.8530 - val_loss: 5373.9006\n",
      "Epoch 9/50\n",
      " - 0s - loss: 3285.1456 - val_loss: 5004.9109\n",
      "Epoch 10/50\n",
      " - 0s - loss: 3084.3723 - val_loss: 4630.3224\n",
      "Epoch 11/50\n",
      " - 0s - loss: 2887.2430 - val_loss: 4275.6813\n",
      "Epoch 12/50\n",
      " - 0s - loss: 2695.3895 - val_loss: 3955.8096\n",
      "Epoch 13/50\n",
      " - 0s - loss: 2519.2506 - val_loss: 3608.4172\n",
      "Epoch 14/50\n",
      " - 0s - loss: 2336.4174 - val_loss: 3320.7865\n",
      "Epoch 15/50\n",
      " - 0s - loss: 2172.7401 - val_loss: 3036.7290\n",
      "Epoch 16/50\n",
      " - 0s - loss: 2013.4987 - val_loss: 2741.2249\n",
      "Epoch 17/50\n",
      " - 0s - loss: 1855.8852 - val_loss: 2520.5887\n",
      "Epoch 18/50\n",
      " - 0s - loss: 1722.5421 - val_loss: 2316.7649\n",
      "Epoch 19/50\n",
      " - 0s - loss: 1592.9257 - val_loss: 2119.7928\n",
      "Epoch 20/50\n",
      " - 0s - loss: 1484.6363 - val_loss: 1958.8350\n",
      "Epoch 21/50\n",
      " - 0s - loss: 1372.3875 - val_loss: 1781.5274\n",
      "Epoch 22/50\n",
      " - 0s - loss: 1248.1452 - val_loss: 1621.9285\n",
      "Epoch 23/50\n",
      " - 0s - loss: 1123.3699 - val_loss: 1478.5656\n",
      "Epoch 24/50\n",
      " - 0s - loss: 1007.1039 - val_loss: 1336.2302\n",
      "Epoch 25/50\n",
      " - 0s - loss: 919.8392 - val_loss: 1238.9679\n",
      "Epoch 26/50\n",
      " - 0s - loss: 864.9820 - val_loss: 1160.4508\n",
      "Epoch 27/50\n",
      " - 0s - loss: 820.8796 - val_loss: 1087.3423\n",
      "Epoch 28/50\n",
      " - 0s - loss: 781.6814 - val_loss: 1019.8489\n",
      "Epoch 29/50\n",
      " - 0s - loss: 745.0775 - val_loss: 962.1457\n",
      "Epoch 30/50\n",
      " - 0s - loss: 712.3464 - val_loss: 914.3136\n",
      "Epoch 31/50\n",
      " - 0s - loss: 680.5581 - val_loss: 870.3835\n",
      "Epoch 32/50\n",
      " - 0s - loss: 652.8060 - val_loss: 825.5968\n",
      "Epoch 33/50\n",
      " - 0s - loss: 625.6010 - val_loss: 784.5371\n",
      "Epoch 34/50\n",
      " - 0s - loss: 601.7838 - val_loss: 750.0987\n",
      "Epoch 35/50\n",
      " - 0s - loss: 580.1892 - val_loss: 717.1595\n",
      "Epoch 36/50\n",
      " - 0s - loss: 560.3507 - val_loss: 682.3450\n",
      "Epoch 37/50\n",
      " - 0s - loss: 542.9550 - val_loss: 656.3458\n",
      "Epoch 38/50\n",
      " - 0s - loss: 526.6254 - val_loss: 634.1517\n",
      "Epoch 39/50\n",
      " - 0s - loss: 511.0599 - val_loss: 612.8268\n",
      "Epoch 40/50\n",
      " - 0s - loss: 497.4299 - val_loss: 588.2027\n",
      "Epoch 41/50\n",
      " - 0s - loss: 483.7515 - val_loss: 577.5048\n",
      "Epoch 42/50\n",
      " - 0s - loss: 470.9060 - val_loss: 550.6177\n",
      "Epoch 43/50\n",
      " - 0s - loss: 459.4713 - val_loss: 534.8612\n",
      "Epoch 44/50\n",
      " - 0s - loss: 447.4224 - val_loss: 515.9122\n",
      "Epoch 45/50\n",
      " - 0s - loss: 436.1188 - val_loss: 504.4251\n",
      "Epoch 46/50\n",
      " - 0s - loss: 426.0621 - val_loss: 490.5880\n",
      "Epoch 47/50\n",
      " - 0s - loss: 414.9052 - val_loss: 469.7837\n",
      "Epoch 48/50\n",
      " - 0s - loss: 405.2309 - val_loss: 457.1758\n",
      "Epoch 49/50\n",
      " - 0s - loss: 394.8911 - val_loss: 444.8033\n",
      "Epoch 50/50\n",
      " - 0s - loss: 385.7035 - val_loss: 430.9795\n"
     ]
    },
    {
     "data": {
      "text/plain": [
       "<keras.callbacks.callbacks.History at 0x21bfc606dc8>"
      ]
     },
     "execution_count": 12,
     "metadata": {},
     "output_type": "execute_result"
    }
   ],
   "source": [
    "# fit the model\n",
    "model.fit(predictors, target, validation_split=0.3, epochs=50, verbose=2)"
   ]
  },
  {
   "cell_type": "code",
   "execution_count": 13,
   "metadata": {},
   "outputs": [
    {
     "name": "stdout",
     "output_type": "stream",
     "text": [
      "309/309 [==============================] - 0s 56us/step\n"
     ]
    },
    {
     "data": {
      "text/plain": [
       "383.1999774426704"
      ]
     },
     "execution_count": 13,
     "metadata": {},
     "output_type": "execute_result"
    }
   ],
   "source": [
    "model.evaluate(X_test,y_test, verbose=1)"
   ]
  },
  {
   "cell_type": "markdown",
   "metadata": {},
   "source": [
    "   Now we need to compute the mean squared error between the predicted concrete strength and the actual concrete strength."
   ]
  },
  {
   "cell_type": "markdown",
   "metadata": {},
   "source": [
    "   Let's import the mean_squared_error function from Scikit-learn."
   ]
  },
  {
   "cell_type": "code",
   "execution_count": 14,
   "metadata": {},
   "outputs": [],
   "source": [
    "from sklearn.metrics import mean_squared_error"
   ]
  },
  {
   "cell_type": "code",
   "execution_count": 15,
   "metadata": {},
   "outputs": [],
   "source": [
    "y_pred = model.predict(X_test)"
   ]
  },
  {
   "cell_type": "code",
   "execution_count": 16,
   "metadata": {},
   "outputs": [
    {
     "data": {
      "text/plain": [
       "array([[57.917442 ],\n",
       "       [50.090668 ],\n",
       "       [57.296593 ],\n",
       "       [49.627205 ],\n",
       "       [61.573402 ],\n",
       "       [51.68225  ],\n",
       "       [41.048195 ],\n",
       "       [61.348915 ],\n",
       "       [49.314583 ],\n",
       "       [51.143333 ],\n",
       "       [39.766747 ],\n",
       "       [13.405937 ],\n",
       "       [40.173492 ],\n",
       "       [34.57502  ],\n",
       "       [28.165886 ],\n",
       "       [29.457558 ],\n",
       "       [40.62139  ],\n",
       "       [19.454712 ],\n",
       "       [28.589165 ],\n",
       "       [23.103767 ],\n",
       "       [25.582916 ],\n",
       "       [51.373344 ],\n",
       "       [55.705406 ],\n",
       "       [17.634804 ],\n",
       "       [29.066414 ],\n",
       "       [52.09037  ],\n",
       "       [17.052635 ],\n",
       "       [25.526833 ],\n",
       "       [31.48954  ],\n",
       "       [32.31048  ],\n",
       "       [ 9.39048  ],\n",
       "       [43.95951  ],\n",
       "       [24.6436   ],\n",
       "       [34.727074 ],\n",
       "       [21.898201 ],\n",
       "       [12.699135 ],\n",
       "       [48.464188 ],\n",
       "       [42.21615  ],\n",
       "       [44.479942 ],\n",
       "       [29.585625 ],\n",
       "       [20.605698 ],\n",
       "       [52.224915 ],\n",
       "       [46.60746  ],\n",
       "       [55.49897  ],\n",
       "       [15.466438 ],\n",
       "       [58.288834 ],\n",
       "       [52.232193 ],\n",
       "       [77.46515  ],\n",
       "       [37.327217 ],\n",
       "       [23.387405 ],\n",
       "       [56.139114 ],\n",
       "       [38.493782 ],\n",
       "       [18.661476 ],\n",
       "       [21.699211 ],\n",
       "       [15.863968 ],\n",
       "       [52.147835 ],\n",
       "       [47.69242  ],\n",
       "       [10.541176 ],\n",
       "       [23.293617 ],\n",
       "       [12.935616 ],\n",
       "       [42.13549  ],\n",
       "       [50.28447  ],\n",
       "       [26.70565  ],\n",
       "       [49.41175  ],\n",
       "       [27.485085 ],\n",
       "       [11.959984 ],\n",
       "       [60.325417 ],\n",
       "       [28.171135 ],\n",
       "       [47.375824 ],\n",
       "       [19.365517 ],\n",
       "       [55.17726  ],\n",
       "       [34.46646  ],\n",
       "       [39.781364 ],\n",
       "       [39.804657 ],\n",
       "       [35.071175 ],\n",
       "       [41.86596  ],\n",
       "       [58.52378  ],\n",
       "       [61.982094 ],\n",
       "       [51.736298 ],\n",
       "       [25.849236 ],\n",
       "       [45.894394 ],\n",
       "       [52.94145  ],\n",
       "       [57.432945 ],\n",
       "       [47.905838 ],\n",
       "       [51.746643 ],\n",
       "       [49.627205 ],\n",
       "       [51.926613 ],\n",
       "       [38.780075 ],\n",
       "       [19.069572 ],\n",
       "       [16.740974 ],\n",
       "       [20.667412 ],\n",
       "       [66.36132  ],\n",
       "       [16.739906 ],\n",
       "       [67.213    ],\n",
       "       [31.853142 ],\n",
       "       [45.697258 ],\n",
       "       [19.719536 ],\n",
       "       [23.809547 ],\n",
       "       [36.31881  ],\n",
       "       [45.60144  ],\n",
       "       [21.63195  ],\n",
       "       [35.586563 ],\n",
       "       [28.79515  ],\n",
       "       [20.565643 ],\n",
       "       [55.551403 ],\n",
       "       [ 9.381599 ],\n",
       "       [35.254677 ],\n",
       "       [23.956345 ],\n",
       "       [23.147057 ],\n",
       "       [53.338104 ],\n",
       "       [66.75063  ],\n",
       "       [56.42128  ],\n",
       "       [10.265892 ],\n",
       "       [55.17852  ],\n",
       "       [50.28814  ],\n",
       "       [43.1705   ],\n",
       "       [31.377869 ],\n",
       "       [60.28827  ],\n",
       "       [30.874657 ],\n",
       "       [31.87854  ],\n",
       "       [23.149681 ],\n",
       "       [49.861877 ],\n",
       "       [26.38697  ],\n",
       "       [37.055397 ],\n",
       "       [ 6.359459 ],\n",
       "       [23.936043 ],\n",
       "       [ 3.7626417],\n",
       "       [48.30177  ],\n",
       "       [57.517174 ],\n",
       "       [46.888435 ],\n",
       "       [10.455437 ],\n",
       "       [51.554817 ],\n",
       "       [18.263878 ],\n",
       "       [57.863884 ],\n",
       "       [63.90998  ],\n",
       "       [40.739174 ],\n",
       "       [35.251152 ],\n",
       "       [27.146431 ],\n",
       "       [49.83783  ],\n",
       "       [18.924065 ],\n",
       "       [38.52912  ],\n",
       "       [61.121353 ],\n",
       "       [26.89135  ],\n",
       "       [51.066994 ],\n",
       "       [43.21218  ],\n",
       "       [23.637901 ],\n",
       "       [15.639626 ],\n",
       "       [29.539368 ],\n",
       "       [44.016457 ],\n",
       "       [16.295479 ],\n",
       "       [53.17697  ],\n",
       "       [55.0969   ],\n",
       "       [51.77108  ],\n",
       "       [36.90696  ],\n",
       "       [29.565681 ],\n",
       "       [55.0906   ],\n",
       "       [36.157158 ],\n",
       "       [22.996704 ],\n",
       "       [50.09066  ],\n",
       "       [35.317528 ],\n",
       "       [36.99044  ],\n",
       "       [53.284233 ],\n",
       "       [50.838936 ],\n",
       "       [48.729057 ],\n",
       "       [47.602768 ],\n",
       "       [55.96566  ],\n",
       "       [21.398842 ],\n",
       "       [19.244102 ],\n",
       "       [37.49295  ],\n",
       "       [50.10972  ],\n",
       "       [26.594048 ],\n",
       "       [37.606667 ],\n",
       "       [45.09562  ],\n",
       "       [60.154343 ],\n",
       "       [27.849808 ],\n",
       "       [12.950356 ],\n",
       "       [37.74035  ],\n",
       "       [56.88391  ],\n",
       "       [35.53743  ],\n",
       "       [52.819122 ],\n",
       "       [54.85195  ],\n",
       "       [38.30201  ],\n",
       "       [53.33982  ],\n",
       "       [51.423035 ],\n",
       "       [26.38459  ],\n",
       "       [47.51632  ],\n",
       "       [14.358467 ],\n",
       "       [22.617714 ],\n",
       "       [46.383743 ],\n",
       "       [34.255142 ],\n",
       "       [51.072083 ],\n",
       "       [46.871605 ],\n",
       "       [28.36625  ],\n",
       "       [43.89293  ],\n",
       "       [81.725586 ],\n",
       "       [25.290016 ],\n",
       "       [29.628899 ],\n",
       "       [55.313957 ],\n",
       "       [51.200317 ],\n",
       "       [15.839149 ],\n",
       "       [29.858665 ],\n",
       "       [43.1705   ],\n",
       "       [66.806694 ],\n",
       "       [47.72547  ],\n",
       "       [52.455635 ],\n",
       "       [42.391    ],\n",
       "       [28.152824 ],\n",
       "       [49.517776 ],\n",
       "       [23.69735  ],\n",
       "       [60.22895  ],\n",
       "       [18.326485 ],\n",
       "       [18.374046 ],\n",
       "       [10.298378 ],\n",
       "       [27.403038 ],\n",
       "       [34.66889  ],\n",
       "       [65.67258  ],\n",
       "       [30.115364 ],\n",
       "       [24.110573 ],\n",
       "       [32.188942 ],\n",
       "       [52.52391  ],\n",
       "       [43.52764  ],\n",
       "       [62.079155 ],\n",
       "       [52.721375 ],\n",
       "       [11.908989 ],\n",
       "       [25.46724  ],\n",
       "       [25.198418 ],\n",
       "       [27.015144 ],\n",
       "       [15.319359 ],\n",
       "       [18.401604 ],\n",
       "       [10.846764 ],\n",
       "       [41.764824 ],\n",
       "       [17.831032 ],\n",
       "       [25.794449 ],\n",
       "       [57.4207   ],\n",
       "       [35.421425 ],\n",
       "       [56.029564 ],\n",
       "       [52.242455 ],\n",
       "       [12.539726 ],\n",
       "       [33.03237  ],\n",
       "       [17.795021 ],\n",
       "       [11.023842 ],\n",
       "       [19.02259  ],\n",
       "       [27.933838 ],\n",
       "       [19.462914 ],\n",
       "       [64.09069  ],\n",
       "       [37.502525 ],\n",
       "       [57.458374 ],\n",
       "       [65.060104 ],\n",
       "       [48.12269  ],\n",
       "       [56.86448  ],\n",
       "       [38.35827  ],\n",
       "       [23.142662 ],\n",
       "       [50.74375  ],\n",
       "       [20.049309 ],\n",
       "       [22.86129  ],\n",
       "       [45.567474 ],\n",
       "       [31.309975 ],\n",
       "       [19.964577 ],\n",
       "       [15.927925 ],\n",
       "       [22.148674 ],\n",
       "       [47.815926 ],\n",
       "       [46.42434  ],\n",
       "       [15.383568 ],\n",
       "       [50.65291  ],\n",
       "       [44.02275  ],\n",
       "       [63.346203 ],\n",
       "       [22.244545 ],\n",
       "       [11.657219 ],\n",
       "       [12.120705 ],\n",
       "       [43.013023 ],\n",
       "       [46.41787  ],\n",
       "       [15.907219 ],\n",
       "       [24.73365  ],\n",
       "       [35.2072   ],\n",
       "       [81.45485  ],\n",
       "       [47.602768 ],\n",
       "       [34.11155  ],\n",
       "       [49.193657 ],\n",
       "       [50.98339  ],\n",
       "       [36.067307 ],\n",
       "       [44.924156 ],\n",
       "       [36.148026 ],\n",
       "       [64.37347  ],\n",
       "       [24.143677 ],\n",
       "       [45.125946 ],\n",
       "       [49.564392 ],\n",
       "       [26.053734 ],\n",
       "       [29.033577 ],\n",
       "       [61.74433  ],\n",
       "       [49.614502 ],\n",
       "       [21.223198 ],\n",
       "       [21.262016 ],\n",
       "       [46.27517  ],\n",
       "       [ 1.0879134],\n",
       "       [20.987694 ],\n",
       "       [21.341698 ],\n",
       "       [16.243736 ],\n",
       "       [33.366585 ],\n",
       "       [41.062828 ],\n",
       "       [43.030876 ],\n",
       "       [66.53976  ],\n",
       "       [34.843643 ],\n",
       "       [51.971504 ],\n",
       "       [24.102509 ],\n",
       "       [45.29731  ],\n",
       "       [32.44491  ],\n",
       "       [61.49511  ],\n",
       "       [14.972969 ],\n",
       "       [34.72515  ]], dtype=float32)"
      ]
     },
     "execution_count": 16,
     "metadata": {},
     "output_type": "execute_result"
    }
   ],
   "source": [
    "y_pred"
   ]
  },
  {
   "cell_type": "code",
   "execution_count": 17,
   "metadata": {},
   "outputs": [
    {
     "name": "stdout",
     "output_type": "stream",
     "text": [
      "mse:  383.1999822079114\n"
     ]
    }
   ],
   "source": [
    "mse = mean_squared_error(y_test, y_pred)\n",
    "mean = np.mean(mse)\n",
    "standard_deviation = np.std(mse)\n",
    "print('mse: ', mse)"
   ]
  },
  {
   "cell_type": "markdown",
   "metadata": {},
   "source": [
    "Let's create a list of 50 mean squared errors and report mean and the standard deviation of the mean squared errors."
   ]
  },
  {
   "cell_type": "code",
   "execution_count": 19,
   "metadata": {},
   "outputs": [
    {
     "name": "stdout",
     "output_type": "stream",
     "text": [
      "mse 1:  146.83918031365354\n",
      "mse 2:  79.69963342857979\n",
      "mse 3:  66.97847210782245\n",
      "mse 4:  62.96653700646459\n",
      "mse 5:  61.488126180704356\n",
      "mse 6:  58.89988451713883\n",
      "mse 7:  58.59510982229486\n",
      "mse 8:  69.43359650300158\n",
      "mse 9:  55.666722652595794\n",
      "mse 10:  53.29456144166224\n",
      "mse 11:  52.226677570528196\n",
      "mse 12:  58.28093059008947\n",
      "mse 13:  50.589997819326456\n",
      "mse 14:  48.87046574466051\n",
      "mse 15:  48.760212438392024\n",
      "mse 16:  48.89734571882822\n",
      "mse 17:  50.74771276183885\n",
      "mse 18:  49.73261722700496\n",
      "mse 19:  52.41838830497272\n",
      "mse 20:  48.891177995305235\n",
      "mse 21:  51.14467449249959\n",
      "mse 22:  49.392465696365704\n",
      "mse 23:  53.17185180318394\n",
      "mse 24:  48.87644127657499\n",
      "mse 25:  49.82361857096354\n",
      "mse 26:  53.181613020912344\n",
      "mse 27:  55.25504623956279\n",
      "mse 28:  52.03930785046426\n",
      "mse 29:  48.30930930819712\n",
      "mse 30:  52.08312861124674\n",
      "mse 31:  49.56491049362232\n",
      "mse 32:  48.594852879595216\n",
      "mse 33:  48.65456897772631\n",
      "mse 34:  50.22946948449589\n",
      "mse 35:  48.8505683207589\n",
      "mse 36:  50.61722946166992\n",
      "mse 37:  50.46784490443356\n",
      "mse 38:  50.829662137818566\n",
      "mse 39:  48.876891373816434\n",
      "mse 40:  49.43493325193337\n",
      "mse 41:  49.423824446101015\n",
      "mse 42:  48.41162945151715\n",
      "mse 43:  48.55203258181081\n",
      "mse 44:  48.84395620352242\n",
      "mse 45:  52.58652485227122\n",
      "mse 46:  48.95981365808777\n",
      "mse 47:  48.39727395560749\n",
      "mse 48:  51.70453522814902\n",
      "mse 49:  49.67854259700837\n",
      "mse 50:  49.64214174338529\n",
      "Mean : 54.577521522686155\n",
      "Standard Deviation : 14.525859399922513\n"
     ]
    }
   ],
   "source": [
    "n = 50\n",
    "epochs = 50\n",
    "mean_squared_errors = []\n",
    "for i in range(0, n):\n",
    "    X_train, X_test, y_train, y_test = train_test_split(predictors, target, test_size=0.30, random_state=42)\n",
    "    model.fit(X_train, y_train, epochs=epochs, verbose=0)\n",
    "    mse = model.evaluate(X_test, y_test, verbose=0)\n",
    "    print(\"mse \" +str(i+1)+\": \", mse)\n",
    "    y_pred = model.predict(X_test)\n",
    "    mean_square_error = mean_squared_error(y_test, y_pred)\n",
    "    mean_squared_errors.append(mean_square_error)\n",
    "    \n",
    "mean_squared_errors = np.array(mean_squared_errors)\n",
    "mean = np.mean(mean_squared_errors)\n",
    "standard_deviation = np.std(mean_squared_errors)\n",
    "\n",
    "print(\"Mean : \"+str(mean))\n",
    "print(\"Standard Deviation : \"+str(standard_deviation))\n",
    "    "
   ]
  },
  {
   "cell_type": "code",
   "execution_count": 20,
   "metadata": {},
   "outputs": [
    {
     "name": "stdout",
     "output_type": "stream",
     "text": [
      "mean squared errors:  [146.83918245  79.69963497  66.97847155  62.96653828  61.48812669\n",
      "  58.8998865   58.59511093  69.43359606  55.66672318  53.29456125\n",
      "  52.226679    58.28093209  50.59000025  48.87046805  48.76021413\n",
      "  48.89734832  50.74771428  49.73261921  52.41838958  48.8911796\n",
      "  51.14467469  49.39246777  53.17185395  48.87644344  49.82361936\n",
      "  53.18161414  55.2550478   52.03930971  48.30931096  52.08313034\n",
      "  49.56491084  48.59485387  48.65457012  50.22947053  48.85057017\n",
      "  50.6172296   50.46784639  50.82966265  48.87689269  49.4349342\n",
      "  49.42382557  48.41162982  48.55203433  48.84395813  52.58652597\n",
      "  48.95981567  48.39727508  51.70453508  49.67854363  49.64214327]\n"
     ]
    }
   ],
   "source": [
    "print('mean squared errors: ', mean_squared_errors)"
   ]
  },
  {
   "cell_type": "code",
   "execution_count": 22,
   "metadata": {},
   "outputs": [
    {
     "name": "stdout",
     "output_type": "stream",
     "text": [
      "Mean :  54.577521522686155\n",
      "Standard Deviation :  14.525859399922513\n"
     ]
    }
   ],
   "source": [
    "print(\"Mean : \",mean)\n",
    "print(\"Standard Deviation : \", standard_deviation)"
   ]
  }
 ],
 "metadata": {
  "kernelspec": {
   "display_name": "Python 3",
   "language": "python",
   "name": "python3"
  },
  "language_info": {
   "codemirror_mode": {
    "name": "ipython",
    "version": 3
   },
   "file_extension": ".py",
   "mimetype": "text/x-python",
   "name": "python",
   "nbconvert_exporter": "python",
   "pygments_lexer": "ipython3",
   "version": "3.7.4"
  }
 },
 "nbformat": 4,
 "nbformat_minor": 2
}
