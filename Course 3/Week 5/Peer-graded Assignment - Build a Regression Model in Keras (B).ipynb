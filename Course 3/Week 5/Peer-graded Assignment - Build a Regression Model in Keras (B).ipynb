{
 "cells": [
  {
   "cell_type": "markdown",
   "metadata": {
    "button": false,
    "new_sheet": false,
    "run_control": {
     "read_only": false
    }
   },
   "source": [
    "<a id=\"item31\"></a>"
   ]
  },
  {
   "cell_type": "markdown",
   "metadata": {
    "button": false,
    "new_sheet": false,
    "run_control": {
     "read_only": false
    }
   },
   "source": [
    "## Download and Clean Dataset"
   ]
  },
  {
   "cell_type": "markdown",
   "metadata": {
    "button": false,
    "new_sheet": false,
    "run_control": {
     "read_only": false
    }
   },
   "source": [
    "Let's start by importing the <em>pandas</em> and the Numpy libraries."
   ]
  },
  {
   "cell_type": "code",
   "execution_count": 24,
   "metadata": {
    "button": false,
    "new_sheet": false,
    "run_control": {
     "read_only": false
    }
   },
   "outputs": [],
   "source": [
    "import pandas as pd\n",
    "import numpy as np"
   ]
  },
  {
   "cell_type": "markdown",
   "metadata": {
    "button": false,
    "new_sheet": false,
    "run_control": {
     "read_only": false
    }
   },
   "source": [
    "\n",
    "<strong>The dataset is about the compressive strength of different samples of concrete based on the volumes of the different ingredients that were used to make them. Ingredients include:</strong>\n",
    "\n",
    "<strong>1. Cement</strong>\n",
    "\n",
    "<strong>2. Blast Furnace Slag</strong>\n",
    "\n",
    "<strong>3. Fly Ash</strong>\n",
    "\n",
    "<strong>4. Water</strong>\n",
    "\n",
    "<strong>5. Superplasticizer</strong>\n",
    "\n",
    "<strong>6. Coarse Aggregate</strong>\n",
    "\n",
    "<strong>7. Fine Aggregate</strong>"
   ]
  },
  {
   "cell_type": "markdown",
   "metadata": {
    "button": false,
    "new_sheet": false,
    "run_control": {
     "read_only": false
    }
   },
   "source": [
    "Let's download the data and read it into a <em>pandas</em> dataframe."
   ]
  },
  {
   "cell_type": "code",
   "execution_count": 25,
   "metadata": {
    "button": false,
    "new_sheet": false,
    "run_control": {
     "read_only": false
    }
   },
   "outputs": [
    {
     "data": {
      "text/html": [
       "<div>\n",
       "<style scoped>\n",
       "    .dataframe tbody tr th:only-of-type {\n",
       "        vertical-align: middle;\n",
       "    }\n",
       "\n",
       "    .dataframe tbody tr th {\n",
       "        vertical-align: top;\n",
       "    }\n",
       "\n",
       "    .dataframe thead th {\n",
       "        text-align: right;\n",
       "    }\n",
       "</style>\n",
       "<table border=\"1\" class=\"dataframe\">\n",
       "  <thead>\n",
       "    <tr style=\"text-align: right;\">\n",
       "      <th></th>\n",
       "      <th>Cement</th>\n",
       "      <th>Blast Furnace Slag</th>\n",
       "      <th>Fly Ash</th>\n",
       "      <th>Water</th>\n",
       "      <th>Superplasticizer</th>\n",
       "      <th>Coarse Aggregate</th>\n",
       "      <th>Fine Aggregate</th>\n",
       "      <th>Age</th>\n",
       "      <th>Strength</th>\n",
       "    </tr>\n",
       "  </thead>\n",
       "  <tbody>\n",
       "    <tr>\n",
       "      <td>0</td>\n",
       "      <td>540.0</td>\n",
       "      <td>0.0</td>\n",
       "      <td>0.0</td>\n",
       "      <td>162.0</td>\n",
       "      <td>2.5</td>\n",
       "      <td>1040.0</td>\n",
       "      <td>676.0</td>\n",
       "      <td>28</td>\n",
       "      <td>79.99</td>\n",
       "    </tr>\n",
       "    <tr>\n",
       "      <td>1</td>\n",
       "      <td>540.0</td>\n",
       "      <td>0.0</td>\n",
       "      <td>0.0</td>\n",
       "      <td>162.0</td>\n",
       "      <td>2.5</td>\n",
       "      <td>1055.0</td>\n",
       "      <td>676.0</td>\n",
       "      <td>28</td>\n",
       "      <td>61.89</td>\n",
       "    </tr>\n",
       "    <tr>\n",
       "      <td>2</td>\n",
       "      <td>332.5</td>\n",
       "      <td>142.5</td>\n",
       "      <td>0.0</td>\n",
       "      <td>228.0</td>\n",
       "      <td>0.0</td>\n",
       "      <td>932.0</td>\n",
       "      <td>594.0</td>\n",
       "      <td>270</td>\n",
       "      <td>40.27</td>\n",
       "    </tr>\n",
       "    <tr>\n",
       "      <td>3</td>\n",
       "      <td>332.5</td>\n",
       "      <td>142.5</td>\n",
       "      <td>0.0</td>\n",
       "      <td>228.0</td>\n",
       "      <td>0.0</td>\n",
       "      <td>932.0</td>\n",
       "      <td>594.0</td>\n",
       "      <td>365</td>\n",
       "      <td>41.05</td>\n",
       "    </tr>\n",
       "    <tr>\n",
       "      <td>4</td>\n",
       "      <td>198.6</td>\n",
       "      <td>132.4</td>\n",
       "      <td>0.0</td>\n",
       "      <td>192.0</td>\n",
       "      <td>0.0</td>\n",
       "      <td>978.4</td>\n",
       "      <td>825.5</td>\n",
       "      <td>360</td>\n",
       "      <td>44.30</td>\n",
       "    </tr>\n",
       "  </tbody>\n",
       "</table>\n",
       "</div>"
      ],
      "text/plain": [
       "   Cement  Blast Furnace Slag  Fly Ash  Water  Superplasticizer  \\\n",
       "0   540.0                 0.0      0.0  162.0               2.5   \n",
       "1   540.0                 0.0      0.0  162.0               2.5   \n",
       "2   332.5               142.5      0.0  228.0               0.0   \n",
       "3   332.5               142.5      0.0  228.0               0.0   \n",
       "4   198.6               132.4      0.0  192.0               0.0   \n",
       "\n",
       "   Coarse Aggregate  Fine Aggregate  Age  Strength  \n",
       "0            1040.0           676.0   28     79.99  \n",
       "1            1055.0           676.0   28     61.89  \n",
       "2             932.0           594.0  270     40.27  \n",
       "3             932.0           594.0  365     41.05  \n",
       "4             978.4           825.5  360     44.30  "
      ]
     },
     "execution_count": 25,
     "metadata": {},
     "output_type": "execute_result"
    }
   ],
   "source": [
    "concrete_data = pd.read_csv('https://s3-api.us-geo.objectstorage.softlayer.net/cf-courses-data/CognitiveClass/DL0101EN/labs/data/concrete_data.csv')\n",
    "concrete_data.head()"
   ]
  },
  {
   "cell_type": "markdown",
   "metadata": {
    "button": false,
    "new_sheet": false,
    "run_control": {
     "read_only": false
    }
   },
   "source": [
    "So the first concrete sample has 540 cubic meter of cement, 0 cubic meter of blast furnace slag, 0 cubic meter of fly ash, 162 cubic meter of water, 2.5 cubic meter of superplaticizer, 1040 cubic meter of coarse aggregate, 676 cubic meter of fine aggregate. Such a concrete mix which is 28 days old, has a compressive strength of 79.99 MPa. "
   ]
  },
  {
   "cell_type": "markdown",
   "metadata": {
    "button": false,
    "new_sheet": false,
    "run_control": {
     "read_only": false
    }
   },
   "source": [
    "#### Let's check how many data points we have."
   ]
  },
  {
   "cell_type": "code",
   "execution_count": 26,
   "metadata": {
    "button": false,
    "new_sheet": false,
    "run_control": {
     "read_only": false
    }
   },
   "outputs": [
    {
     "data": {
      "text/plain": [
       "(1030, 9)"
      ]
     },
     "execution_count": 26,
     "metadata": {},
     "output_type": "execute_result"
    }
   ],
   "source": [
    "concrete_data.shape"
   ]
  },
  {
   "cell_type": "markdown",
   "metadata": {
    "button": false,
    "new_sheet": false,
    "run_control": {
     "read_only": false
    }
   },
   "source": [
    "So, there are approximately 1000 samples to train our model on. Because of the few samples, we have to be careful not to overfit the training data."
   ]
  },
  {
   "cell_type": "markdown",
   "metadata": {
    "button": false,
    "new_sheet": false,
    "run_control": {
     "read_only": false
    }
   },
   "source": [
    "Let's check the dataset for any missing values."
   ]
  },
  {
   "cell_type": "code",
   "execution_count": 27,
   "metadata": {
    "button": false,
    "new_sheet": false,
    "run_control": {
     "read_only": false
    }
   },
   "outputs": [
    {
     "data": {
      "text/html": [
       "<div>\n",
       "<style scoped>\n",
       "    .dataframe tbody tr th:only-of-type {\n",
       "        vertical-align: middle;\n",
       "    }\n",
       "\n",
       "    .dataframe tbody tr th {\n",
       "        vertical-align: top;\n",
       "    }\n",
       "\n",
       "    .dataframe thead th {\n",
       "        text-align: right;\n",
       "    }\n",
       "</style>\n",
       "<table border=\"1\" class=\"dataframe\">\n",
       "  <thead>\n",
       "    <tr style=\"text-align: right;\">\n",
       "      <th></th>\n",
       "      <th>Cement</th>\n",
       "      <th>Blast Furnace Slag</th>\n",
       "      <th>Fly Ash</th>\n",
       "      <th>Water</th>\n",
       "      <th>Superplasticizer</th>\n",
       "      <th>Coarse Aggregate</th>\n",
       "      <th>Fine Aggregate</th>\n",
       "      <th>Age</th>\n",
       "      <th>Strength</th>\n",
       "    </tr>\n",
       "  </thead>\n",
       "  <tbody>\n",
       "    <tr>\n",
       "      <td>count</td>\n",
       "      <td>1030.000000</td>\n",
       "      <td>1030.000000</td>\n",
       "      <td>1030.000000</td>\n",
       "      <td>1030.000000</td>\n",
       "      <td>1030.000000</td>\n",
       "      <td>1030.000000</td>\n",
       "      <td>1030.000000</td>\n",
       "      <td>1030.000000</td>\n",
       "      <td>1030.000000</td>\n",
       "    </tr>\n",
       "    <tr>\n",
       "      <td>mean</td>\n",
       "      <td>281.167864</td>\n",
       "      <td>73.895825</td>\n",
       "      <td>54.188350</td>\n",
       "      <td>181.567282</td>\n",
       "      <td>6.204660</td>\n",
       "      <td>972.918932</td>\n",
       "      <td>773.580485</td>\n",
       "      <td>45.662136</td>\n",
       "      <td>35.817961</td>\n",
       "    </tr>\n",
       "    <tr>\n",
       "      <td>std</td>\n",
       "      <td>104.506364</td>\n",
       "      <td>86.279342</td>\n",
       "      <td>63.997004</td>\n",
       "      <td>21.354219</td>\n",
       "      <td>5.973841</td>\n",
       "      <td>77.753954</td>\n",
       "      <td>80.175980</td>\n",
       "      <td>63.169912</td>\n",
       "      <td>16.705742</td>\n",
       "    </tr>\n",
       "    <tr>\n",
       "      <td>min</td>\n",
       "      <td>102.000000</td>\n",
       "      <td>0.000000</td>\n",
       "      <td>0.000000</td>\n",
       "      <td>121.800000</td>\n",
       "      <td>0.000000</td>\n",
       "      <td>801.000000</td>\n",
       "      <td>594.000000</td>\n",
       "      <td>1.000000</td>\n",
       "      <td>2.330000</td>\n",
       "    </tr>\n",
       "    <tr>\n",
       "      <td>25%</td>\n",
       "      <td>192.375000</td>\n",
       "      <td>0.000000</td>\n",
       "      <td>0.000000</td>\n",
       "      <td>164.900000</td>\n",
       "      <td>0.000000</td>\n",
       "      <td>932.000000</td>\n",
       "      <td>730.950000</td>\n",
       "      <td>7.000000</td>\n",
       "      <td>23.710000</td>\n",
       "    </tr>\n",
       "    <tr>\n",
       "      <td>50%</td>\n",
       "      <td>272.900000</td>\n",
       "      <td>22.000000</td>\n",
       "      <td>0.000000</td>\n",
       "      <td>185.000000</td>\n",
       "      <td>6.400000</td>\n",
       "      <td>968.000000</td>\n",
       "      <td>779.500000</td>\n",
       "      <td>28.000000</td>\n",
       "      <td>34.445000</td>\n",
       "    </tr>\n",
       "    <tr>\n",
       "      <td>75%</td>\n",
       "      <td>350.000000</td>\n",
       "      <td>142.950000</td>\n",
       "      <td>118.300000</td>\n",
       "      <td>192.000000</td>\n",
       "      <td>10.200000</td>\n",
       "      <td>1029.400000</td>\n",
       "      <td>824.000000</td>\n",
       "      <td>56.000000</td>\n",
       "      <td>46.135000</td>\n",
       "    </tr>\n",
       "    <tr>\n",
       "      <td>max</td>\n",
       "      <td>540.000000</td>\n",
       "      <td>359.400000</td>\n",
       "      <td>200.100000</td>\n",
       "      <td>247.000000</td>\n",
       "      <td>32.200000</td>\n",
       "      <td>1145.000000</td>\n",
       "      <td>992.600000</td>\n",
       "      <td>365.000000</td>\n",
       "      <td>82.600000</td>\n",
       "    </tr>\n",
       "  </tbody>\n",
       "</table>\n",
       "</div>"
      ],
      "text/plain": [
       "            Cement  Blast Furnace Slag      Fly Ash        Water  \\\n",
       "count  1030.000000         1030.000000  1030.000000  1030.000000   \n",
       "mean    281.167864           73.895825    54.188350   181.567282   \n",
       "std     104.506364           86.279342    63.997004    21.354219   \n",
       "min     102.000000            0.000000     0.000000   121.800000   \n",
       "25%     192.375000            0.000000     0.000000   164.900000   \n",
       "50%     272.900000           22.000000     0.000000   185.000000   \n",
       "75%     350.000000          142.950000   118.300000   192.000000   \n",
       "max     540.000000          359.400000   200.100000   247.000000   \n",
       "\n",
       "       Superplasticizer  Coarse Aggregate  Fine Aggregate          Age  \\\n",
       "count       1030.000000       1030.000000     1030.000000  1030.000000   \n",
       "mean           6.204660        972.918932      773.580485    45.662136   \n",
       "std            5.973841         77.753954       80.175980    63.169912   \n",
       "min            0.000000        801.000000      594.000000     1.000000   \n",
       "25%            0.000000        932.000000      730.950000     7.000000   \n",
       "50%            6.400000        968.000000      779.500000    28.000000   \n",
       "75%           10.200000       1029.400000      824.000000    56.000000   \n",
       "max           32.200000       1145.000000      992.600000   365.000000   \n",
       "\n",
       "          Strength  \n",
       "count  1030.000000  \n",
       "mean     35.817961  \n",
       "std      16.705742  \n",
       "min       2.330000  \n",
       "25%      23.710000  \n",
       "50%      34.445000  \n",
       "75%      46.135000  \n",
       "max      82.600000  "
      ]
     },
     "execution_count": 27,
     "metadata": {},
     "output_type": "execute_result"
    }
   ],
   "source": [
    "concrete_data.describe()"
   ]
  },
  {
   "cell_type": "code",
   "execution_count": 28,
   "metadata": {
    "button": false,
    "new_sheet": false,
    "run_control": {
     "read_only": false
    }
   },
   "outputs": [
    {
     "data": {
      "text/plain": [
       "Cement                0\n",
       "Blast Furnace Slag    0\n",
       "Fly Ash               0\n",
       "Water                 0\n",
       "Superplasticizer      0\n",
       "Coarse Aggregate      0\n",
       "Fine Aggregate        0\n",
       "Age                   0\n",
       "Strength              0\n",
       "dtype: int64"
      ]
     },
     "execution_count": 28,
     "metadata": {},
     "output_type": "execute_result"
    }
   ],
   "source": [
    "concrete_data.isnull().sum()"
   ]
  },
  {
   "cell_type": "markdown",
   "metadata": {
    "button": false,
    "new_sheet": false,
    "run_control": {
     "read_only": false
    }
   },
   "source": [
    "The data looks very clean and is ready to be used to build our model."
   ]
  },
  {
   "cell_type": "markdown",
   "metadata": {
    "button": false,
    "new_sheet": false,
    "run_control": {
     "read_only": false
    }
   },
   "source": [
    "#### Split data into predictors and target"
   ]
  },
  {
   "cell_type": "markdown",
   "metadata": {},
   "source": [
    "The target variable in this problem is the concrete sample strength. Therefore, our predictors will be all the other columns."
   ]
  },
  {
   "cell_type": "code",
   "execution_count": 29,
   "metadata": {
    "button": false,
    "new_sheet": false,
    "run_control": {
     "read_only": false
    }
   },
   "outputs": [],
   "source": [
    "concrete_data_columns = concrete_data.columns\n",
    "\n",
    "predictors = concrete_data[concrete_data_columns[concrete_data_columns != 'Strength']] # all columns except Strength\n",
    "target = concrete_data['Strength'] # Strength column"
   ]
  },
  {
   "cell_type": "markdown",
   "metadata": {
    "button": false,
    "new_sheet": false,
    "run_control": {
     "read_only": false
    }
   },
   "source": [
    "<a id=\"item2\"></a>"
   ]
  },
  {
   "cell_type": "markdown",
   "metadata": {
    "button": false,
    "new_sheet": false,
    "run_control": {
     "read_only": false
    }
   },
   "source": [
    "Let's do a quick sanity check of the predictors and the target dataframes."
   ]
  },
  {
   "cell_type": "code",
   "execution_count": 30,
   "metadata": {
    "button": false,
    "new_sheet": false,
    "run_control": {
     "read_only": false
    }
   },
   "outputs": [
    {
     "data": {
      "text/html": [
       "<div>\n",
       "<style scoped>\n",
       "    .dataframe tbody tr th:only-of-type {\n",
       "        vertical-align: middle;\n",
       "    }\n",
       "\n",
       "    .dataframe tbody tr th {\n",
       "        vertical-align: top;\n",
       "    }\n",
       "\n",
       "    .dataframe thead th {\n",
       "        text-align: right;\n",
       "    }\n",
       "</style>\n",
       "<table border=\"1\" class=\"dataframe\">\n",
       "  <thead>\n",
       "    <tr style=\"text-align: right;\">\n",
       "      <th></th>\n",
       "      <th>Cement</th>\n",
       "      <th>Blast Furnace Slag</th>\n",
       "      <th>Fly Ash</th>\n",
       "      <th>Water</th>\n",
       "      <th>Superplasticizer</th>\n",
       "      <th>Coarse Aggregate</th>\n",
       "      <th>Fine Aggregate</th>\n",
       "      <th>Age</th>\n",
       "    </tr>\n",
       "  </thead>\n",
       "  <tbody>\n",
       "    <tr>\n",
       "      <td>0</td>\n",
       "      <td>540.0</td>\n",
       "      <td>0.0</td>\n",
       "      <td>0.0</td>\n",
       "      <td>162.0</td>\n",
       "      <td>2.5</td>\n",
       "      <td>1040.0</td>\n",
       "      <td>676.0</td>\n",
       "      <td>28</td>\n",
       "    </tr>\n",
       "    <tr>\n",
       "      <td>1</td>\n",
       "      <td>540.0</td>\n",
       "      <td>0.0</td>\n",
       "      <td>0.0</td>\n",
       "      <td>162.0</td>\n",
       "      <td>2.5</td>\n",
       "      <td>1055.0</td>\n",
       "      <td>676.0</td>\n",
       "      <td>28</td>\n",
       "    </tr>\n",
       "    <tr>\n",
       "      <td>2</td>\n",
       "      <td>332.5</td>\n",
       "      <td>142.5</td>\n",
       "      <td>0.0</td>\n",
       "      <td>228.0</td>\n",
       "      <td>0.0</td>\n",
       "      <td>932.0</td>\n",
       "      <td>594.0</td>\n",
       "      <td>270</td>\n",
       "    </tr>\n",
       "    <tr>\n",
       "      <td>3</td>\n",
       "      <td>332.5</td>\n",
       "      <td>142.5</td>\n",
       "      <td>0.0</td>\n",
       "      <td>228.0</td>\n",
       "      <td>0.0</td>\n",
       "      <td>932.0</td>\n",
       "      <td>594.0</td>\n",
       "      <td>365</td>\n",
       "    </tr>\n",
       "    <tr>\n",
       "      <td>4</td>\n",
       "      <td>198.6</td>\n",
       "      <td>132.4</td>\n",
       "      <td>0.0</td>\n",
       "      <td>192.0</td>\n",
       "      <td>0.0</td>\n",
       "      <td>978.4</td>\n",
       "      <td>825.5</td>\n",
       "      <td>360</td>\n",
       "    </tr>\n",
       "  </tbody>\n",
       "</table>\n",
       "</div>"
      ],
      "text/plain": [
       "   Cement  Blast Furnace Slag  Fly Ash  Water  Superplasticizer  \\\n",
       "0   540.0                 0.0      0.0  162.0               2.5   \n",
       "1   540.0                 0.0      0.0  162.0               2.5   \n",
       "2   332.5               142.5      0.0  228.0               0.0   \n",
       "3   332.5               142.5      0.0  228.0               0.0   \n",
       "4   198.6               132.4      0.0  192.0               0.0   \n",
       "\n",
       "   Coarse Aggregate  Fine Aggregate  Age  \n",
       "0            1040.0           676.0   28  \n",
       "1            1055.0           676.0   28  \n",
       "2             932.0           594.0  270  \n",
       "3             932.0           594.0  365  \n",
       "4             978.4           825.5  360  "
      ]
     },
     "execution_count": 30,
     "metadata": {},
     "output_type": "execute_result"
    }
   ],
   "source": [
    "predictors.head()"
   ]
  },
  {
   "cell_type": "code",
   "execution_count": 31,
   "metadata": {
    "button": false,
    "new_sheet": false,
    "run_control": {
     "read_only": false
    }
   },
   "outputs": [
    {
     "data": {
      "text/plain": [
       "0    79.99\n",
       "1    61.89\n",
       "2    40.27\n",
       "3    41.05\n",
       "4    44.30\n",
       "Name: Strength, dtype: float64"
      ]
     },
     "execution_count": 31,
     "metadata": {},
     "output_type": "execute_result"
    }
   ],
   "source": [
    "target.head()"
   ]
  },
  {
   "cell_type": "markdown",
   "metadata": {},
   "source": [
    "### Normalization of data"
   ]
  },
  {
   "cell_type": "markdown",
   "metadata": {
    "button": false,
    "new_sheet": false,
    "run_control": {
     "read_only": false
    }
   },
   "source": [
    "Finally, the last step is to normalize the data by substracting the mean and dividing by the standard deviation."
   ]
  },
  {
   "cell_type": "code",
   "execution_count": 32,
   "metadata": {
    "button": false,
    "new_sheet": false,
    "run_control": {
     "read_only": false
    }
   },
   "outputs": [
    {
     "data": {
      "text/html": [
       "<div>\n",
       "<style scoped>\n",
       "    .dataframe tbody tr th:only-of-type {\n",
       "        vertical-align: middle;\n",
       "    }\n",
       "\n",
       "    .dataframe tbody tr th {\n",
       "        vertical-align: top;\n",
       "    }\n",
       "\n",
       "    .dataframe thead th {\n",
       "        text-align: right;\n",
       "    }\n",
       "</style>\n",
       "<table border=\"1\" class=\"dataframe\">\n",
       "  <thead>\n",
       "    <tr style=\"text-align: right;\">\n",
       "      <th></th>\n",
       "      <th>Cement</th>\n",
       "      <th>Blast Furnace Slag</th>\n",
       "      <th>Fly Ash</th>\n",
       "      <th>Water</th>\n",
       "      <th>Superplasticizer</th>\n",
       "      <th>Coarse Aggregate</th>\n",
       "      <th>Fine Aggregate</th>\n",
       "      <th>Age</th>\n",
       "    </tr>\n",
       "  </thead>\n",
       "  <tbody>\n",
       "    <tr>\n",
       "      <td>0</td>\n",
       "      <td>2.476712</td>\n",
       "      <td>-0.856472</td>\n",
       "      <td>-0.846733</td>\n",
       "      <td>-0.916319</td>\n",
       "      <td>-0.620147</td>\n",
       "      <td>0.862735</td>\n",
       "      <td>-1.217079</td>\n",
       "      <td>-0.279597</td>\n",
       "    </tr>\n",
       "    <tr>\n",
       "      <td>1</td>\n",
       "      <td>2.476712</td>\n",
       "      <td>-0.856472</td>\n",
       "      <td>-0.846733</td>\n",
       "      <td>-0.916319</td>\n",
       "      <td>-0.620147</td>\n",
       "      <td>1.055651</td>\n",
       "      <td>-1.217079</td>\n",
       "      <td>-0.279597</td>\n",
       "    </tr>\n",
       "    <tr>\n",
       "      <td>2</td>\n",
       "      <td>0.491187</td>\n",
       "      <td>0.795140</td>\n",
       "      <td>-0.846733</td>\n",
       "      <td>2.174405</td>\n",
       "      <td>-1.038638</td>\n",
       "      <td>-0.526262</td>\n",
       "      <td>-2.239829</td>\n",
       "      <td>3.551340</td>\n",
       "    </tr>\n",
       "    <tr>\n",
       "      <td>3</td>\n",
       "      <td>0.491187</td>\n",
       "      <td>0.795140</td>\n",
       "      <td>-0.846733</td>\n",
       "      <td>2.174405</td>\n",
       "      <td>-1.038638</td>\n",
       "      <td>-0.526262</td>\n",
       "      <td>-2.239829</td>\n",
       "      <td>5.055221</td>\n",
       "    </tr>\n",
       "    <tr>\n",
       "      <td>4</td>\n",
       "      <td>-0.790075</td>\n",
       "      <td>0.678079</td>\n",
       "      <td>-0.846733</td>\n",
       "      <td>0.488555</td>\n",
       "      <td>-1.038638</td>\n",
       "      <td>0.070492</td>\n",
       "      <td>0.647569</td>\n",
       "      <td>4.976069</td>\n",
       "    </tr>\n",
       "  </tbody>\n",
       "</table>\n",
       "</div>"
      ],
      "text/plain": [
       "     Cement  Blast Furnace Slag   Fly Ash     Water  Superplasticizer  \\\n",
       "0  2.476712           -0.856472 -0.846733 -0.916319         -0.620147   \n",
       "1  2.476712           -0.856472 -0.846733 -0.916319         -0.620147   \n",
       "2  0.491187            0.795140 -0.846733  2.174405         -1.038638   \n",
       "3  0.491187            0.795140 -0.846733  2.174405         -1.038638   \n",
       "4 -0.790075            0.678079 -0.846733  0.488555         -1.038638   \n",
       "\n",
       "   Coarse Aggregate  Fine Aggregate       Age  \n",
       "0          0.862735       -1.217079 -0.279597  \n",
       "1          1.055651       -1.217079 -0.279597  \n",
       "2         -0.526262       -2.239829  3.551340  \n",
       "3         -0.526262       -2.239829  5.055221  \n",
       "4          0.070492        0.647569  4.976069  "
      ]
     },
     "execution_count": 32,
     "metadata": {},
     "output_type": "execute_result"
    }
   ],
   "source": [
    "predictors_norm = (predictors - predictors.mean()) / predictors.std()\n",
    "predictors_norm.head()"
   ]
  },
  {
   "cell_type": "markdown",
   "metadata": {},
   "source": [
    "Let's save the number of predictors to *n_cols* since we will need this number when building our network."
   ]
  },
  {
   "cell_type": "code",
   "execution_count": 33,
   "metadata": {
    "button": false,
    "new_sheet": false,
    "run_control": {
     "read_only": false
    }
   },
   "outputs": [
    {
     "name": "stdout",
     "output_type": "stream",
     "text": [
      "8\n"
     ]
    }
   ],
   "source": [
    "n_cols = predictors_norm.shape[1] # number of predictors\n",
    "print(n_cols)"
   ]
  },
  {
   "cell_type": "markdown",
   "metadata": {},
   "source": [
    "### Split the data into training and testing sets"
   ]
  },
  {
   "cell_type": "markdown",
   "metadata": {},
   "source": [
    "let's import `train_test_split` from the `sklearn`"
   ]
  },
  {
   "cell_type": "code",
   "execution_count": 34,
   "metadata": {},
   "outputs": [],
   "source": [
    "from sklearn.model_selection import train_test_split\n",
    "X_train, X_test, y_train, y_test = train_test_split(predictors_norm, target, test_size=0.30, random_state=42)"
   ]
  },
  {
   "cell_type": "markdown",
   "metadata": {
    "button": false,
    "new_sheet": false,
    "run_control": {
     "read_only": false
    }
   },
   "source": [
    "<a id=\"item1\"></a>"
   ]
  },
  {
   "cell_type": "markdown",
   "metadata": {},
   "source": [
    "<a id='item32'></a>"
   ]
  },
  {
   "cell_type": "markdown",
   "metadata": {
    "button": false,
    "new_sheet": false,
    "run_control": {
     "read_only": false
    }
   },
   "source": [
    "## Import Keras"
   ]
  },
  {
   "cell_type": "markdown",
   "metadata": {
    "button": false,
    "new_sheet": false,
    "run_control": {
     "read_only": false
    }
   },
   "source": [
    "Recall from the videos that Keras normally runs on top of a low-level library such as TensorFlow. This means that to be able to use the Keras library, you will have to install TensorFlow first and when you import the Keras library, it will be explicitly displayed what backend was used to install the Keras library. In CC Labs, we used TensorFlow as the backend to install Keras, so it should clearly print that when we import Keras."
   ]
  },
  {
   "cell_type": "markdown",
   "metadata": {
    "button": false,
    "new_sheet": false,
    "run_control": {
     "read_only": false
    }
   },
   "source": [
    "#### Let's go ahead and import the Keras library"
   ]
  },
  {
   "cell_type": "code",
   "execution_count": 35,
   "metadata": {
    "button": false,
    "new_sheet": false,
    "run_control": {
     "read_only": false
    }
   },
   "outputs": [],
   "source": [
    "import keras"
   ]
  },
  {
   "cell_type": "markdown",
   "metadata": {
    "button": false,
    "new_sheet": false,
    "run_control": {
     "read_only": false
    }
   },
   "source": [
    "As you can see, the TensorFlow backend was used to install the Keras library."
   ]
  },
  {
   "cell_type": "markdown",
   "metadata": {
    "button": false,
    "new_sheet": false,
    "run_control": {
     "read_only": false
    }
   },
   "source": [
    "Let's import the rest of the packages from the Keras library that we will need to build our regressoin model."
   ]
  },
  {
   "cell_type": "code",
   "execution_count": 36,
   "metadata": {
    "button": false,
    "new_sheet": false,
    "run_control": {
     "read_only": false
    }
   },
   "outputs": [],
   "source": [
    "from keras.models import Sequential\n",
    "from keras.layers import Dense"
   ]
  },
  {
   "cell_type": "markdown",
   "metadata": {},
   "source": [
    "<a id='item33'></a>"
   ]
  },
  {
   "cell_type": "markdown",
   "metadata": {
    "button": false,
    "new_sheet": false,
    "run_control": {
     "read_only": false
    }
   },
   "source": [
    "## Build a Neural Network"
   ]
  },
  {
   "cell_type": "markdown",
   "metadata": {
    "button": false,
    "new_sheet": false,
    "run_control": {
     "read_only": false
    }
   },
   "source": [
    "Let's define a function that defines our regression model for us so that we can conveniently call it to create our model."
   ]
  },
  {
   "cell_type": "code",
   "execution_count": 37,
   "metadata": {
    "button": false,
    "new_sheet": false,
    "run_control": {
     "read_only": false
    }
   },
   "outputs": [],
   "source": [
    "# define regression model\n",
    "def regression_model():\n",
    "    # create model\n",
    "    model = Sequential()\n",
    "    model.add(Dense(10, activation='relu', input_shape=(n_cols,)))\n",
    "    model.add(Dense(1))\n",
    "    \n",
    "    # compile model\n",
    "    model.compile(optimizer='adam', loss='mean_squared_error')\n",
    "    return model"
   ]
  },
  {
   "cell_type": "markdown",
   "metadata": {},
   "source": [
    "The above function create a model that one hidden layer of 10 hidden units."
   ]
  },
  {
   "cell_type": "markdown",
   "metadata": {
    "button": false,
    "new_sheet": false,
    "run_control": {
     "read_only": false
    }
   },
   "source": [
    "<a id=\"item4\"></a>"
   ]
  },
  {
   "cell_type": "markdown",
   "metadata": {},
   "source": [
    "<a id='item34'></a>"
   ]
  },
  {
   "cell_type": "markdown",
   "metadata": {
    "button": false,
    "new_sheet": false,
    "run_control": {
     "read_only": false
    }
   },
   "source": [
    "## Train and Test the Network"
   ]
  },
  {
   "cell_type": "markdown",
   "metadata": {},
   "source": [
    "Let's call the function now to create our model."
   ]
  },
  {
   "cell_type": "code",
   "execution_count": 38,
   "metadata": {
    "button": false,
    "new_sheet": false,
    "run_control": {
     "read_only": false
    }
   },
   "outputs": [],
   "source": [
    "# build the model\n",
    "model = regression_model()"
   ]
  },
  {
   "cell_type": "markdown",
   "metadata": {},
   "source": [
    "Next, we will train and test the model at the same time using the *fit* method. We will leave out 30% of the data for validation and we will train the model for 100 epochs."
   ]
  },
  {
   "cell_type": "code",
   "execution_count": 39,
   "metadata": {},
   "outputs": [
    {
     "name": "stdout",
     "output_type": "stream",
     "text": [
      "Train on 721 samples, validate on 309 samples\n",
      "Epoch 1/50\n",
      " - 0s - loss: 1700.5557 - val_loss: 1215.6169\n",
      "Epoch 2/50\n",
      " - 0s - loss: 1680.8144 - val_loss: 1202.7256\n",
      "Epoch 3/50\n",
      " - 0s - loss: 1661.0924 - val_loss: 1189.5514\n",
      "Epoch 4/50\n",
      " - 0s - loss: 1641.3187 - val_loss: 1176.2489\n",
      "Epoch 5/50\n",
      " - 0s - loss: 1621.3524 - val_loss: 1162.1527\n",
      "Epoch 6/50\n",
      " - 0s - loss: 1600.6521 - val_loss: 1148.1178\n",
      "Epoch 7/50\n",
      " - 0s - loss: 1579.4603 - val_loss: 1133.0805\n",
      "Epoch 8/50\n",
      " - 0s - loss: 1557.8403 - val_loss: 1117.3261\n",
      "Epoch 9/50\n",
      " - 0s - loss: 1535.2629 - val_loss: 1101.1223\n",
      "Epoch 10/50\n",
      " - 0s - loss: 1511.6676 - val_loss: 1084.4106\n",
      "Epoch 11/50\n",
      " - 0s - loss: 1487.5150 - val_loss: 1066.7524\n",
      "Epoch 12/50\n",
      " - 0s - loss: 1462.0483 - val_loss: 1048.6314\n",
      "Epoch 13/50\n",
      " - 0s - loss: 1435.5078 - val_loss: 1029.4064\n",
      "Epoch 14/50\n",
      " - 0s - loss: 1407.6669 - val_loss: 1009.9414\n",
      "Epoch 15/50\n",
      " - 0s - loss: 1378.3228 - val_loss: 989.7160\n",
      "Epoch 16/50\n",
      " - 0s - loss: 1348.0538 - val_loss: 968.1723\n",
      "Epoch 17/50\n",
      " - 0s - loss: 1316.5779 - val_loss: 947.1289\n",
      "Epoch 18/50\n",
      " - 0s - loss: 1284.0779 - val_loss: 925.3352\n",
      "Epoch 19/50\n",
      " - 0s - loss: 1250.9388 - val_loss: 902.7577\n",
      "Epoch 20/50\n",
      " - 0s - loss: 1216.3097 - val_loss: 880.4385\n",
      "Epoch 21/50\n",
      " - 0s - loss: 1181.6141 - val_loss: 857.9015\n",
      "Epoch 22/50\n",
      " - 0s - loss: 1146.3010 - val_loss: 834.8971\n",
      "Epoch 23/50\n",
      " - 0s - loss: 1110.0495 - val_loss: 811.8189\n",
      "Epoch 24/50\n",
      " - 0s - loss: 1074.0175 - val_loss: 788.8335\n",
      "Epoch 25/50\n",
      " - 0s - loss: 1037.7070 - val_loss: 766.0214\n",
      "Epoch 26/50\n",
      " - 0s - loss: 1000.6703 - val_loss: 742.7662\n",
      "Epoch 27/50\n",
      " - 0s - loss: 963.2283 - val_loss: 719.9828\n",
      "Epoch 28/50\n",
      " - 0s - loss: 926.1891 - val_loss: 697.4486\n",
      "Epoch 29/50\n",
      " - 0s - loss: 888.5931 - val_loss: 674.9854\n",
      "Epoch 30/50\n",
      " - 0s - loss: 851.8647 - val_loss: 652.6477\n",
      "Epoch 31/50\n",
      " - 0s - loss: 814.0163 - val_loss: 631.0357\n",
      "Epoch 32/50\n",
      " - 0s - loss: 777.4099 - val_loss: 609.5805\n",
      "Epoch 33/50\n",
      " - 0s - loss: 741.5421 - val_loss: 588.5131\n",
      "Epoch 34/50\n",
      " - 0s - loss: 705.2826 - val_loss: 568.9946\n",
      "Epoch 35/50\n",
      " - 0s - loss: 671.1005 - val_loss: 549.3992\n",
      "Epoch 36/50\n",
      " - 0s - loss: 637.6668 - val_loss: 530.2751\n",
      "Epoch 37/50\n",
      " - 0s - loss: 604.9422 - val_loss: 512.0189\n",
      "Epoch 38/50\n",
      " - 0s - loss: 573.8982 - val_loss: 494.2311\n",
      "Epoch 39/50\n",
      " - 0s - loss: 544.1184 - val_loss: 477.5034\n",
      "Epoch 40/50\n",
      " - 0s - loss: 516.1195 - val_loss: 461.5344\n",
      "Epoch 41/50\n",
      " - 0s - loss: 489.4236 - val_loss: 446.1898\n",
      "Epoch 42/50\n",
      " - 0s - loss: 464.4017 - val_loss: 432.2218\n",
      "Epoch 43/50\n",
      " - 0s - loss: 441.2445 - val_loss: 418.8197\n",
      "Epoch 44/50\n",
      " - 0s - loss: 419.4853 - val_loss: 406.1966\n",
      "Epoch 45/50\n",
      " - 0s - loss: 399.7044 - val_loss: 395.0913\n",
      "Epoch 46/50\n",
      " - 0s - loss: 380.9908 - val_loss: 383.8679\n",
      "Epoch 47/50\n",
      " - 0s - loss: 363.9301 - val_loss: 373.9034\n",
      "Epoch 48/50\n",
      " - 0s - loss: 348.1655 - val_loss: 365.3052\n",
      "Epoch 49/50\n",
      " - 0s - loss: 334.3666 - val_loss: 356.5293\n",
      "Epoch 50/50\n",
      " - 0s - loss: 321.6204 - val_loss: 348.6305\n"
     ]
    },
    {
     "data": {
      "text/plain": [
       "<keras.callbacks.callbacks.History at 0x19ef9633e08>"
      ]
     },
     "execution_count": 39,
     "metadata": {},
     "output_type": "execute_result"
    }
   ],
   "source": [
    "# fit the model\n",
    "model.fit(predictors_norm, target, validation_split=0.3, epochs=50, verbose=2)"
   ]
  },
  {
   "cell_type": "code",
   "execution_count": 40,
   "metadata": {},
   "outputs": [
    {
     "name": "stdout",
     "output_type": "stream",
     "text": [
      "309/309 [==============================] - 0s 59us/step\n"
     ]
    },
    {
     "data": {
      "text/plain": [
       "328.37767695454716"
      ]
     },
     "execution_count": 40,
     "metadata": {},
     "output_type": "execute_result"
    }
   ],
   "source": [
    "model.evaluate(X_test,y_test, verbose=1)"
   ]
  },
  {
   "cell_type": "markdown",
   "metadata": {},
   "source": [
    "   Now we need to compute the mean squared error between the predicted concrete strength and the actual concrete strength."
   ]
  },
  {
   "cell_type": "markdown",
   "metadata": {},
   "source": [
    "   Let's import the mean_squared_error function from Scikit-learn."
   ]
  },
  {
   "cell_type": "code",
   "execution_count": 41,
   "metadata": {},
   "outputs": [],
   "source": [
    "from sklearn.metrics import mean_squared_error"
   ]
  },
  {
   "cell_type": "code",
   "execution_count": 42,
   "metadata": {},
   "outputs": [],
   "source": [
    "y_pred = model.predict(X_test)"
   ]
  },
  {
   "cell_type": "code",
   "execution_count": 43,
   "metadata": {},
   "outputs": [
    {
     "data": {
      "text/plain": [
       "array([[49.38291  ],\n",
       "       [38.93037  ],\n",
       "       [57.19381  ],\n",
       "       [38.453533 ],\n",
       "       [ 7.839702 ],\n",
       "       [12.464439 ],\n",
       "       [ 2.9849153],\n",
       "       [39.76614  ],\n",
       "       [26.426874 ],\n",
       "       [27.859156 ],\n",
       "       [19.319538 ],\n",
       "       [13.66063  ],\n",
       "       [72.288925 ],\n",
       "       [41.824665 ],\n",
       "       [17.174267 ],\n",
       "       [38.389065 ],\n",
       "       [ 3.7290978],\n",
       "       [24.686314 ],\n",
       "       [13.00355  ],\n",
       "       [ 9.277476 ],\n",
       "       [27.36717  ],\n",
       "       [20.395334 ],\n",
       "       [21.83707  ],\n",
       "       [24.403585 ],\n",
       "       [19.443357 ],\n",
       "       [29.765253 ],\n",
       "       [ 4.553833 ],\n",
       "       [28.594213 ],\n",
       "       [29.866602 ],\n",
       "       [14.838119 ],\n",
       "       [26.20355  ],\n",
       "       [21.78827  ],\n",
       "       [40.47356  ],\n",
       "       [36.303864 ],\n",
       "       [ 8.174399 ],\n",
       "       [38.243214 ],\n",
       "       [24.961575 ],\n",
       "       [12.932574 ],\n",
       "       [13.093652 ],\n",
       "       [18.121466 ],\n",
       "       [ 9.968422 ],\n",
       "       [ 8.381921 ],\n",
       "       [18.232012 ],\n",
       "       [34.080093 ],\n",
       "       [ 5.132879 ],\n",
       "       [43.364895 ],\n",
       "       [33.491272 ],\n",
       "       [48.292507 ],\n",
       "       [12.22611  ],\n",
       "       [16.753347 ],\n",
       "       [31.232088 ],\n",
       "       [26.203478 ],\n",
       "       [ 5.4884787],\n",
       "       [25.680407 ],\n",
       "       [28.14269  ],\n",
       "       [37.046795 ],\n",
       "       [25.518446 ],\n",
       "       [ 5.998162 ],\n",
       "       [22.93933  ],\n",
       "       [ 7.547478 ],\n",
       "       [12.59927  ],\n",
       "       [14.546495 ],\n",
       "       [ 9.863726 ],\n",
       "       [49.915783 ],\n",
       "       [18.584463 ],\n",
       "       [15.624124 ],\n",
       "       [ 7.473763 ],\n",
       "       [11.216132 ],\n",
       "       [ 6.384725 ],\n",
       "       [ 9.385563 ],\n",
       "       [ 7.906976 ],\n",
       "       [13.194014 ],\n",
       "       [ 5.2330947],\n",
       "       [19.261406 ],\n",
       "       [ 5.322637 ],\n",
       "       [ 7.2770066],\n",
       "       [49.8801   ],\n",
       "       [40.359432 ],\n",
       "       [22.232405 ],\n",
       "       [12.930687 ],\n",
       "       [25.257109 ],\n",
       "       [39.51085  ],\n",
       "       [20.570417 ],\n",
       "       [11.825518 ],\n",
       "       [60.40204  ],\n",
       "       [38.453533 ],\n",
       "       [ 9.339882 ],\n",
       "       [ 8.981633 ],\n",
       "       [15.584534 ],\n",
       "       [ 5.6693664],\n",
       "       [16.765394 ],\n",
       "       [51.95985  ],\n",
       "       [20.297464 ],\n",
       "       [33.058308 ],\n",
       "       [15.478901 ],\n",
       "       [41.909966 ],\n",
       "       [21.647474 ],\n",
       "       [11.4111395],\n",
       "       [20.864956 ],\n",
       "       [17.918276 ],\n",
       "       [21.064268 ],\n",
       "       [12.540348 ],\n",
       "       [47.01755  ],\n",
       "       [19.443644 ],\n",
       "       [81.21885  ],\n",
       "       [ 5.059622 ],\n",
       "       [20.74005  ],\n",
       "       [ 8.489236 ],\n",
       "       [26.355047 ],\n",
       "       [40.510715 ],\n",
       "       [44.409214 ],\n",
       "       [29.656254 ],\n",
       "       [37.005188 ],\n",
       "       [25.879448 ],\n",
       "       [25.877405 ],\n",
       "       [36.244007 ],\n",
       "       [16.353392 ],\n",
       "       [13.121477 ],\n",
       "       [31.81434  ],\n",
       "       [15.459873 ],\n",
       "       [25.887974 ],\n",
       "       [11.010775 ],\n",
       "       [29.367186 ],\n",
       "       [19.856205 ],\n",
       "       [ 4.19567  ],\n",
       "       [17.632942 ],\n",
       "       [40.90672  ],\n",
       "       [48.141224 ],\n",
       "       [22.775475 ],\n",
       "       [ 8.591526 ],\n",
       "       [ 5.909529 ],\n",
       "       [26.81798  ],\n",
       "       [ 6.5282197],\n",
       "       [47.292477 ],\n",
       "       [ 6.484306 ],\n",
       "       [52.963978 ],\n",
       "       [14.314909 ],\n",
       "       [16.4808   ],\n",
       "       [20.32443  ],\n",
       "       [22.505947 ],\n",
       "       [21.110199 ],\n",
       "       [ 6.98574  ],\n",
       "       [16.637777 ],\n",
       "       [14.417034 ],\n",
       "       [15.456484 ],\n",
       "       [11.601791 ],\n",
       "       [22.732006 ],\n",
       "       [15.3462305],\n",
       "       [12.8119   ],\n",
       "       [ 9.492562 ],\n",
       "       [27.76407  ],\n",
       "       [17.814564 ],\n",
       "       [29.644724 ],\n",
       "       [20.427397 ],\n",
       "       [27.322199 ],\n",
       "       [12.398991 ],\n",
       "       [ 3.033461 ],\n",
       "       [58.671974 ],\n",
       "       [38.93037  ],\n",
       "       [29.943935 ],\n",
       "       [12.385672 ],\n",
       "       [63.670612 ],\n",
       "       [18.998795 ],\n",
       "       [43.37596  ],\n",
       "       [47.733288 ],\n",
       "       [29.188726 ],\n",
       "       [42.08493  ],\n",
       "       [ 8.857611 ],\n",
       "       [30.40275  ],\n",
       "       [33.211082 ],\n",
       "       [23.223146 ],\n",
       "       [20.012854 ],\n",
       "       [18.767172 ],\n",
       "       [ 7.027267 ],\n",
       "       [15.588709 ],\n",
       "       [ 9.917387 ],\n",
       "       [14.899522 ],\n",
       "       [37.386    ],\n",
       "       [29.982716 ],\n",
       "       [30.937971 ],\n",
       "       [ 5.2845187],\n",
       "       [12.718871 ],\n",
       "       [40.38342  ],\n",
       "       [31.529123 ],\n",
       "       [31.965445 ],\n",
       "       [42.446487 ],\n",
       "       [10.24554  ],\n",
       "       [25.262737 ],\n",
       "       [31.932556 ],\n",
       "       [10.0094795],\n",
       "       [29.374414 ],\n",
       "       [25.11209  ],\n",
       "       [27.318163 ],\n",
       "       [17.955168 ],\n",
       "       [41.874386 ],\n",
       "       [16.545689 ],\n",
       "       [33.652607 ],\n",
       "       [18.188833 ],\n",
       "       [ 2.7577748],\n",
       "       [15.139825 ],\n",
       "       [25.656914 ],\n",
       "       [36.244007 ],\n",
       "       [ 6.954465 ],\n",
       "       [36.984676 ],\n",
       "       [23.226065 ],\n",
       "       [21.300108 ],\n",
       "       [11.489791 ],\n",
       "       [17.325262 ],\n",
       "       [21.753878 ],\n",
       "       [ 7.3208265],\n",
       "       [21.771143 ],\n",
       "       [19.672407 ],\n",
       "       [16.239592 ],\n",
       "       [ 6.0974984],\n",
       "       [22.951607 ],\n",
       "       [ 7.328501 ],\n",
       "       [15.507776 ],\n",
       "       [10.906017 ],\n",
       "       [16.846457 ],\n",
       "       [41.433773 ],\n",
       "       [17.450212 ],\n",
       "       [18.582779 ],\n",
       "       [27.296541 ],\n",
       "       [ 6.6624246],\n",
       "       [28.6434   ],\n",
       "       [29.092878 ],\n",
       "       [14.601103 ],\n",
       "       [ 6.422826 ],\n",
       "       [22.582079 ],\n",
       "       [ 5.034468 ],\n",
       "       [ 8.66817  ],\n",
       "       [19.328104 ],\n",
       "       [23.381226 ],\n",
       "       [22.815882 ],\n",
       "       [31.325308 ],\n",
       "       [27.556143 ],\n",
       "       [39.102917 ],\n",
       "       [37.285084 ],\n",
       "       [19.222675 ],\n",
       "       [15.048047 ],\n",
       "       [37.098488 ],\n",
       "       [36.545197 ],\n",
       "       [60.472965 ],\n",
       "       [ 9.255989 ],\n",
       "       [59.547794 ],\n",
       "       [ 5.5683055],\n",
       "       [46.998264 ],\n",
       "       [ 7.7691293],\n",
       "       [42.911224 ],\n",
       "       [53.13846  ],\n",
       "       [ 7.7888246],\n",
       "       [28.001581 ],\n",
       "       [12.764959 ],\n",
       "       [21.57372  ],\n",
       "       [26.750673 ],\n",
       "       [23.455175 ],\n",
       "       [21.836334 ],\n",
       "       [25.531384 ],\n",
       "       [14.842992 ],\n",
       "       [ 9.854392 ],\n",
       "       [13.367488 ],\n",
       "       [19.045525 ],\n",
       "       [11.396582 ],\n",
       "       [ 2.3790178],\n",
       "       [ 8.588521 ],\n",
       "       [38.77109  ],\n",
       "       [35.441788 ],\n",
       "       [38.292095 ],\n",
       "       [38.605923 ],\n",
       "       [54.6914   ],\n",
       "       [24.85563  ],\n",
       "       [11.749954 ],\n",
       "       [28.564219 ],\n",
       "       [16.599064 ],\n",
       "       [ 7.414718 ],\n",
       "       [47.733288 ],\n",
       "       [41.542915 ],\n",
       "       [28.075806 ],\n",
       "       [41.93876  ],\n",
       "       [ 3.0504065],\n",
       "       [19.266666 ],\n",
       "       [30.510885 ],\n",
       "       [ 6.5595317],\n",
       "       [23.397831 ],\n",
       "       [ 7.2169824],\n",
       "       [18.255438 ],\n",
       "       [30.65912  ],\n",
       "       [14.326099 ],\n",
       "       [39.801178 ],\n",
       "       [61.719936 ],\n",
       "       [22.990435 ],\n",
       "       [ 4.2386727],\n",
       "       [17.744074 ],\n",
       "       [ 9.135826 ],\n",
       "       [10.068366 ],\n",
       "       [22.330276 ],\n",
       "       [11.796377 ],\n",
       "       [27.356623 ],\n",
       "       [20.027325 ],\n",
       "       [16.056908 ],\n",
       "       [19.548178 ],\n",
       "       [13.138576 ],\n",
       "       [50.282898 ],\n",
       "       [45.488537 ],\n",
       "       [ 9.251336 ],\n",
       "       [22.690943 ],\n",
       "       [24.054897 ],\n",
       "       [38.523106 ],\n",
       "       [29.94025  ]], dtype=float32)"
      ]
     },
     "execution_count": 43,
     "metadata": {},
     "output_type": "execute_result"
    }
   ],
   "source": [
    "y_pred"
   ]
  },
  {
   "cell_type": "code",
   "execution_count": 44,
   "metadata": {},
   "outputs": [
    {
     "name": "stdout",
     "output_type": "stream",
     "text": [
      "mse:  328.37768135478797\n"
     ]
    }
   ],
   "source": [
    "mse = mean_squared_error(y_test, y_pred)\n",
    "print('mse: ', mse)"
   ]
  },
  {
   "cell_type": "markdown",
   "metadata": {},
   "source": [
    "Let's create a list of 50 mean squared errors and report mean and the standard deviation of the mean squared errors."
   ]
  },
  {
   "cell_type": "code",
   "execution_count": 45,
   "metadata": {},
   "outputs": [
    {
     "name": "stdout",
     "output_type": "stream",
     "text": [
      "mse 1:  164.46953728438194\n",
      "mse 2:  121.24517219815054\n",
      "mse 3:  96.54527806155504\n",
      "mse 4:  82.33806375546749\n",
      "mse 5:  73.97369036628204\n",
      "mse 6:  66.10248117539489\n",
      "mse 7:  60.7643805939017\n",
      "mse 8:  57.58464881131564\n",
      "mse 9:  55.15423875950687\n",
      "mse 10:  53.375614141569166\n",
      "mse 11:  52.19638630024438\n",
      "mse 12:  50.899725756598905\n",
      "mse 13:  49.95902846006128\n",
      "mse 14:  49.1480870663541\n",
      "mse 15:  48.666696653396954\n",
      "mse 16:  47.844852879595216\n",
      "mse 17:  47.44947804447902\n",
      "mse 18:  46.962125846097386\n",
      "mse 19:  46.30014160304393\n",
      "mse 20:  46.02184430218052\n",
      "mse 21:  45.52631607796382\n",
      "mse 22:  44.998556637069555\n",
      "mse 23:  45.012979921013795\n",
      "mse 24:  44.50098265490486\n",
      "mse 25:  44.369232529575385\n",
      "mse 26:  43.768618784290304\n",
      "mse 27:  44.10201164665346\n",
      "mse 28:  43.392383976661655\n",
      "mse 29:  43.131207771671626\n",
      "mse 30:  43.24155322942148\n",
      "mse 31:  42.96665382385254\n",
      "mse 32:  42.68570678365269\n",
      "mse 33:  42.83995664775564\n",
      "mse 34:  42.41968880193519\n",
      "mse 35:  42.522685560207925\n",
      "mse 36:  42.21399144293035\n",
      "mse 37:  41.998192938400315\n",
      "mse 38:  41.97906594137544\n",
      "mse 39:  42.06003208839392\n",
      "mse 40:  41.79355109007999\n",
      "mse 41:  41.64241251899201\n",
      "mse 42:  41.803753380636564\n",
      "mse 43:  41.38662543806058\n",
      "mse 44:  41.71370515545595\n",
      "mse 45:  41.4083594535161\n",
      "mse 46:  41.45778607859195\n",
      "mse 47:  41.32737799215471\n",
      "mse 48:  41.39297261284393\n",
      "mse 49:  41.13089381838308\n",
      "mse 50:  41.041348219689425\n",
      "Mean :  51.93660247771346\n",
      "Standard Deviation :  21.89570648727471\n"
     ]
    }
   ],
   "source": [
    "n = 50\n",
    "epochs = 50\n",
    "mean_squared_errors = []\n",
    "for i in range(0, n):\n",
    "    X_train, X_test, y_train, y_test = train_test_split(predictors_norm, target, test_size=0.30, random_state=42)\n",
    "    model.fit(X_train, y_train, epochs=epochs, verbose=0)\n",
    "    mse = model.evaluate(X_test, y_test, verbose=0)\n",
    "    print(\"mse \" +str(i+1)+\": \", mse)\n",
    "    y_pred = model.predict(X_test)\n",
    "    mean_square_error = mean_squared_error(y_test, y_pred)\n",
    "    mean_squared_errors.append(mean_square_error)\n",
    "    \n",
    "mean_squared_errors = np.array(mean_squared_errors)\n",
    "mean = np.mean(mean_squared_errors)\n",
    "standard_deviation = np.std(mean_squared_errors)   \n",
    "\n",
    "print(\"Mean : \", mean)\n",
    "print(\"Standard Deviation : \", standard_deviation)"
   ]
  },
  {
   "cell_type": "code",
   "execution_count": 46,
   "metadata": {},
   "outputs": [
    {
     "name": "stdout",
     "output_type": "stream",
     "text": [
      "Below are the mean and standard deviation of 50 mean squared errors of normalized data for 50 epochs\n",
      "Mean :  51.93660247771346\n",
      "Standard Deviation :  21.89570648727471\n"
     ]
    }
   ],
   "source": [
    "print('Below are the mean and standard deviation of 50 mean squared errors of normalized data for 50 epochs')\n",
    "print(\"Mean : \", mean)\n",
    "print(\"Standard Deviation : \", standard_deviation)"
   ]
  },
  {
   "cell_type": "code",
   "execution_count": 47,
   "metadata": {},
   "outputs": [
    {
     "name": "stdout",
     "output_type": "stream",
     "text": [
      "mean squared errors:  [164.46953785 121.24517283  96.54528113  82.33806476  73.97369389\n",
      "  66.10248412  60.76438228  57.58465078  55.15423876  53.37561495\n",
      "  52.19638731  50.89972478  49.9590295   49.14808741  48.66669771\n",
      "  47.84485323  47.44947834  46.96212586  46.30014216  46.02184582\n",
      "  45.52631687  44.99855815  45.01297975  44.5009832   44.36923244\n",
      "  43.7686196   44.10201291  43.39238546  43.131209    43.24155476\n",
      "  42.96665412  42.68570726  42.83995743  42.41968967  42.52268659\n",
      "  42.21399283  41.9981938   41.97906606  42.06003327  41.79355226\n",
      "  41.64241226  41.80375425  41.38662662  41.71370548  41.40836063\n",
      "  41.45778797  41.327379    41.39297389  41.13089546  41.04134939]\n"
     ]
    }
   ],
   "source": [
    "print('mean squared errors: ', mean_squared_errors)"
   ]
  },
  {
   "cell_type": "markdown",
   "metadata": {},
   "source": [
    "The `mean` with predictors_norm data in part B is 51 while it was 54 in part A with predictors data used for training."
   ]
  }
 ],
 "metadata": {
  "kernelspec": {
   "display_name": "Python 3",
   "language": "python",
   "name": "python3"
  },
  "language_info": {
   "codemirror_mode": {
    "name": "ipython",
    "version": 3
   },
   "file_extension": ".py",
   "mimetype": "text/x-python",
   "name": "python",
   "nbconvert_exporter": "python",
   "pygments_lexer": "ipython3",
   "version": "3.7.4"
  }
 },
 "nbformat": 4,
 "nbformat_minor": 4
}
