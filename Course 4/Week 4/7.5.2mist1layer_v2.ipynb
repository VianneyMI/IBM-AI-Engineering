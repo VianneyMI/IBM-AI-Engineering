{
 "cells": [
  {
   "cell_type": "markdown",
   "metadata": {},
   "source": [
    "<a href=\"http://cocl.us/pytorch_link_top\">\n",
    "    <img src=\"https://s3-api.us-geo.objectstorage.softlayer.net/cf-courses-data/CognitiveClass/DL0110EN/notebook_images%20/Pytochtop.png\" width=\"750\" alt=\"IBM Product \" />\n",
    "</a> "
   ]
  },
  {
   "cell_type": "markdown",
   "metadata": {},
   "source": [
    "<img src=\"https://ibm.box.com/shared/static/ugcqz6ohbvff804xp84y4kqnvvk3bq1g.png\" width=\"200\" alt=\"cognitiveclass.ai logo\" />"
   ]
  },
  {
   "cell_type": "markdown",
   "metadata": {},
   "source": [
    "<h1>Test Sigmoid, Tanh, and Relu Activations Functions on the MNIST Dataset</h1>"
   ]
  },
  {
   "cell_type": "markdown",
   "metadata": {},
   "source": [
    "<h2>Table of Contents</h2>\n",
    "<p>In this lab, you will test sigmoid, tanh, and relu activation functions on the MNIST dataset.</p>\n",
    "\n",
    "<ul>\n",
    "    <li><a href=\"#Model\">Neural Network Module and Training Function</a></li>\n",
    "    <li><a href=\"#Makeup_Data\">Make Some Data</a></li>\n",
    "    <li><a href=\"#Train\">Define Several Neural Network, Criterion Function, and Optimizer</a></li>\n",
    "    <li><a href=\"#Test\">Test Sigmoid, Tanh, and Relu</a></li>\n",
    "    <li><a href=\"#Result\">Analyze Results</a></li>\n",
    "</ul>\n",
    "<p></p>\n",
    "Estimated Time Needed: <strong>25 min</strong>\n",
    "</div>\n",
    "\n",
    "<hr>"
   ]
  },
  {
   "cell_type": "markdown",
   "metadata": {},
   "source": [
    "<h2>Preparation</h2>"
   ]
  },
  {
   "cell_type": "code",
   "execution_count": 4,
   "metadata": {},
   "outputs": [
    {
     "name": "stdout",
     "output_type": "stream",
     "text": [
      "Collecting package metadata (current_repodata.json): ...working... done\n",
      "Solving environment: ...working... done\n",
      "\n",
      "## Package Plan ##\n",
      "\n",
      "  environment location: C:\\Users\\viann\\Anaconda3\n",
      "\n",
      "  added / updated specs:\n",
      "    - torchvision\n",
      "\n",
      "\n",
      "The following packages will be downloaded:\n",
      "\n",
      "    package                    |            build\n",
      "    ---------------------------|-----------------\n",
      "    cudatoolkit-10.2.89        |       h74a9793_1       317.2 MB\n",
      "    torchvision-0.6.0          |       py37_cu102         6.4 MB  pytorch\n",
      "    ------------------------------------------------------------\n",
      "                                           Total:       323.7 MB\n",
      "\n",
      "The following NEW packages will be INSTALLED:\n",
      "\n",
      "  cudatoolkit        pkgs/main/win-64::cudatoolkit-10.2.89-h74a9793_1\n",
      "  torchvision        pytorch/win-64::torchvision-0.6.0-py37_cu102\n",
      "\n",
      "\n",
      "\n",
      "Downloading and Extracting Packages\n",
      "\n",
      "cudatoolkit-10.2.89  | 317.2 MB  |            |   0% \n",
      "cudatoolkit-10.2.89  | 317.2 MB  |            |   0% \n",
      "cudatoolkit-10.2.89  | 317.2 MB  |            |   0% \n",
      "cudatoolkit-10.2.89  | 317.2 MB  |            |   1% \n",
      "cudatoolkit-10.2.89  | 317.2 MB  |            |   1% \n",
      "cudatoolkit-10.2.89  | 317.2 MB  | 1          |   1% \n",
      "cudatoolkit-10.2.89  | 317.2 MB  | 1          |   2% \n",
      "cudatoolkit-10.2.89  | 317.2 MB  | 1          |   2% \n",
      "cudatoolkit-10.2.89  | 317.2 MB  | 2          |   2% \n",
      "cudatoolkit-10.2.89  | 317.2 MB  | 2          |   2% \n",
      "cudatoolkit-10.2.89  | 317.2 MB  | 2          |   3% \n",
      "cudatoolkit-10.2.89  | 317.2 MB  | 3          |   3% \n",
      "cudatoolkit-10.2.89  | 317.2 MB  | 3          |   3% \n",
      "cudatoolkit-10.2.89  | 317.2 MB  | 3          |   4% \n",
      "cudatoolkit-10.2.89  | 317.2 MB  | 4          |   4% \n",
      "cudatoolkit-10.2.89  | 317.2 MB  | 4          |   4% \n",
      "cudatoolkit-10.2.89  | 317.2 MB  | 4          |   5% \n",
      "cudatoolkit-10.2.89  | 317.2 MB  | 5          |   5% \n",
      "cudatoolkit-10.2.89  | 317.2 MB  | 5          |   6% \n",
      "cudatoolkit-10.2.89  | 317.2 MB  | 5          |   6% \n",
      "cudatoolkit-10.2.89  | 317.2 MB  | 6          |   6% \n",
      "cudatoolkit-10.2.89  | 317.2 MB  | 6          |   7% \n",
      "cudatoolkit-10.2.89  | 317.2 MB  | 6          |   7% \n",
      "cudatoolkit-10.2.89  | 317.2 MB  | 7          |   7% \n",
      "cudatoolkit-10.2.89  | 317.2 MB  | 7          |   8% \n",
      "cudatoolkit-10.2.89  | 317.2 MB  | 8          |   8% \n",
      "cudatoolkit-10.2.89  | 317.2 MB  | 8          |   8% \n",
      "cudatoolkit-10.2.89  | 317.2 MB  | 8          |   9% \n",
      "cudatoolkit-10.2.89  | 317.2 MB  | 9          |   9% \n",
      "cudatoolkit-10.2.89  | 317.2 MB  | 9          |  10% \n",
      "cudatoolkit-10.2.89  | 317.2 MB  | 9          |  10% \n",
      "cudatoolkit-10.2.89  | 317.2 MB  | #          |  10% \n",
      "cudatoolkit-10.2.89  | 317.2 MB  | #          |  11% \n",
      "cudatoolkit-10.2.89  | 317.2 MB  | #1         |  11% \n",
      "cudatoolkit-10.2.89  | 317.2 MB  | #1         |  11% \n",
      "cudatoolkit-10.2.89  | 317.2 MB  | #1         |  12% \n",
      "cudatoolkit-10.2.89  | 317.2 MB  | #2         |  12% \n",
      "cudatoolkit-10.2.89  | 317.2 MB  | #2         |  12% \n",
      "cudatoolkit-10.2.89  | 317.2 MB  | #2         |  13% \n",
      "cudatoolkit-10.2.89  | 317.2 MB  | #3         |  13% \n",
      "cudatoolkit-10.2.89  | 317.2 MB  | #3         |  14% \n",
      "cudatoolkit-10.2.89  | 317.2 MB  | #3         |  14% \n",
      "cudatoolkit-10.2.89  | 317.2 MB  | #4         |  14% \n",
      "cudatoolkit-10.2.89  | 317.2 MB  | #4         |  15% \n",
      "cudatoolkit-10.2.89  | 317.2 MB  | #4         |  15% \n",
      "cudatoolkit-10.2.89  | 317.2 MB  | #5         |  15% \n",
      "cudatoolkit-10.2.89  | 317.2 MB  | #5         |  15% \n",
      "cudatoolkit-10.2.89  | 317.2 MB  | #5         |  16% \n",
      "cudatoolkit-10.2.89  | 317.2 MB  | #5         |  16% \n",
      "cudatoolkit-10.2.89  | 317.2 MB  | #6         |  16% \n",
      "cudatoolkit-10.2.89  | 317.2 MB  | #6         |  16% \n",
      "cudatoolkit-10.2.89  | 317.2 MB  | #6         |  17% \n",
      "cudatoolkit-10.2.89  | 317.2 MB  | #7         |  17% \n",
      "cudatoolkit-10.2.89  | 317.2 MB  | #7         |  17% \n",
      "cudatoolkit-10.2.89  | 317.2 MB  | #7         |  18% \n",
      "cudatoolkit-10.2.89  | 317.2 MB  | #7         |  18% \n",
      "cudatoolkit-10.2.89  | 317.2 MB  | #8         |  18% \n",
      "cudatoolkit-10.2.89  | 317.2 MB  | #8         |  18% \n",
      "cudatoolkit-10.2.89  | 317.2 MB  | #8         |  19% \n",
      "cudatoolkit-10.2.89  | 317.2 MB  | #8         |  19% \n",
      "cudatoolkit-10.2.89  | 317.2 MB  | #9         |  19% \n",
      "cudatoolkit-10.2.89  | 317.2 MB  | #9         |  19% \n",
      "cudatoolkit-10.2.89  | 317.2 MB  | #9         |  20% \n",
      "cudatoolkit-10.2.89  | 317.2 MB  | #9         |  20% \n",
      "cudatoolkit-10.2.89  | 317.2 MB  | #9         |  20% \n",
      "cudatoolkit-10.2.89  | 317.2 MB  | ##         |  20% \n",
      "cudatoolkit-10.2.89  | 317.2 MB  | ##         |  20% \n",
      "cudatoolkit-10.2.89  | 317.2 MB  | ##         |  21% \n",
      "cudatoolkit-10.2.89  | 317.2 MB  | ##         |  21% \n",
      "cudatoolkit-10.2.89  | 317.2 MB  | ##1        |  21% \n",
      "cudatoolkit-10.2.89  | 317.2 MB  | ##1        |  21% \n",
      "cudatoolkit-10.2.89  | 317.2 MB  | ##1        |  22% \n",
      "cudatoolkit-10.2.89  | 317.2 MB  | ##1        |  22% \n",
      "cudatoolkit-10.2.89  | 317.2 MB  | ##2        |  22% \n",
      "cudatoolkit-10.2.89  | 317.2 MB  | ##2        |  22% \n",
      "cudatoolkit-10.2.89  | 317.2 MB  | ##2        |  23% \n",
      "cudatoolkit-10.2.89  | 317.2 MB  | ##2        |  23% \n",
      "cudatoolkit-10.2.89  | 317.2 MB  | ##3        |  23% \n",
      "cudatoolkit-10.2.89  | 317.2 MB  | ##3        |  23% \n",
      "cudatoolkit-10.2.89  | 317.2 MB  | ##3        |  24% \n",
      "cudatoolkit-10.2.89  | 317.2 MB  | ##3        |  24% \n",
      "cudatoolkit-10.2.89  | 317.2 MB  | ##4        |  24% \n",
      "cudatoolkit-10.2.89  | 317.2 MB  | ##4        |  24% \n",
      "cudatoolkit-10.2.89  | 317.2 MB  | ##4        |  25% \n",
      "cudatoolkit-10.2.89  | 317.2 MB  | ##4        |  25% \n",
      "cudatoolkit-10.2.89  | 317.2 MB  | ##5        |  25% \n",
      "cudatoolkit-10.2.89  | 317.2 MB  | ##5        |  25% \n",
      "cudatoolkit-10.2.89  | 317.2 MB  | ##5        |  26% \n",
      "cudatoolkit-10.2.89  | 317.2 MB  | ##5        |  26% \n",
      "cudatoolkit-10.2.89  | 317.2 MB  | ##6        |  26% \n",
      "cudatoolkit-10.2.89  | 317.2 MB  | ##6        |  26% \n",
      "cudatoolkit-10.2.89  | 317.2 MB  | ##6        |  27% \n",
      "cudatoolkit-10.2.89  | 317.2 MB  | ##6        |  27% \n",
      "cudatoolkit-10.2.89  | 317.2 MB  | ##7        |  27% \n",
      "cudatoolkit-10.2.89  | 317.2 MB  | ##7        |  27% \n",
      "cudatoolkit-10.2.89  | 317.2 MB  | ##7        |  28% \n",
      "cudatoolkit-10.2.89  | 317.2 MB  | ##7        |  28% \n",
      "cudatoolkit-10.2.89  | 317.2 MB  | ##8        |  28% \n",
      "cudatoolkit-10.2.89  | 317.2 MB  | ##8        |  29% \n",
      "cudatoolkit-10.2.89  | 317.2 MB  | ##8        |  29% \n",
      "cudatoolkit-10.2.89  | 317.2 MB  | ##9        |  29% \n",
      "cudatoolkit-10.2.89  | 317.2 MB  | ##9        |  29% \n",
      "cudatoolkit-10.2.89  | 317.2 MB  | ##9        |  30% \n",
      "cudatoolkit-10.2.89  | 317.2 MB  | ###        |  30% \n",
      "cudatoolkit-10.2.89  | 317.2 MB  | ###        |  30% \n",
      "cudatoolkit-10.2.89  | 317.2 MB  | ###        |  31% \n",
      "cudatoolkit-10.2.89  | 317.2 MB  | ###1       |  31% \n",
      "cudatoolkit-10.2.89  | 317.2 MB  | ###1       |  31% \n",
      "cudatoolkit-10.2.89  | 317.2 MB  | ###1       |  32% \n",
      "cudatoolkit-10.2.89  | 317.2 MB  | ###2       |  32% \n",
      "cudatoolkit-10.2.89  | 317.2 MB  | ###2       |  32% \n",
      "cudatoolkit-10.2.89  | 317.2 MB  | ###2       |  33% \n",
      "cudatoolkit-10.2.89  | 317.2 MB  | ###3       |  33% \n",
      "cudatoolkit-10.2.89  | 317.2 MB  | ###3       |  33% \n",
      "cudatoolkit-10.2.89  | 317.2 MB  | ###3       |  34% \n",
      "cudatoolkit-10.2.89  | 317.2 MB  | ###4       |  34% \n",
      "cudatoolkit-10.2.89  | 317.2 MB  | ###4       |  34% \n",
      "cudatoolkit-10.2.89  | 317.2 MB  | ###4       |  35% \n",
      "cudatoolkit-10.2.89  | 317.2 MB  | ###4       |  35% \n",
      "cudatoolkit-10.2.89  | 317.2 MB  | ###5       |  35% \n",
      "cudatoolkit-10.2.89  | 317.2 MB  | ###5       |  35% \n",
      "cudatoolkit-10.2.89  | 317.2 MB  | ###5       |  36% \n",
      "cudatoolkit-10.2.89  | 317.2 MB  | ###5       |  36% \n",
      "cudatoolkit-10.2.89  | 317.2 MB  | ###6       |  36% \n",
      "cudatoolkit-10.2.89  | 317.2 MB  | ###6       |  36% \n",
      "cudatoolkit-10.2.89  | 317.2 MB  | ###6       |  36% \n",
      "cudatoolkit-10.2.89  | 317.2 MB  | ###6       |  37% \n",
      "cudatoolkit-10.2.89  | 317.2 MB  | ###6       |  37% \n",
      "cudatoolkit-10.2.89  | 317.2 MB  | ###7       |  37% \n",
      "cudatoolkit-10.2.89  | 317.2 MB  | ###7       |  37% \n",
      "cudatoolkit-10.2.89  | 317.2 MB  | ###7       |  38% \n",
      "cudatoolkit-10.2.89  | 317.2 MB  | ###7       |  38% \n",
      "cudatoolkit-10.2.89  | 317.2 MB  | ###8       |  38% \n",
      "cudatoolkit-10.2.89  | 317.2 MB  | ###8       |  38% \n",
      "cudatoolkit-10.2.89  | 317.2 MB  | ###8       |  39% \n"
     ]
    },
    {
     "name": "stdout",
     "output_type": "stream",
     "text": [
      "cudatoolkit-10.2.89  | 317.2 MB  | ###8       |  39% \n",
      "cudatoolkit-10.2.89  | 317.2 MB  | ###9       |  39% \n",
      "cudatoolkit-10.2.89  | 317.2 MB  | ###9       |  39% \n",
      "cudatoolkit-10.2.89  | 317.2 MB  | ###9       |  40% \n",
      "cudatoolkit-10.2.89  | 317.2 MB  | ###9       |  40% \n",
      "cudatoolkit-10.2.89  | 317.2 MB  | ####       |  40% \n",
      "cudatoolkit-10.2.89  | 317.2 MB  | ####       |  40% \n",
      "cudatoolkit-10.2.89  | 317.2 MB  | ####       |  41% \n",
      "cudatoolkit-10.2.89  | 317.2 MB  | ####       |  41% \n",
      "cudatoolkit-10.2.89  | 317.2 MB  | ####1      |  41% \n",
      "cudatoolkit-10.2.89  | 317.2 MB  | ####1      |  42% \n",
      "cudatoolkit-10.2.89  | 317.2 MB  | ####1      |  42% \n",
      "cudatoolkit-10.2.89  | 317.2 MB  | ####2      |  42% \n",
      "cudatoolkit-10.2.89  | 317.2 MB  | ####2      |  43% \n",
      "cudatoolkit-10.2.89  | 317.2 MB  | ####2      |  43% \n",
      "cudatoolkit-10.2.89  | 317.2 MB  | ####3      |  43% \n",
      "cudatoolkit-10.2.89  | 317.2 MB  | ####3      |  44% \n",
      "cudatoolkit-10.2.89  | 317.2 MB  | ####3      |  44% \n",
      "cudatoolkit-10.2.89  | 317.2 MB  | ####4      |  44% \n",
      "cudatoolkit-10.2.89  | 317.2 MB  | ####4      |  45% \n",
      "cudatoolkit-10.2.89  | 317.2 MB  | ####4      |  45% \n",
      "cudatoolkit-10.2.89  | 317.2 MB  | ####5      |  45% \n",
      "cudatoolkit-10.2.89  | 317.2 MB  | ####5      |  46% \n",
      "cudatoolkit-10.2.89  | 317.2 MB  | ####5      |  46% \n",
      "cudatoolkit-10.2.89  | 317.2 MB  | ####6      |  46% \n",
      "cudatoolkit-10.2.89  | 317.2 MB  | ####6      |  47% \n",
      "cudatoolkit-10.2.89  | 317.2 MB  | ####6      |  47% \n",
      "cudatoolkit-10.2.89  | 317.2 MB  | ####7      |  47% \n",
      "cudatoolkit-10.2.89  | 317.2 MB  | ####7      |  48% \n",
      "cudatoolkit-10.2.89  | 317.2 MB  | ####7      |  48% \n",
      "cudatoolkit-10.2.89  | 317.2 MB  | ####8      |  48% \n",
      "cudatoolkit-10.2.89  | 317.2 MB  | ####8      |  49% \n",
      "cudatoolkit-10.2.89  | 317.2 MB  | ####8      |  49% \n",
      "cudatoolkit-10.2.89  | 317.2 MB  | ####9      |  49% \n",
      "cudatoolkit-10.2.89  | 317.2 MB  | ####9      |  50% \n",
      "cudatoolkit-10.2.89  | 317.2 MB  | ####9      |  50% \n",
      "cudatoolkit-10.2.89  | 317.2 MB  | #####      |  50% \n",
      "cudatoolkit-10.2.89  | 317.2 MB  | #####      |  51% \n",
      "cudatoolkit-10.2.89  | 317.2 MB  | #####      |  51% \n",
      "cudatoolkit-10.2.89  | 317.2 MB  | #####1     |  51% \n",
      "cudatoolkit-10.2.89  | 317.2 MB  | #####1     |  52% \n",
      "cudatoolkit-10.2.89  | 317.2 MB  | #####1     |  52% \n",
      "cudatoolkit-10.2.89  | 317.2 MB  | #####2     |  52% \n",
      "cudatoolkit-10.2.89  | 317.2 MB  | #####2     |  53% \n",
      "cudatoolkit-10.2.89  | 317.2 MB  | #####2     |  53% \n",
      "cudatoolkit-10.2.89  | 317.2 MB  | #####3     |  53% \n",
      "cudatoolkit-10.2.89  | 317.2 MB  | #####3     |  54% \n",
      "cudatoolkit-10.2.89  | 317.2 MB  | #####3     |  54% \n",
      "cudatoolkit-10.2.89  | 317.2 MB  | #####4     |  54% \n",
      "cudatoolkit-10.2.89  | 317.2 MB  | #####4     |  54% \n",
      "cudatoolkit-10.2.89  | 317.2 MB  | #####4     |  55% \n",
      "cudatoolkit-10.2.89  | 317.2 MB  | #####5     |  55% \n",
      "cudatoolkit-10.2.89  | 317.2 MB  | #####5     |  55% \n",
      "cudatoolkit-10.2.89  | 317.2 MB  | #####5     |  56% \n",
      "cudatoolkit-10.2.89  | 317.2 MB  | #####6     |  56% \n",
      "cudatoolkit-10.2.89  | 317.2 MB  | #####6     |  56% \n",
      "cudatoolkit-10.2.89  | 317.2 MB  | #####6     |  57% \n",
      "cudatoolkit-10.2.89  | 317.2 MB  | #####7     |  57% \n",
      "cudatoolkit-10.2.89  | 317.2 MB  | #####7     |  57% \n",
      "cudatoolkit-10.2.89  | 317.2 MB  | #####7     |  58% \n",
      "cudatoolkit-10.2.89  | 317.2 MB  | #####7     |  58% \n",
      "cudatoolkit-10.2.89  | 317.2 MB  | #####8     |  58% \n",
      "cudatoolkit-10.2.89  | 317.2 MB  | #####8     |  59% \n",
      "cudatoolkit-10.2.89  | 317.2 MB  | #####8     |  59% \n",
      "cudatoolkit-10.2.89  | 317.2 MB  | #####9     |  59% \n",
      "cudatoolkit-10.2.89  | 317.2 MB  | #####9     |  60% \n",
      "cudatoolkit-10.2.89  | 317.2 MB  | #####9     |  60% \n",
      "cudatoolkit-10.2.89  | 317.2 MB  | ######     |  60% \n",
      "cudatoolkit-10.2.89  | 317.2 MB  | ######     |  61% \n",
      "cudatoolkit-10.2.89  | 317.2 MB  | ######     |  61% \n",
      "cudatoolkit-10.2.89  | 317.2 MB  | ######1    |  61% \n",
      "cudatoolkit-10.2.89  | 317.2 MB  | ######1    |  62% \n",
      "cudatoolkit-10.2.89  | 317.2 MB  | ######1    |  62% \n",
      "cudatoolkit-10.2.89  | 317.2 MB  | ######2    |  62% \n",
      "cudatoolkit-10.2.89  | 317.2 MB  | ######2    |  62% \n",
      "cudatoolkit-10.2.89  | 317.2 MB  | ######2    |  63% \n",
      "cudatoolkit-10.2.89  | 317.2 MB  | ######3    |  63% \n",
      "cudatoolkit-10.2.89  | 317.2 MB  | ######3    |  63% \n",
      "cudatoolkit-10.2.89  | 317.2 MB  | ######3    |  64% \n",
      "cudatoolkit-10.2.89  | 317.2 MB  | ######4    |  64% \n",
      "cudatoolkit-10.2.89  | 317.2 MB  | ######4    |  64% \n",
      "cudatoolkit-10.2.89  | 317.2 MB  | ######4    |  65% \n",
      "cudatoolkit-10.2.89  | 317.2 MB  | ######5    |  65% \n",
      "cudatoolkit-10.2.89  | 317.2 MB  | ######5    |  65% \n",
      "cudatoolkit-10.2.89  | 317.2 MB  | ######5    |  66% \n",
      "cudatoolkit-10.2.89  | 317.2 MB  | ######5    |  66% \n",
      "cudatoolkit-10.2.89  | 317.2 MB  | ######6    |  66% \n",
      "cudatoolkit-10.2.89  | 317.2 MB  | ######6    |  67% \n",
      "cudatoolkit-10.2.89  | 317.2 MB  | ######6    |  67% \n",
      "cudatoolkit-10.2.89  | 317.2 MB  | ######7    |  67% \n",
      "cudatoolkit-10.2.89  | 317.2 MB  | ######7    |  68% \n",
      "cudatoolkit-10.2.89  | 317.2 MB  | ######7    |  68% \n",
      "cudatoolkit-10.2.89  | 317.2 MB  | ######8    |  68% \n",
      "cudatoolkit-10.2.89  | 317.2 MB  | ######8    |  68% \n",
      "cudatoolkit-10.2.89  | 317.2 MB  | ######8    |  69% \n",
      "cudatoolkit-10.2.89  | 317.2 MB  | ######9    |  69% \n",
      "cudatoolkit-10.2.89  | 317.2 MB  | ######9    |  69% \n",
      "cudatoolkit-10.2.89  | 317.2 MB  | ######9    |  70% \n",
      "cudatoolkit-10.2.89  | 317.2 MB  | ######9    |  70% \n",
      "cudatoolkit-10.2.89  | 317.2 MB  | #######    |  70% \n",
      "cudatoolkit-10.2.89  | 317.2 MB  | #######    |  71% \n",
      "cudatoolkit-10.2.89  | 317.2 MB  | #######    |  71% \n",
      "cudatoolkit-10.2.89  | 317.2 MB  | #######    |  71% \n",
      "cudatoolkit-10.2.89  | 317.2 MB  | #######1   |  71% \n",
      "cudatoolkit-10.2.89  | 317.2 MB  | #######1   |  71% \n",
      "cudatoolkit-10.2.89  | 317.2 MB  | #######1   |  72% \n",
      "cudatoolkit-10.2.89  | 317.2 MB  | #######1   |  72% \n",
      "cudatoolkit-10.2.89  | 317.2 MB  | #######2   |  72% \n",
      "cudatoolkit-10.2.89  | 317.2 MB  | #######2   |  73% \n",
      "cudatoolkit-10.2.89  | 317.2 MB  | #######2   |  73% \n",
      "cudatoolkit-10.2.89  | 317.2 MB  | #######3   |  73% \n",
      "cudatoolkit-10.2.89  | 317.2 MB  | #######3   |  73% \n",
      "cudatoolkit-10.2.89  | 317.2 MB  | #######3   |  73% \n",
      "cudatoolkit-10.2.89  | 317.2 MB  | #######3   |  74% \n",
      "cudatoolkit-10.2.89  | 317.2 MB  | #######3   |  74% \n",
      "cudatoolkit-10.2.89  | 317.2 MB  | #######4   |  74% \n",
      "cudatoolkit-10.2.89  | 317.2 MB  | #######4   |  75% \n",
      "cudatoolkit-10.2.89  | 317.2 MB  | #######4   |  75% \n",
      "cudatoolkit-10.2.89  | 317.2 MB  | #######5   |  75% \n",
      "cudatoolkit-10.2.89  | 317.2 MB  | #######5   |  75% \n",
      "cudatoolkit-10.2.89  | 317.2 MB  | #######5   |  76% \n",
      "cudatoolkit-10.2.89  | 317.2 MB  | #######5   |  76% \n",
      "cudatoolkit-10.2.89  | 317.2 MB  | #######6   |  76% \n",
      "cudatoolkit-10.2.89  | 317.2 MB  | #######6   |  76% \n",
      "cudatoolkit-10.2.89  | 317.2 MB  | #######6   |  77% \n",
      "cudatoolkit-10.2.89  | 317.2 MB  | #######6   |  77% \n",
      "cudatoolkit-10.2.89  | 317.2 MB  | #######7   |  77% \n",
      "cudatoolkit-10.2.89  | 317.2 MB  | #######7   |  77% \n",
      "cudatoolkit-10.2.89  | 317.2 MB  | #######7   |  78% \n",
      "cudatoolkit-10.2.89  | 317.2 MB  | #######7   |  78% \n",
      "cudatoolkit-10.2.89  | 317.2 MB  | #######8   |  78% \n",
      "cudatoolkit-10.2.89  | 317.2 MB  | #######8   |  78% \n",
      "cudatoolkit-10.2.89  | 317.2 MB  | #######8   |  79% \n",
      "cudatoolkit-10.2.89  | 317.2 MB  | #######8   |  79% \n",
      "cudatoolkit-10.2.89  | 317.2 MB  | #######9   |  79% \n",
      "cudatoolkit-10.2.89  | 317.2 MB  | #######9   |  80% \n",
      "cudatoolkit-10.2.89  | 317.2 MB  | #######9   |  80% \n",
      "cudatoolkit-10.2.89  | 317.2 MB  | ########   |  80% \n",
      "cudatoolkit-10.2.89  | 317.2 MB  | ########   |  81% \n",
      "cudatoolkit-10.2.89  | 317.2 MB  | ########   |  81% \n",
      "cudatoolkit-10.2.89  | 317.2 MB  | ########1  |  81% \n",
      "cudatoolkit-10.2.89  | 317.2 MB  | ########1  |  81% \n",
      "cudatoolkit-10.2.89  | 317.2 MB  | ########1  |  82% \n",
      "cudatoolkit-10.2.89  | 317.2 MB  | ########1  |  82% \n",
      "cudatoolkit-10.2.89  | 317.2 MB  | ########2  |  82% \n",
      "cudatoolkit-10.2.89  | 317.2 MB  | ########2  |  83% \n",
      "cudatoolkit-10.2.89  | 317.2 MB  | ########2  |  83% \n",
      "cudatoolkit-10.2.89  | 317.2 MB  | ########3  |  83% \n",
      "cudatoolkit-10.2.89  | 317.2 MB  | ########3  |  83% \n",
      "cudatoolkit-10.2.89  | 317.2 MB  | ########3  |  84% \n",
      "cudatoolkit-10.2.89  | 317.2 MB  | ########4  |  84% \n"
     ]
    },
    {
     "name": "stdout",
     "output_type": "stream",
     "text": [
      "cudatoolkit-10.2.89  | 317.2 MB  | ########4  |  84% \n",
      "cudatoolkit-10.2.89  | 317.2 MB  | ########4  |  85% \n",
      "cudatoolkit-10.2.89  | 317.2 MB  | ########4  |  85% \n",
      "cudatoolkit-10.2.89  | 317.2 MB  | ########5  |  85% \n",
      "cudatoolkit-10.2.89  | 317.2 MB  | ########5  |  85% \n",
      "cudatoolkit-10.2.89  | 317.2 MB  | ########5  |  85% \n",
      "cudatoolkit-10.2.89  | 317.2 MB  | ########5  |  86% \n",
      "cudatoolkit-10.2.89  | 317.2 MB  | ########5  |  86% \n",
      "cudatoolkit-10.2.89  | 317.2 MB  | ########6  |  86% \n",
      "cudatoolkit-10.2.89  | 317.2 MB  | ########6  |  86% \n",
      "cudatoolkit-10.2.89  | 317.2 MB  | ########6  |  86% \n",
      "cudatoolkit-10.2.89  | 317.2 MB  | ########6  |  87% \n",
      "cudatoolkit-10.2.89  | 317.2 MB  | ########6  |  87% \n",
      "cudatoolkit-10.2.89  | 317.2 MB  | ########6  |  87% \n",
      "cudatoolkit-10.2.89  | 317.2 MB  | ########7  |  87% \n",
      "cudatoolkit-10.2.89  | 317.2 MB  | ########7  |  87% \n",
      "cudatoolkit-10.2.89  | 317.2 MB  | ########7  |  87% \n",
      "cudatoolkit-10.2.89  | 317.2 MB  | ########7  |  88% \n",
      "cudatoolkit-10.2.89  | 317.2 MB  | ########7  |  88% \n",
      "cudatoolkit-10.2.89  | 317.2 MB  | ########8  |  88% \n",
      "cudatoolkit-10.2.89  | 317.2 MB  | ########8  |  88% \n",
      "cudatoolkit-10.2.89  | 317.2 MB  | ########8  |  89% \n",
      "cudatoolkit-10.2.89  | 317.2 MB  | ########9  |  89% \n",
      "cudatoolkit-10.2.89  | 317.2 MB  | ########9  |  89% \n",
      "cudatoolkit-10.2.89  | 317.2 MB  | ########9  |  90% \n",
      "cudatoolkit-10.2.89  | 317.2 MB  | #########  |  90% \n",
      "cudatoolkit-10.2.89  | 317.2 MB  | #########  |  90% \n",
      "cudatoolkit-10.2.89  | 317.2 MB  | #########  |  91% \n",
      "cudatoolkit-10.2.89  | 317.2 MB  | #########1 |  91% \n",
      "cudatoolkit-10.2.89  | 317.2 MB  | #########1 |  91% \n",
      "cudatoolkit-10.2.89  | 317.2 MB  | #########1 |  92% \n",
      "cudatoolkit-10.2.89  | 317.2 MB  | #########2 |  92% \n",
      "cudatoolkit-10.2.89  | 317.2 MB  | #########2 |  92% \n",
      "cudatoolkit-10.2.89  | 317.2 MB  | #########2 |  93% \n",
      "cudatoolkit-10.2.89  | 317.2 MB  | #########3 |  93% \n",
      "cudatoolkit-10.2.89  | 317.2 MB  | #########3 |  93% \n",
      "cudatoolkit-10.2.89  | 317.2 MB  | #########3 |  94% \n",
      "cudatoolkit-10.2.89  | 317.2 MB  | #########4 |  94% \n",
      "cudatoolkit-10.2.89  | 317.2 MB  | #########4 |  95% \n",
      "cudatoolkit-10.2.89  | 317.2 MB  | #########4 |  95% \n",
      "cudatoolkit-10.2.89  | 317.2 MB  | #########5 |  95% \n",
      "cudatoolkit-10.2.89  | 317.2 MB  | #########5 |  95% \n",
      "cudatoolkit-10.2.89  | 317.2 MB  | #########5 |  96% \n",
      "cudatoolkit-10.2.89  | 317.2 MB  | #########5 |  96% \n",
      "cudatoolkit-10.2.89  | 317.2 MB  | #########6 |  96% \n",
      "cudatoolkit-10.2.89  | 317.2 MB  | #########6 |  97% \n",
      "cudatoolkit-10.2.89  | 317.2 MB  | #########6 |  97% \n",
      "cudatoolkit-10.2.89  | 317.2 MB  | #########7 |  97% \n",
      "cudatoolkit-10.2.89  | 317.2 MB  | #########7 |  98% \n",
      "cudatoolkit-10.2.89  | 317.2 MB  | #########7 |  98% \n",
      "cudatoolkit-10.2.89  | 317.2 MB  | #########8 |  98% \n",
      "cudatoolkit-10.2.89  | 317.2 MB  | #########8 |  99% \n",
      "cudatoolkit-10.2.89  | 317.2 MB  | #########9 |  99% \n",
      "cudatoolkit-10.2.89  | 317.2 MB  | #########9 |  99% \n",
      "cudatoolkit-10.2.89  | 317.2 MB  | #########9 | 100% \n",
      "cudatoolkit-10.2.89  | 317.2 MB  | ########## | 100% \n",
      "\n",
      "torchvision-0.6.0    | 6.4 MB    |            |   0% \n",
      "torchvision-0.6.0    | 6.4 MB    |            |   0% \n",
      "torchvision-0.6.0    | 6.4 MB    |            |   1% \n",
      "torchvision-0.6.0    | 6.4 MB    | 2          |   3% \n",
      "torchvision-0.6.0    | 6.4 MB    | 5          |   6% \n",
      "torchvision-0.6.0    | 6.4 MB    | 9          |  10% \n",
      "torchvision-0.6.0    | 6.4 MB    | #8         |  18% \n",
      "torchvision-0.6.0    | 6.4 MB    | ##7        |  28% \n",
      "torchvision-0.6.0    | 6.4 MB    | ####       |  40% \n",
      "torchvision-0.6.0    | 6.4 MB    | #####2     |  52% \n",
      "torchvision-0.6.0    | 6.4 MB    | ######4    |  64% \n",
      "torchvision-0.6.0    | 6.4 MB    | #######7   |  78% \n",
      "torchvision-0.6.0    | 6.4 MB    | ########8  |  88% \n",
      "torchvision-0.6.0    | 6.4 MB    | ########## | 100% \n",
      "Preparing transaction: ...working... done\n",
      "Verifying transaction: ...working... done\n",
      "Executing transaction: ...working... done\n"
     ]
    }
   ],
   "source": [
    "# Using the following line code to install the torchvision library\n",
    "!conda install -y torchvision -c pytorch"
   ]
  },
  {
   "cell_type": "markdown",
   "metadata": {},
   "source": [
    "We'll need the following libraries"
   ]
  },
  {
   "cell_type": "code",
   "execution_count": 5,
   "metadata": {},
   "outputs": [],
   "source": [
    "# Import the libraries we need for this lab\n",
    "\n",
    "\n",
    "\n",
    "import torch \n",
    "import torch.nn as nn\n",
    "import torchvision.transforms as transforms\n",
    "import torchvision.datasets as dsets\n",
    "\n",
    "import matplotlib.pylab as plt\n",
    "import numpy as np"
   ]
  },
  {
   "cell_type": "markdown",
   "metadata": {},
   "source": [
    "<!--Empty Space for separating topics-->"
   ]
  },
  {
   "cell_type": "markdown",
   "metadata": {},
   "source": [
    "<h2 id=\"Model\">Neural Network Module and Training Function</h2> "
   ]
  },
  {
   "cell_type": "markdown",
   "metadata": {},
   "source": [
    "Define the neural network module or class using the sigmoid activation function: "
   ]
  },
  {
   "cell_type": "code",
   "execution_count": 6,
   "metadata": {},
   "outputs": [],
   "source": [
    "# Build the model with sigmoid function\n",
    "\n",
    "class Net(nn.Module):\n",
    "    \n",
    "    # Constructor\n",
    "    def __init__(self, D_in, H, D_out):\n",
    "        super(Net, self).__init__()\n",
    "        self.linear1 = nn.Linear(D_in, H)\n",
    "        self.linear2 = nn.Linear(H, D_out)\n",
    "    \n",
    "    # Prediction\n",
    "    def forward(self, x):\n",
    "        x = torch.sigmoid(self.linear1(x))  \n",
    "        x = self.linear2(x)\n",
    "        return x"
   ]
  },
  {
   "cell_type": "markdown",
   "metadata": {},
   "source": [
    "\n",
    "Define the neural network module or class using the Tanh activation function:"
   ]
  },
  {
   "cell_type": "code",
   "execution_count": 7,
   "metadata": {},
   "outputs": [],
   "source": [
    "# Build the model with Tanh function\n",
    "\n",
    "class NetTanh(nn.Module):\n",
    "    \n",
    "    # Constructor\n",
    "    def __init__(self, D_in, H, D_out):\n",
    "        super(NetTanh, self).__init__()\n",
    "        self.linear1 = nn.Linear(D_in, H)\n",
    "        self.linear2 = nn.Linear(H, D_out)\n",
    "     \n",
    "    # Prediction\n",
    "    def forward(self, x):\n",
    "        x = torch.tanh(self.linear1(x))  \n",
    "        x = self.linear2(x)\n",
    "        return x"
   ]
  },
  {
   "cell_type": "markdown",
   "metadata": {},
   "source": [
    "Define the neural network module or class using the Relu activation function:"
   ]
  },
  {
   "cell_type": "code",
   "execution_count": 8,
   "metadata": {},
   "outputs": [],
   "source": [
    "# Build the model with Relu function\n",
    "\n",
    "class NetRelu(nn.Module):\n",
    "    \n",
    "    # Constructor\n",
    "    def __init__(self, D_in, H, D_out):\n",
    "        super(NetRelu, self).__init__()\n",
    "        self.linear1 = nn.Linear(D_in, H)\n",
    "        self.linear2 = nn.Linear(H, D_out)\n",
    "    \n",
    "    # Prediction\n",
    "    def forward(self, x):\n",
    "        x = torch.relu(self.linear1(x))  \n",
    "        x = self.linear2(x)\n",
    "        return x"
   ]
  },
  {
   "cell_type": "markdown",
   "metadata": {},
   "source": [
    "Define a function to train the model. In this case, the function returns a Python dictionary to store the training loss for each iteration  and accuracy on the validation data."
   ]
  },
  {
   "cell_type": "code",
   "execution_count": 9,
   "metadata": {},
   "outputs": [],
   "source": [
    "# Define the function for training the model\n",
    "\n",
    "def train(model, criterion, train_loader, validation_loader, optimizer, epochs = 100):\n",
    "    i = 0\n",
    "    useful_stuff = {'training_loss':[], 'validation_accuracy':[]}  \n",
    "\n",
    "    for epoch in range(epochs):\n",
    "        for i, (x, y) in enumerate(train_loader):\n",
    "            optimizer.zero_grad()\n",
    "            z = model(x.view(-1, 28 * 28))\n",
    "            loss = criterion(z, y)\n",
    "            loss.backward()\n",
    "            optimizer.step()\n",
    "            useful_stuff['training_loss'].append(loss.item())\n",
    "            \n",
    "        correct = 0\n",
    "        for x, y in validation_loader:\n",
    "            z = model(x.view(-1, 28 * 28))\n",
    "            _, label=torch.max(z, 1)\n",
    "            correct += (label == y).sum().item()\n",
    "        accuracy = 100 * (correct / len(validation_dataset))\n",
    "        useful_stuff['validation_accuracy'].append(accuracy)\n",
    "        \n",
    "    return useful_stuff"
   ]
  },
  {
   "cell_type": "markdown",
   "metadata": {},
   "source": [
    "<!--Empty Space for separating topics-->"
   ]
  },
  {
   "cell_type": "markdown",
   "metadata": {},
   "source": [
    "<h2 id=\"Makeup_Data\">Make Some Data</h2> "
   ]
  },
  {
   "cell_type": "markdown",
   "metadata": {},
   "source": [
    "Load the training dataset by setting the parameters <code>train</code> to <code>True</code> and convert it to a tensor by placing a transform object in the argument <code>transform</code>."
   ]
  },
  {
   "cell_type": "code",
   "execution_count": 10,
   "metadata": {},
   "outputs": [
    {
     "name": "stdout",
     "output_type": "stream",
     "text": [
      "Downloading http://yann.lecun.com/exdb/mnist/train-images-idx3-ubyte.gz to ./data\\MNIST\\raw\\train-images-idx3-ubyte.gz\n"
     ]
    },
    {
     "data": {
      "application/vnd.jupyter.widget-view+json": {
       "model_id": "7ab34bc57125472fb9fbc7cb271fe243",
       "version_major": 2,
       "version_minor": 0
      },
      "text/plain": [
       "HBox(children=(IntProgress(value=1, bar_style='info', max=1), HTML(value='')))"
      ]
     },
     "metadata": {},
     "output_type": "display_data"
    },
    {
     "name": "stdout",
     "output_type": "stream",
     "text": [
      "Extracting ./data\\MNIST\\raw\\train-images-idx3-ubyte.gz to ./data\\MNIST\\raw\n",
      "Downloading http://yann.lecun.com/exdb/mnist/train-labels-idx1-ubyte.gz to ./data\\MNIST\\raw\\train-labels-idx1-ubyte.gz\n"
     ]
    },
    {
     "data": {
      "application/vnd.jupyter.widget-view+json": {
       "model_id": "ae2f8996599540d59252eac495fa74ae",
       "version_major": 2,
       "version_minor": 0
      },
      "text/plain": [
       "HBox(children=(IntProgress(value=1, bar_style='info', max=1), HTML(value='')))"
      ]
     },
     "metadata": {},
     "output_type": "display_data"
    },
    {
     "name": "stdout",
     "output_type": "stream",
     "text": [
      "Extracting ./data\\MNIST\\raw\\train-labels-idx1-ubyte.gz to ./data\\MNIST\\raw\n",
      "Downloading http://yann.lecun.com/exdb/mnist/t10k-images-idx3-ubyte.gz to ./data\\MNIST\\raw\\t10k-images-idx3-ubyte.gz\n"
     ]
    },
    {
     "data": {
      "application/vnd.jupyter.widget-view+json": {
       "model_id": "9630db8de097446ea624be62ac4b8e2e",
       "version_major": 2,
       "version_minor": 0
      },
      "text/plain": [
       "HBox(children=(IntProgress(value=1, bar_style='info', max=1), HTML(value='')))"
      ]
     },
     "metadata": {},
     "output_type": "display_data"
    },
    {
     "name": "stdout",
     "output_type": "stream",
     "text": [
      "Extracting ./data\\MNIST\\raw\\t10k-images-idx3-ubyte.gz to ./data\\MNIST\\raw\n",
      "Downloading http://yann.lecun.com/exdb/mnist/t10k-labels-idx1-ubyte.gz to ./data\\MNIST\\raw\\t10k-labels-idx1-ubyte.gz\n",
      "\n",
      "\n"
     ]
    },
    {
     "data": {
      "application/vnd.jupyter.widget-view+json": {
       "model_id": "55e9e55650e04fa4901e9435e8f6be06",
       "version_major": 2,
       "version_minor": 0
      },
      "text/plain": [
       "HBox(children=(IntProgress(value=1, bar_style='info', max=1), HTML(value='')))"
      ]
     },
     "metadata": {},
     "output_type": "display_data"
    },
    {
     "name": "stdout",
     "output_type": "stream",
     "text": [
      "Extracting ./data\\MNIST\\raw\\t10k-labels-idx1-ubyte.gz to ./data\\MNIST\\raw\n",
      "Processing...\n"
     ]
    },
    {
     "name": "stderr",
     "output_type": "stream",
     "text": [
      "..\\torch\\csrc\\utils\\tensor_numpy.cpp:141: UserWarning: The given NumPy array is not writeable, and PyTorch does not support non-writeable tensors. This means you can write to the underlying (supposedly non-writeable) NumPy array using the tensor. You may want to copy the array to protect its data or make it writeable before converting it to a tensor. This type of warning will be suppressed for the rest of this program.\n"
     ]
    },
    {
     "name": "stdout",
     "output_type": "stream",
     "text": [
      "Done!\n"
     ]
    }
   ],
   "source": [
    "# Create the training dataset\n",
    "\n",
    "train_dataset = dsets.MNIST(root='./data', train=True, download=True, transform=transforms.ToTensor())"
   ]
  },
  {
   "cell_type": "markdown",
   "metadata": {},
   "source": [
    "Load the testing dataset by setting the parameter <code>train</code> to <code>False</code> and convert it to a tensor by placing a transform object in the argument <code>transform</code>."
   ]
  },
  {
   "cell_type": "code",
   "execution_count": 11,
   "metadata": {},
   "outputs": [],
   "source": [
    "# Create the validation  dataset\n",
    "\n",
    "validation_dataset = dsets.MNIST(root='./data', train=False, download=True, transform=transforms.ToTensor())"
   ]
  },
  {
   "cell_type": "markdown",
   "metadata": {},
   "source": [
    "Create the criterion function:  "
   ]
  },
  {
   "cell_type": "code",
   "execution_count": 12,
   "metadata": {},
   "outputs": [],
   "source": [
    "# Create the criterion function\n",
    "\n",
    "criterion = nn.CrossEntropyLoss()"
   ]
  },
  {
   "cell_type": "markdown",
   "metadata": {},
   "source": [
    "Create the training-data loader and the validation-data loader object:"
   ]
  },
  {
   "cell_type": "code",
   "execution_count": 13,
   "metadata": {},
   "outputs": [],
   "source": [
    "# Create the training data loader and validation data loader object\n",
    "\n",
    "train_loader = torch.utils.data.DataLoader(dataset=train_dataset, batch_size=2000, shuffle=True)\n",
    "validation_loader = torch.utils.data.DataLoader(dataset=validation_dataset, batch_size=5000, shuffle=False)"
   ]
  },
  {
   "cell_type": "markdown",
   "metadata": {},
   "source": [
    "<!--Empty Space for separating topics-->"
   ]
  },
  {
   "cell_type": "markdown",
   "metadata": {},
   "source": [
    "<h2 id=\"Train\">Define the Neural Network, Criterion Function, Optimizer, and Train the Model</h2> "
   ]
  },
  {
   "cell_type": "markdown",
   "metadata": {},
   "source": [
    "Create the criterion function: "
   ]
  },
  {
   "cell_type": "code",
   "execution_count": 14,
   "metadata": {},
   "outputs": [],
   "source": [
    "# Create the criterion function\n",
    "\n",
    "criterion = nn.CrossEntropyLoss()"
   ]
  },
  {
   "cell_type": "markdown",
   "metadata": {},
   "source": [
    "Create the model with 100 hidden neurons:  "
   ]
  },
  {
   "cell_type": "code",
   "execution_count": 15,
   "metadata": {},
   "outputs": [],
   "source": [
    "# Create the model object\n",
    "\n",
    "input_dim = 28 * 28\n",
    "hidden_dim = 100\n",
    "output_dim = 10\n",
    "\n",
    "model = Net(input_dim, hidden_dim, output_dim)"
   ]
  },
  {
   "cell_type": "markdown",
   "metadata": {},
   "source": [
    "<!--Empty Space for separating topics-->"
   ]
  },
  {
   "cell_type": "markdown",
   "metadata": {},
   "source": [
    "<h2 id=\"Test\">Test Sigmoid, Tanh, and Relu</h2> "
   ]
  },
  {
   "cell_type": "markdown",
   "metadata": {},
   "source": [
    "Train the network by using the sigmoid activations function:"
   ]
  },
  {
   "cell_type": "code",
   "execution_count": 16,
   "metadata": {},
   "outputs": [
    {
     "name": "stdout",
     "output_type": "stream",
     "text": [
      "\n",
      "\n"
     ]
    }
   ],
   "source": [
    "# Train a model with sigmoid function\n",
    "\n",
    "learning_rate = 0.01\n",
    "optimizer = torch.optim.SGD(model.parameters(), lr=learning_rate)\n",
    "training_results = train(model, criterion, train_loader, validation_loader, optimizer, epochs=10)"
   ]
  },
  {
   "cell_type": "markdown",
   "metadata": {},
   "source": [
    "Train the network by using the Tanh activations function:"
   ]
  },
  {
   "cell_type": "code",
   "execution_count": 17,
   "metadata": {},
   "outputs": [],
   "source": [
    "# Train a model with Tanh function\n",
    "\n",
    "model_Tanh = NetTanh(input_dim, hidden_dim, output_dim)\n",
    "optimizer = torch.optim.SGD(model_Tanh.parameters(), lr=learning_rate)\n",
    "training_results_tanch = train(model_Tanh, criterion, train_loader, validation_loader, optimizer, epochs=10)"
   ]
  },
  {
   "cell_type": "markdown",
   "metadata": {},
   "source": [
    "Train the network by using the Relu activations function:"
   ]
  },
  {
   "cell_type": "code",
   "execution_count": 18,
   "metadata": {},
   "outputs": [],
   "source": [
    "# Train a model with Relu function\n",
    "\n",
    "modelRelu = NetRelu(input_dim, hidden_dim, output_dim)\n",
    "optimizer = torch.optim.SGD(modelRelu.parameters(), lr=learning_rate)\n",
    "training_results_relu = train(modelRelu,criterion, train_loader, validation_loader, optimizer, epochs=10)"
   ]
  },
  {
   "cell_type": "markdown",
   "metadata": {},
   "source": [
    "<!--Empty Space for separating topics-->"
   ]
  },
  {
   "cell_type": "markdown",
   "metadata": {},
   "source": [
    "<h2 id=\"Result\">Analyze Results</h2> "
   ]
  },
  {
   "cell_type": "markdown",
   "metadata": {},
   "source": [
    "Compare the training loss for each activation: "
   ]
  },
  {
   "cell_type": "code",
   "execution_count": 19,
   "metadata": {},
   "outputs": [
    {
     "data": {
      "image/png": "[encoded data removed]",
      "text/plain": [
       "<Figure size 432x288 with 1 Axes>"
      ]
     },
     "metadata": {
      "needs_background": "light"
     },
     "output_type": "display_data"
    }
   ],
   "source": [
    "# Compare the training loss\n",
    "\n",
    "plt.plot(training_results_tanch['training_loss'], label='tanh')\n",
    "plt.plot(training_results['training_loss'], label='sigmoid')\n",
    "plt.plot(training_results_relu['training_loss'], label='relu')\n",
    "plt.ylabel('loss')\n",
    "plt.title('training loss iterations')\n",
    "plt.legend()\n",
    "plt.show()"
   ]
  },
  {
   "cell_type": "markdown",
   "metadata": {},
   "source": [
    "Compare the validation loss for each model:  "
   ]
  },
  {
   "cell_type": "code",
   "execution_count": 20,
   "metadata": {},
   "outputs": [
    {
     "data": {
      "image/png": "[encoded data removed]",
      "text/plain": [
       "<Figure size 432x288 with 1 Axes>"
      ]
     },
     "metadata": {
      "needs_background": "light"
     },
     "output_type": "display_data"
    }
   ],
   "source": [
    "# Compare the validation loss\n",
    "\n",
    "plt.plot(training_results_tanch['validation_accuracy'], label='tanh')\n",
    "plt.plot(training_results['validation_accuracy'], label='sigmoid')\n",
    "plt.plot(training_results_relu['validation_accuracy'], label='relu') \n",
    "plt.ylabel('validation accuracy')\n",
    "plt.xlabel('epochs ')   \n",
    "plt.legend()\n",
    "plt.show()"
   ]
  },
  {
   "cell_type": "markdown",
   "metadata": {},
   "source": [
    "<!--Empty Space for separating topics-->"
   ]
  },
  {
   "cell_type": "markdown",
   "metadata": {},
   "source": [
    "## what activation function performed best ?"
   ]
  },
  {
   "cell_type": "markdown",
   "metadata": {},
   "source": [
    "<a href=\"http://cocl.us/pytorch_link_bottom\">\n",
    "    <img src=\"https://s3-api.us-geo.objectstorage.softlayer.net/cf-courses-data/CognitiveClass/DL0110EN/notebook_images%20/notebook_bottom%20.png\" width=\"750\" alt=\"PyTorch Bottom\" />"
   ]
  },
  {
   "cell_type": "markdown",
   "metadata": {},
   "source": [
    "<h2>About the Authors:</h2> \n",
    "\n",
    "<a href=\"https://www.linkedin.com/in/joseph-s-50398b136/\">Joseph Santarcangelo</a> has a PhD in Electrical Engineering, his research focused on using machine learning, signal processing, and computer vision to determine how videos impact human cognition. Joseph has been working for IBM since he completed his PhD. "
   ]
  },
  {
   "cell_type": "markdown",
   "metadata": {},
   "source": [
    "Other contributors: <a href=\"https://www.linkedin.com/in/michelleccarey/\">Michelle Carey</a>, <a href=\"www.linkedin.com/in/jiahui-mavis-zhou-a4537814a\">Mavis Zhou</a>"
   ]
  },
  {
   "cell_type": "markdown",
   "metadata": {},
   "source": [
    "<hr>"
   ]
  },
  {
   "cell_type": "markdown",
   "metadata": {},
   "source": [
    "Copyright &copy; 2018 <a href=\"cognitiveclass.ai?utm_source=bducopyrightlink&utm_medium=dswb&utm_campaign=bdu\">cognitiveclass.ai</a>. This notebook and its source code are released under the terms of the <a href=\"https://bigdatauniversity.com/mit-license/\">MIT License</a>."
   ]
  }
 ],
 "metadata": {
  "kernelspec": {
   "display_name": "Python 3",
   "language": "python",
   "name": "python3"
  },
  "language_info": {
   "codemirror_mode": {
    "name": "ipython",
    "version": 3
   },
   "file_extension": ".py",
   "mimetype": "text/x-python",
   "name": "python",
   "nbconvert_exporter": "python",
   "pygments_lexer": "ipython3",
   "version": "3.7.4"
  }
 },
 "nbformat": 4,
 "nbformat_minor": 4
}
