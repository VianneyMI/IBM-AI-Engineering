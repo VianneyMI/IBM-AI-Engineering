{
 "cells": [
  {
   "cell_type": "markdown",
   "metadata": {
    "collapsed": true
   },
   "source": [
    "Welcome to exercise one of week two of “Apache Spark for Scalable Machine Learning on BigData”. In this exercise you’ll read a DataFrame in order to perform a simple statistical analysis. Then you’ll rebalance the dataset. No worries, we’ll explain everything to you, let’s get started.\n",
    "\n",
    "Let’s create a data frame from a remote file by downloading it:\n",
    "\n",
    "\n"
   ]
  },
  {
   "cell_type": "markdown",
   "metadata": {},
   "source": [
    "This notebook is designed to run in a IBM Watson Studio Apache Spark runtime. In case you are running it in an IBM Watson Studio standard runtime or outside Watson Studio, we install Apache Spark in local mode for test purposes only. Please don't use it in production."
   ]
  },
  {
   "cell_type": "code",
   "execution_count": null,
   "metadata": {},
   "outputs": [],
   "source": [
    "!pip install --upgrade pip"
   ]
  },
  {
   "cell_type": "code",
   "execution_count": 1,
   "metadata": {},
   "outputs": [
    {
     "name": "stdout",
     "output_type": "stream",
     "text": [
      "It seems you are note running in a IBM Watson Studio Apache Spark Notebook. You might be running in a IBM Watson Studio Default Runtime or outside IBM Waston Studio. Therefore installing local Apache Spark environment for you. Please do not use in Production\n"
     ]
    },
    {
     "name": "stderr",
     "output_type": "stream",
     "text": [
      "WARNING: pip is being invoked by an old script wrapper. This will fail in a future version of pip.\n",
      "Please see https://github.com/pypa/pip/issues/5599 for advice on fixing the underlying issue.\n",
      "To avoid this problem you can invoke Python with '-m pip' instead of running pip directly.\n"
     ]
    },
    {
     "name": "stdout",
     "output_type": "stream",
     "text": [
      "Requirement already satisfied: pyspark==2.4.5 in c:\\users\\viann\\anaconda3\\lib\\site-packages (2.4.5)\n",
      "Requirement already satisfied: py4j==0.10.7 in c:\\users\\viann\\anaconda3\\lib\\site-packages (from pyspark==2.4.5) (0.10.7)\n"
     ]
    }
   ],
   "source": [
    "if not ('sc' in locals() or 'sc' in globals()):\n",
    "    print('It seems you are note running in a IBM Watson Studio Apache Spark Notebook. You might be running in a IBM Watson Studio Default Runtime or outside IBM Waston Studio. Therefore installing local Apache Spark environment for you. Please do not use in Production')\n",
    "    \n",
    "    from pip import main\n",
    "    main(['install', 'pyspark==2.4.5'])\n",
    "    \n",
    "    from pyspark import SparkContext, SparkConf\n",
    "    from pyspark.sql import SparkSession\n",
    "\n",
    "    sc = SparkContext.getOrCreate(SparkConf().setMaster(\"local[*]\"))\n",
    "    \n",
    "    spark = SparkSession \\\n",
    "        .builder \\\n",
    "        .getOrCreate()"
   ]
  },
  {
   "cell_type": "code",
   "execution_count": 5,
   "metadata": {},
   "outputs": [],
   "source": [
    "# delete files from previous runs\n",
    "#!rm -f hmp.parquet*\n",
    "\n",
    "# download the file containing the data in PARQUET format\n",
    "#!wget https://github.com/IBM/coursera/raw/master/hmp.parquet\n",
    "    \n",
    "# create a dataframe out of it\n",
    "df = spark.read.parquet('hmp.parquet')\n",
    "\n",
    "# register a corresponding query table\n",
    "df.createOrReplaceTempView('df')"
   ]
  },
  {
   "cell_type": "markdown",
   "metadata": {},
   "source": [
    "Let’s have a look at the data set first. This dataset contains sensor recordings from different movement activities as we will see in the next week’s lectures. X, Y and Z contain accelerometer sensor values whereas the class field contains information about which movement has been recorded. The source field is optional and can be used for data lineage since it contains the file name of the original file where the particular row was imported from.\n",
    "\n",
    "More details on the data set can be found here:\n",
    "https://github.com/wchill/HMP_Dataset\n"
   ]
  },
  {
   "cell_type": "code",
   "execution_count": 6,
   "metadata": {},
   "outputs": [
    {
     "name": "stdout",
     "output_type": "stream",
     "text": [
      "+---+---+---+--------------------+-----------+\n",
      "|  x|  y|  z|              source|      class|\n",
      "+---+---+---+--------------------+-----------+\n",
      "| 22| 49| 35|Accelerometer-201...|Brush_teeth|\n",
      "| 22| 49| 35|Accelerometer-201...|Brush_teeth|\n",
      "| 22| 52| 35|Accelerometer-201...|Brush_teeth|\n",
      "| 22| 52| 35|Accelerometer-201...|Brush_teeth|\n",
      "| 21| 52| 34|Accelerometer-201...|Brush_teeth|\n",
      "| 22| 51| 34|Accelerometer-201...|Brush_teeth|\n",
      "| 20| 50| 35|Accelerometer-201...|Brush_teeth|\n",
      "| 22| 52| 34|Accelerometer-201...|Brush_teeth|\n",
      "| 22| 50| 34|Accelerometer-201...|Brush_teeth|\n",
      "| 22| 51| 35|Accelerometer-201...|Brush_teeth|\n",
      "| 21| 51| 33|Accelerometer-201...|Brush_teeth|\n",
      "| 20| 50| 34|Accelerometer-201...|Brush_teeth|\n",
      "| 21| 49| 33|Accelerometer-201...|Brush_teeth|\n",
      "| 21| 49| 33|Accelerometer-201...|Brush_teeth|\n",
      "| 20| 51| 35|Accelerometer-201...|Brush_teeth|\n",
      "| 18| 49| 34|Accelerometer-201...|Brush_teeth|\n",
      "| 19| 48| 34|Accelerometer-201...|Brush_teeth|\n",
      "| 16| 53| 34|Accelerometer-201...|Brush_teeth|\n",
      "| 18| 52| 35|Accelerometer-201...|Brush_teeth|\n",
      "| 18| 51| 32|Accelerometer-201...|Brush_teeth|\n",
      "+---+---+---+--------------------+-----------+\n",
      "only showing top 20 rows\n",
      "\n",
      "root\n",
      " |-- x: integer (nullable = true)\n",
      " |-- y: integer (nullable = true)\n",
      " |-- z: integer (nullable = true)\n",
      " |-- source: string (nullable = true)\n",
      " |-- class: string (nullable = true)\n",
      "\n"
     ]
    }
   ],
   "source": [
    "df.show()\n",
    "df.printSchema()"
   ]
  },
  {
   "cell_type": "markdown",
   "metadata": {},
   "source": [
    "This is a classical classification data set. One thing we always do during data analysis is checking if the classes are balanced. In other words, if there are more or less the same number of example in each class. Let’s find out by a simple aggregation using SQL."
   ]
  },
  {
   "cell_type": "code",
   "execution_count": 7,
   "metadata": {},
   "outputs": [
    {
     "name": "stdout",
     "output_type": "stream",
     "text": [
      "+--------------+--------+\n",
      "|         class|count(1)|\n",
      "+--------------+--------+\n",
      "| Use_telephone|   15225|\n",
      "| Standup_chair|   25417|\n",
      "|      Eat_meat|   31236|\n",
      "|     Getup_bed|   45801|\n",
      "|   Drink_glass|   42792|\n",
      "|    Pour_water|   41673|\n",
      "|     Comb_hair|   23504|\n",
      "|          Walk|   92254|\n",
      "|  Climb_stairs|   40258|\n",
      "| Sitdown_chair|   25036|\n",
      "|   Liedown_bed|   11446|\n",
      "|Descend_stairs|   15375|\n",
      "|   Brush_teeth|   29829|\n",
      "|      Eat_soup|    6683|\n",
      "+--------------+--------+\n",
      "\n"
     ]
    }
   ],
   "source": [
    "spark.sql('select class,count(*) from df group by class').show()"
   ]
  },
  {
   "cell_type": "markdown",
   "metadata": {},
   "source": [
    "As you can see there is quite an imbalance between classes. Before we dig into this, let’s re-write the same query using the DataFrame API – just in case you are not familiar with SQL. As we’ve learned before, it doesn’t matter if you express your queries with SQL or the DataFrame API – it all gets boiled down into the same execution plan optimized by Tungsten and accelerated by Catalyst. You can even mix and match SQL and DataFrame API code if you like.\n",
    "\n",
    "Again, more details on the API can be found here:\n",
    "https://spark.apache.org/docs/latest/api/python/pyspark.sql.html#pyspark.sql.DataFrame\n"
   ]
  },
  {
   "cell_type": "code",
   "execution_count": 8,
   "metadata": {},
   "outputs": [
    {
     "name": "stdout",
     "output_type": "stream",
     "text": [
      "+--------------+-----+\n",
      "|         class|count|\n",
      "+--------------+-----+\n",
      "| Use_telephone|15225|\n",
      "| Standup_chair|25417|\n",
      "|      Eat_meat|31236|\n",
      "|     Getup_bed|45801|\n",
      "|   Drink_glass|42792|\n",
      "|    Pour_water|41673|\n",
      "|     Comb_hair|23504|\n",
      "|          Walk|92254|\n",
      "|  Climb_stairs|40258|\n",
      "| Sitdown_chair|25036|\n",
      "|   Liedown_bed|11446|\n",
      "|Descend_stairs|15375|\n",
      "|   Brush_teeth|29829|\n",
      "|      Eat_soup| 6683|\n",
      "+--------------+-----+\n",
      "\n"
     ]
    }
   ],
   "source": [
    "df.groupBy('class').count().show()"
   ]
  },
  {
   "cell_type": "markdown",
   "metadata": {},
   "source": [
    "Let’s create a bar plot from this data. We’re using the pixidust library, which is Open Source, because of its simplicity. But any other library like matplotlib is fine as well. "
   ]
  },
  {
   "cell_type": "code",
   "execution_count": 10,
   "metadata": {
    "pixiedust": {
     "displayParams": {
      "handlerId": "barChart",
      "keyFields": "class",
      "legend": "true",
      "mpld3": "false",
      "orientation": "horizontal",
      "rendererId": "matplotlib",
      "sortby": "Values ASC",
      "timeseries": "false",
      "valueFields": "count"
     }
    }
   },
   "outputs": [
    {
     "data": {
      "text/html": [
       "<style type=\"text/css\">.pd_warning{display:none;}</style><div class=\"pd_warning\"><em>Hey, there's something awesome here! To see it, open this notebook outside GitHub, in a viewer like Jupyter</em></div><img style=\"max-width:initial !important\" src=\"data:image/png;base64,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\" class=\"pd_save is-viewer-good\">"
      ],
      "text/plain": [
       "<IPython.core.display.HTML object>"
      ]
     },
     "metadata": {},
     "output_type": "display_data"
    }
   ],
   "source": [
    "! pip install pixiedust\n",
    "import pixiedust\n",
    "from pyspark.sql.functions import col\n",
    "counts = df.groupBy('class').count().orderBy('count')\n",
    "display(counts)"
   ]
  },
  {
   "cell_type": "markdown",
   "metadata": {},
   "source": [
    "This looks nice, but it would be nice if we can aggregate further to obtain some quantitative metrics on the imbalance like, min, max, mean and standard deviation. If we divide max by min we get a measure called minmax ration which tells us something about the relationship between the smallest and largest class. Again, let’s first use SQL for those of you familiar with SQL. Don’t be scared, we’re used nested sub-selects, basically selecting from a result of a SQL query like it was a table. All within on SQL statement."
   ]
  },
  {
   "cell_type": "code",
   "execution_count": 11,
   "metadata": {},
   "outputs": [
    {
     "name": "stdout",
     "output_type": "stream",
     "text": [
      "+----+-----+------------------+------------------+-----------------+\n",
      "| min|  max|              mean|            stddev|      minmaxratio|\n",
      "+----+-----+------------------+------------------+-----------------+\n",
      "|6683|92254|31894.928571428572|21284.893716741157|13.80427951518779|\n",
      "+----+-----+------------------+------------------+-----------------+\n",
      "\n"
     ]
    }
   ],
   "source": [
    "spark.sql('''\n",
    "    select \n",
    "        *,\n",
    "        max/min as minmaxratio -- compute minmaxratio based on previously computed values\n",
    "        from (\n",
    "            select \n",
    "                min(ct) as min, -- compute minimum value of all classes\n",
    "                max(ct) as max, -- compute maximum value of all classes\n",
    "                mean(ct) as mean, -- compute mean between all classes\n",
    "                stddev(ct) as stddev -- compute standard deviation between all classes\n",
    "                from (\n",
    "                    select\n",
    "                        count(*) as ct -- count the number of rows per class and rename it to ct\n",
    "                        from df -- access the temporary query table called df backed by DataFrame df\n",
    "                        group by class -- aggrecate over class\n",
    "                )\n",
    "        )   \n",
    "''').show()"
   ]
  },
  {
   "cell_type": "markdown",
   "metadata": {},
   "source": [
    "The same query can be expressed using the DataFrame API. Again, don’t be scared. It’s just a sequential expression of transformation steps. You now an choose which syntax you like better."
   ]
  },
  {
   "cell_type": "code",
   "execution_count": 12,
   "metadata": {},
   "outputs": [
    {
     "name": "stdout",
     "output_type": "stream",
     "text": [
      "+----+-----+------------------+------------------+-----------------+\n",
      "| min|  max|              mean|            stddev|      minmaxratio|\n",
      "+----+-----+------------------+------------------+-----------------+\n",
      "|6683|92254|31894.928571428572|21284.893716741157|13.80427951518779|\n",
      "+----+-----+------------------+------------------+-----------------+\n",
      "\n"
     ]
    }
   ],
   "source": [
    "from pyspark.sql.functions import col, min, max, mean, stddev\n",
    "\n",
    "df \\\n",
    "    .groupBy('class') \\\n",
    "    .count() \\\n",
    "    .select([ \n",
    "        min(col(\"count\")).alias('min'), \n",
    "        max(col(\"count\")).alias('max'), \n",
    "        mean(col(\"count\")).alias('mean'), \n",
    "        stddev(col(\"count\")).alias('stddev') \n",
    "    ]) \\\n",
    "    .select([\n",
    "        col('*'),\n",
    "        (col(\"max\") / col(\"min\")).alias('minmaxratio')\n",
    "    ]) \\\n",
    "    .show()\n"
   ]
  },
  {
   "cell_type": "markdown",
   "metadata": {},
   "source": [
    "Now it’s time for you to work on the data set. First, please create a table of all classes with the respective counts, but this time, please order the table by the count number, ascending."
   ]
  },
  {
   "cell_type": "code",
   "execution_count": null,
   "metadata": {},
   "outputs": [],
   "source": [
    "$$$ your code goes here"
   ]
  },
  {
   "cell_type": "markdown",
   "metadata": {},
   "source": [
    "Pixiedust is a very sophisticated library. It takes care of sorting as well. Please modify the bar chart so that it gets sorted by the number of elements per class, ascending. Hint: It’s an option available in the UI once rendered using the display() function."
   ]
  },
  {
   "cell_type": "code",
   "execution_count": null,
   "metadata": {},
   "outputs": [],
   "source": [
    "$$$ your code goes here"
   ]
  },
  {
   "cell_type": "markdown",
   "metadata": {},
   "source": [
    "Imbalanced classes can cause pain in machine learning. Therefore let’s rebalance. In the flowing we limit the number of elements per class to the amount of the least represented class. This is called undersampling. Other ways of rebalancing can be found here:\n",
    "\n",
    "https://machinelearningmastery.com/tactics-to-combat-imbalanced-classes-in-your-machine-learning-dataset/"
   ]
  },
  {
   "cell_type": "code",
   "execution_count": 19,
   "metadata": {},
   "outputs": [],
   "source": [
    "from pyspark.sql.functions import min\n",
    "\n",
    "# create a lot of distinct classes from the dataset\n",
    "classes = [row[0] for row in df.select('class').distinct().collect()]\n",
    "\n",
    "# compute the number of elements of the smallest class in order to limit the number of samples per calss\n",
    "min = df.groupBy('class').count().select(min('count')).first()[0]\n",
    "\n",
    "# define the result dataframe variable\n",
    "df_balanced = None\n",
    "\n",
    "# iterate over distinct classes\n",
    "for cls in classes:\n",
    "    \n",
    "    # only select examples for the specific class within this iteration\n",
    "    # shuffle the order of the elements (by setting fraction to 1.0 sample works like shuffle)\n",
    "    # return only the first n samples\n",
    "    df_temp = df \\\n",
    "        .filter(\"class = '\"+cls+\"'\") \\\n",
    "        .sample(False, 1.0) \\\n",
    "        .limit(min)\n",
    "    \n",
    "    # on first iteration, assing df_temp to empty df_balanced\n",
    "    if df_balanced == None:    \n",
    "        df_balanced = df_temp\n",
    "    # afterwards, append vertically\n",
    "    else:\n",
    "        df_balanced=df_balanced.union(df_temp)"
   ]
  },
  {
   "cell_type": "markdown",
   "metadata": {},
   "source": [
    "Please verify, by using the code cell below, if df_balanced has the same number of elements per class. You should get 6683 elements per class."
   ]
  },
  {
   "cell_type": "code",
   "execution_count": null,
   "metadata": {},
   "outputs": [],
   "source": [
    "$$$"
   ]
  }
 ],
 "metadata": {
  "kernelspec": {
   "display_name": "Python 3",
   "language": "python",
   "name": "python3"
  },
  "language_info": {
   "codemirror_mode": {
    "name": "ipython",
    "version": 3
   },
   "file_extension": ".py",
   "mimetype": "text/x-python",
   "name": "python",
   "nbconvert_exporter": "python",
   "pygments_lexer": "ipython3",
   "version": "3.7.4"
  }
 },
 "nbformat": 4,
 "nbformat_minor": 1
}
